{
 "cells": [
  {
   "cell_type": "code",
   "execution_count": 2,
   "source": [
    "# https://docs.google.com/document/d/1P4gofoqTn0auSNT4YAFT3Ti5x1bF4Uheyoaij5nrTIg/edit\r\n",
    "# How many entries AKA rows are in the data?\r\n",
    "import pandas as pd\r\n",
    "netflix_data = pd.read_csv('NetflixViewingHistory.csv')\r\n",
    "#netflix_data.head\r\n",
    "\r\n",
    "#Rows in dataset\r\n",
    "len(netflix_data)\r\n",
    "data_rows = netflix_data.shape[0]\r\n",
    "data_rows\r\n",
    "# 1972 Rows in dataset"
   ],
   "outputs": [
    {
     "output_type": "execute_result",
     "data": {
      "text/plain": [
       "1972"
      ]
     },
     "metadata": {},
     "execution_count": 2
    }
   ],
   "metadata": {}
  },
  {
   "cell_type": "code",
   "execution_count": null,
   "source": [
    "\r\n",
    "# How many columns are in the data?\r\n",
    "data_cols = netflix_data.shape[1]\r\n",
    "data_cols\r\n",
    "# 2 Columns in the Dataset\r\n"
   ],
   "outputs": [],
   "metadata": {}
  },
  {
   "cell_type": "code",
   "execution_count": 15,
   "source": [
    "\r\n",
    "# What is the name of the first column in the data?\r\n",
    "col_names = list(netflix_data.columns)\r\n",
    "first_col = col_names[0]\r\n",
    "#First is Title\r\n",
    "second_col = col_names[1]\r\n",
    "#Second is Date"
   ],
   "outputs": [
    {
     "output_type": "execute_result",
     "data": {
      "text/plain": [
       "'Date'"
      ]
     },
     "metadata": {},
     "execution_count": 15
    }
   ],
   "metadata": {}
  },
  {
   "cell_type": "code",
   "execution_count": 6,
   "source": [
    "\r\n",
    "# Q1. How many times was an episode of the show Designated Survivor watched according to the data?\r\n",
    "# Find number of rows with Designated Survivor\r\n",
    " # sum them\r\n",
    "\r\n",
    "titles= netflix_data['Title']\r\n",
    "des_survivor = titles.apply(lambda title: \"Designated Survivor\" in title)\r\n",
    "des_survivor.sum()\r\n",
    "#10 episodes\r\n"
   ],
   "outputs": [
    {
     "output_type": "execute_result",
     "data": {
      "text/plain": [
       "10"
      ]
     },
     "metadata": {},
     "execution_count": 6
    }
   ],
   "metadata": {}
  },
  {
   "cell_type": "code",
   "execution_count": 25,
   "source": [
    "\r\n",
    "# When was the starting date of watching the show Bridgerton according to the data?\r\n",
    "# bridgerton = titles.apply(lambda title: \"Bridgerton\" in title) #is B in title\r\n",
    "# bridgerton\r\n",
    "#first arg: row, second:column\r\n",
    "sorted_bridgerton = netflix_data.loc[[\"Bridgerton\" in title for title in netflix_data[\"Title\"]]].sort_values('Date',ascending=\"True\") #return titles with Bridgerton\r\n",
    "sorted_bridgerton.iloc[0][1]\r\n",
    "# What is the title of the first episode of the show Bridgerton watched according to the data?\r\n",
    "sorted_bridgerton.iloc[0][0]\r\n",
    "# Title    Bridgerton: Season 1: An Affair of Honor\r\n",
    "# Date                                       1/8/21\r\n",
    "\r\n",
    "# When was the last date of watching the show Bridgerton according to the data?\r\n",
    "sorted_bridgerton.iloc[15][1]\r\n",
    "# What is the title of the last episode of the show Bridgerton watched according to the data?\r\n",
    "sorted_bridgerton.iloc[15][0]\r\n",
    "# Title    Bridgerton: Season 2: The Viscount Who Loved Me\r\n",
    "# Date                                              4/4/22\r\n",
    "\r\n",
    "\r\n"
   ],
   "outputs": [
    {
     "output_type": "execute_result",
     "data": {
      "text/plain": [
       "'Bridgerton: Season 2: The Viscount Who Loved Me'"
      ]
     },
     "metadata": {},
     "execution_count": 25
    }
   ],
   "metadata": {}
  }
 ],
 "metadata": {
  "interpreter": {
   "hash": "247ab06e135bb35fa78c5eff31b2a9a0050dcb5fb773c2631d2a29ac689eeccb"
  },
  "kernelspec": {
   "name": "python3",
   "display_name": "Python 3.9.7 64-bit"
  },
  "language_info": {
   "codemirror_mode": {
    "name": "ipython",
    "version": 3
   },
   "file_extension": ".py",
   "mimetype": "text/x-python",
   "name": "python",
   "nbconvert_exporter": "python",
   "pygments_lexer": "ipython3",
   "version": "3.9.7"
  },
  "orig_nbformat": 4
 },
 "nbformat": 4,
 "nbformat_minor": 2
}