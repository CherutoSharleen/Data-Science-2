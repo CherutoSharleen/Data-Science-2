{
 "cells": [
  {
   "cell_type": "code",
   "execution_count": 90,
   "source": [
    "import pandas as pd\r\n",
    "import numpy as np\r\n",
    "import matplotlib.pyplot as plt\r\n",
    "print(\"Hello World\")"
   ],
   "outputs": [
    {
     "output_type": "stream",
     "name": "stdout",
     "text": [
      "Hello World\n"
     ]
    }
   ],
   "metadata": {}
  },
  {
   "cell_type": "code",
   "execution_count": 2,
   "source": [
    "# Series is a 1-D array of indexed Data. Created from List/array\r\n",
    "exams = pd.Series([0.25,0.5,0.75,1.0])\r\n",
    "# exams.values prints the values of the series\r\n",
    "#  exams.index prints the start, stop and step of the range\r\n",
    "exams\r\n",
    "exams.values\r\n",
    "exams.index"
   ],
   "outputs": [
    {
     "output_type": "execute_result",
     "data": {
      "text/plain": [
       "RangeIndex(start=0, stop=4, step=1)"
      ]
     },
     "metadata": {},
     "execution_count": 2
    }
   ],
   "metadata": {}
  },
  {
   "cell_type": "code",
   "execution_count": null,
   "source": [
    "#exams[i] accesses data at that index. 0-indexed\r\n",
    "exams[2]\r\n",
    "exams[0:]\r\n",
    "exams[0:2]\r\n",
    "exams[0::2]#print at step 2, at even numbers\r\n"
   ],
   "outputs": [],
   "metadata": {}
  },
  {
   "cell_type": "code",
   "execution_count": null,
   "source": [
    "#read from the csv file\r\n",
    "exams = pd.read_csv('exam_grades.csv')\r\n",
    "exams"
   ],
   "outputs": [],
   "metadata": {}
  },
  {
   "cell_type": "code",
   "execution_count": null,
   "source": [
    "#columns and rows in the dataset\r\n",
    "#information about the dataframe\r\n",
    "exams.info()\r\n",
    "#rows and column\r\n",
    "print(exams.shape)\r\n",
    "print(exams.shape[0])\r\n",
    "len(exams.columns)"
   ],
   "outputs": [],
   "metadata": {}
  },
  {
   "cell_type": "code",
   "execution_count": 22,
   "source": [
    "print(exams.shape[1])\r\n"
   ],
   "outputs": [
    {
     "output_type": "stream",
     "name": "stdout",
     "text": [
      "3\n"
     ]
    }
   ],
   "metadata": {}
  },
  {
   "cell_type": "code",
   "execution_count": 37,
   "source": [
    "# exams.head() #print first 5 values\r\n",
    "print(exams['student_id'].unique())\r\n",
    "print(exams.student_id.unique())\r\n",
    "print(pd.unique(exams['student_id']))"
   ],
   "outputs": [
    {
     "output_type": "stream",
     "name": "stdout",
     "text": [
      "[ 1  2  3  4  5  6  7  8  9 10]\n",
      "[ 1  2  3  4  5  6  7  8  9 10]\n",
      "[ 1  2  3  4  5  6  7  8  9 10]\n"
     ]
    }
   ],
   "metadata": {}
  },
  {
   "cell_type": "code",
   "execution_count": 45,
   "source": [
    "#count Null Values in the dataframe under column grade\r\n",
    "print(exams['grade'].isna().sum())\r\n",
    "#Count all null values in the data frame\r\n",
    "print(\"The missing values in the dataframe are \",exams.isna().sum().sum())\r\n",
    "#Count all null values in row 1\r\n",
    "exams.loc[[1]].isna().sum().sum()"
   ],
   "outputs": [
    {
     "output_type": "stream",
     "name": "stdout",
     "text": [
      "5\n",
      "The missing values in the dataframe are  5\n"
     ]
    },
    {
     "output_type": "execute_result",
     "data": {
      "text/plain": [
       "0"
      ]
     },
     "metadata": {},
     "execution_count": 45
    }
   ],
   "metadata": {}
  },
  {
   "cell_type": "code",
   "execution_count": 68,
   "source": [
    "exams['grade']=exams.grade.fillna(0)\r\n",
    "#using Numpy\r\n",
    "\r\n",
    "#Pandas: Entire DataFrame\r\n",
    "exams['grade'] = exams['grade'].replace(np.nan, 0)\r\n",
    "\r\n",
    "#Replace entire dataset Zeroes\r\n",
    "exams.fillna(0)\r\n",
    "exams.replace(np.nan,0)\r\n"
   ],
   "outputs": [],
   "metadata": {}
  },
  {
   "cell_type": "code",
   "execution_count": 86,
   "source": [
    "#count grades higher than 70\r\n",
    "results = exams[exams['grade'] >= 70]\r\n",
    "particular_row = exams.loc[exams['grade'] >= 70]\r\n",
    "results.count()"
   ],
   "outputs": [
    {
     "output_type": "execute_result",
     "data": {
      "text/plain": [
       "exam          42\n",
       "student_id    42\n",
       "grade         42\n",
       "dtype: int64"
      ]
     },
     "metadata": {},
     "execution_count": 86
    }
   ],
   "metadata": {}
  },
  {
   "cell_type": "code",
   "execution_count": 89,
   "source": [
    "#find the mean per exam\r\n",
    "exams.groupby(by='exam').grade.mean()"
   ],
   "outputs": [
    {
     "output_type": "execute_result",
     "data": {
      "text/plain": [
       "exam\n",
       "1    71.0\n",
       "2    73.2\n",
       "3    74.4\n",
       "4    75.6\n",
       "5    84.6\n",
       "Name: grade, dtype: float64"
      ]
     },
     "metadata": {},
     "execution_count": 89
    }
   ],
   "metadata": {}
  },
  {
   "cell_type": "code",
   "execution_count": 91,
   "source": [
    "#distribution of exam grades histogram\r\n",
    "plt.hist(exams.grade)"
   ],
   "outputs": [
    {
     "output_type": "execute_result",
     "data": {
      "text/plain": [
       "(array([ 5.,  0.,  0.,  0.,  0.,  1.,  2.,  9., 18., 15.]),\n",
       " array([  0.,  10.,  20.,  30.,  40.,  50.,  60.,  70.,  80.,  90., 100.]),\n",
       " <BarContainer object of 10 artists>)"
      ]
     },
     "metadata": {},
     "execution_count": 91
    },
    {
     "output_type": "display_data",
     "data": {
      "image/png": "[encoded data removed]",
      "text/plain": [
       "<Figure size 432x288 with 1 Axes>"
      ]
     },
     "metadata": {
      "needs_background": "light"
     }
    }
   ],
   "metadata": {}
  }
 ],
 "metadata": {
  "interpreter": {
   "hash": "6d46af94c2bbce495f1e668725902fa517c90b1782bcfe2fce0dd9868df553d3"
  },
  "kernelspec": {
   "name": "python3",
   "display_name": "Python 3.9.7 64-bit ('base': conda)"
  },
  "language_info": {
   "name": "python",
   "version": "3.9.7",
   "mimetype": "text/x-python",
   "codemirror_mode": {
    "name": "ipython",
    "version": 3
   },
   "pygments_lexer": "ipython3",
   "nbconvert_exporter": "python",
   "file_extension": ".py"
  },
  "orig_nbformat": 4
 },
 "nbformat": 4,
 "nbformat_minor": 2
}