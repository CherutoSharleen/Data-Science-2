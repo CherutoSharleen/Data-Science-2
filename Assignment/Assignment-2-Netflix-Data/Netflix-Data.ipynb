{
 "cells": [
  {
   "cell_type": "code",
   "execution_count": 3,
   "metadata": {},
   "outputs": [
    {
     "data": {
      "text/plain": [
       "1972"
      ]
     },
     "execution_count": 3,
     "metadata": {},
     "output_type": "execute_result"
    }
   ],
   "source": [
    "# https://docs.google.com/document/d/1P4gofoqTn0auSNT4YAFT3Ti5x1bF4Uheyoaij5nrTIg/edit\n",
    "# How many entries AKA rows are in the data?\n",
    "import pandas as pd\n",
    "netflix_data = pd.read_csv('NetflixViewingHistory.csv')\n",
    "#netflix_data.head\n",
    "\n",
    "#Rows in dataset\n",
    "len(netflix_data)\n",
    "data_rows = netflix_data.shape[0]\n",
    "data_rows\n",
    "# 1972 Rows in dataset"
   ]
  },
  {
   "cell_type": "code",
   "execution_count": null,
   "metadata": {},
   "outputs": [],
   "source": [
    "\n",
    "# How many columns are in the data?\n",
    "data_cols = netflix_data.shape[1]\n",
    "data_cols\n",
    "# 2 Columns in the Dataset\n"
   ]
  },
  {
   "cell_type": "code",
   "execution_count": 15,
   "metadata": {},
   "outputs": [
    {
     "data": {
      "text/plain": [
       "'Date'"
      ]
     },
     "execution_count": 15,
     "metadata": {},
     "output_type": "execute_result"
    }
   ],
   "source": [
    "\n",
    "# What is the name of the first column in the data?\n",
    "col_names = list(netflix_data.columns)\n",
    "first_col = col_names[0]\n",
    "#First is Title\n",
    "second_col = col_names[1]\n",
    "#Second is Date"
   ]
  },
  {
   "cell_type": "code",
   "execution_count": 13,
   "metadata": {},
   "outputs": [
    {
     "data": {
      "text/plain": [
       "67"
      ]
     },
     "execution_count": 13,
     "metadata": {},
     "output_type": "execute_result"
    }
   ],
   "source": [
    "#How many types did I watch Grey's Anatomy\n",
    "#Step . Just get the titles on Title Column\n",
    "\n",
    "titles= netflix_data['Title']\n",
    "#use .apply() to determine if Grey's Anatomy exists\n",
    "Greys_Anatomy = titles.apply(lambda title: \"Grey's Anatomy\" in title) #return True or False boolean\n",
    "Greys_Anatomy\n",
    "#The output is a panda series that has its own methods\n",
    "#Find Nummber of titles that have Grey's Anatomy\n",
    "Greys_Anatomy.sum()\n",
    "#Watched GA 67 Times"
   ]
  },
  {
   "cell_type": "code",
   "execution_count": 14,
   "metadata": {},
   "outputs": [
    {
     "data": {
      "text/html": [
       "<div>\n",
       "<style scoped>\n",
       "    .dataframe tbody tr th:only-of-type {\n",
       "        vertical-align: middle;\n",
       "    }\n",
       "\n",
       "    .dataframe tbody tr th {\n",
       "        vertical-align: top;\n",
       "    }\n",
       "\n",
       "    .dataframe thead th {\n",
       "        text-align: right;\n",
       "    }\n",
       "</style>\n",
       "<table border=\"1\" class=\"dataframe\">\n",
       "  <thead>\n",
       "    <tr style=\"text-align: right;\">\n",
       "      <th></th>\n",
       "      <th>Title</th>\n",
       "      <th>Date</th>\n",
       "    </tr>\n",
       "  </thead>\n",
       "  <tbody>\n",
       "    <tr>\n",
       "      <th>406</th>\n",
       "      <td>Grey's Anatomy: Season 15: The Winner Takes It...</td>\n",
       "      <td>2/13/21</td>\n",
       "    </tr>\n",
       "    <tr>\n",
       "      <th>407</th>\n",
       "      <td>Grey's Anatomy: Season 15: Help, I'm Alive</td>\n",
       "      <td>2/13/21</td>\n",
       "    </tr>\n",
       "    <tr>\n",
       "      <th>590</th>\n",
       "      <td>Grey's Anatomy: Season 16: Put on a Happy Face</td>\n",
       "      <td>5/26/20</td>\n",
       "    </tr>\n",
       "    <tr>\n",
       "      <th>594</th>\n",
       "      <td>Grey's Anatomy: Season 16: Sing It Again</td>\n",
       "      <td>5/21/20</td>\n",
       "    </tr>\n",
       "    <tr>\n",
       "      <th>595</th>\n",
       "      <td>Grey's Anatomy: Season 16: Love of My Life</td>\n",
       "      <td>5/21/20</td>\n",
       "    </tr>\n",
       "    <tr>\n",
       "      <th>...</th>\n",
       "      <td>...</td>\n",
       "      <td>...</td>\n",
       "    </tr>\n",
       "    <tr>\n",
       "      <th>1306</th>\n",
       "      <td>Grey's Anatomy: Season 1: A Hard Day's Night</td>\n",
       "      <td>4/8/19</td>\n",
       "    </tr>\n",
       "    <tr>\n",
       "      <th>1631</th>\n",
       "      <td>Grey's Anatomy: Season 14: All of Me</td>\n",
       "      <td>8/20/18</td>\n",
       "    </tr>\n",
       "    <tr>\n",
       "      <th>1632</th>\n",
       "      <td>Grey's Anatomy: Season 14: Cold as Ice</td>\n",
       "      <td>8/20/18</td>\n",
       "    </tr>\n",
       "    <tr>\n",
       "      <th>1633</th>\n",
       "      <td>Grey's Anatomy: Season 14: Fight for Your Mind</td>\n",
       "      <td>8/20/18</td>\n",
       "    </tr>\n",
       "    <tr>\n",
       "      <th>1634</th>\n",
       "      <td>Grey's Anatomy: Season 14: Bad Reputation</td>\n",
       "      <td>8/20/18</td>\n",
       "    </tr>\n",
       "  </tbody>\n",
       "</table>\n",
       "<p>67 rows × 2 columns</p>\n",
       "</div>"
      ],
      "text/plain": [
       "                                                  Title     Date\n",
       "406   Grey's Anatomy: Season 15: The Winner Takes It...  2/13/21\n",
       "407          Grey's Anatomy: Season 15: Help, I'm Alive  2/13/21\n",
       "590      Grey's Anatomy: Season 16: Put on a Happy Face  5/26/20\n",
       "594            Grey's Anatomy: Season 16: Sing It Again  5/21/20\n",
       "595          Grey's Anatomy: Season 16: Love of My Life  5/21/20\n",
       "...                                                 ...      ...\n",
       "1306       Grey's Anatomy: Season 1: A Hard Day's Night   4/8/19\n",
       "1631               Grey's Anatomy: Season 14: All of Me  8/20/18\n",
       "1632             Grey's Anatomy: Season 14: Cold as Ice  8/20/18\n",
       "1633     Grey's Anatomy: Season 14: Fight for Your Mind  8/20/18\n",
       "1634          Grey's Anatomy: Season 14: Bad Reputation  8/20/18\n",
       "\n",
       "[67 rows x 2 columns]"
      ]
     },
     "execution_count": 14,
     "metadata": {},
     "output_type": "execute_result"
    }
   ],
   "source": [
    "#Which Episodes of Grey's Anatomy watched?\n",
    "# Use .loc[ ]  -- use [ ] NOT ()\n",
    "#First Arg: Which rows to select\n",
    "#Second Arg: Which Columns to select\n",
    "#Boolean To see if the row matches our condition\n",
    "# Two [] because of loc and a list comprehension\n",
    "# Iterate through each row and specifies which row to select\n",
    "netflix_data.loc[[\"Grey's Anatomy\" in title for title in netflix_data[\"Title\"]]]\n",
    "#Return multiple columns that is pandas Data Frame\n"
   ]
  },
  {
   "cell_type": "code",
   "execution_count": 16,
   "metadata": {},
   "outputs": [
    {
     "data": {
      "text/plain": [
       "406     Grey's Anatomy: Season 15: The Winner Takes It...\n",
       "407            Grey's Anatomy: Season 15: Help, I'm Alive\n",
       "590        Grey's Anatomy: Season 16: Put on a Happy Face\n",
       "594              Grey's Anatomy: Season 16: Sing It Again\n",
       "595            Grey's Anatomy: Season 16: Love of My Life\n",
       "                              ...                        \n",
       "1306         Grey's Anatomy: Season 1: A Hard Day's Night\n",
       "1631                 Grey's Anatomy: Season 14: All of Me\n",
       "1632               Grey's Anatomy: Season 14: Cold as Ice\n",
       "1633       Grey's Anatomy: Season 14: Fight for Your Mind\n",
       "1634            Grey's Anatomy: Season 14: Bad Reputation\n",
       "Name: Title, Length: 67, dtype: object"
      ]
     },
     "execution_count": 16,
     "metadata": {},
     "output_type": "execute_result"
    }
   ],
   "source": [
    "#For only the title\n",
    "#Returns the Data Series\n",
    "netflix_data.loc[[\"Grey's Anatomy\" in title for title in netflix_data[\"Title\"]],\"Title\"]"
   ]
  },
  {
   "cell_type": "code",
   "execution_count": 29,
   "metadata": {},
   "outputs": [
    {
     "data": {
      "text/plain": [
       "'6/28/21'"
      ]
     },
     "execution_count": 29,
     "metadata": {},
     "output_type": "execute_result"
    }
   ],
   "source": [
    "#When did she watch Kim's Convenience\n",
    "Kims_Conv = netflix_data.loc[[\"Kim's Convenience\" in title for title in netflix_data[\"Title\"]]]\n",
    "#sort values() in pandas\n",
    "# Step 2: Sort By the Date\n",
    "# Step 3: Get just the Date\n",
    "sorted_Kims_Conv = Kims_Conv.sort_values(\"Date\",ascending=False)[\"Date\"] #sort date in ascending order. \n",
    "#Get latest Date: Select Row with Index 0\n",
    "sorted_Kims_Conv.iloc[0]\n",
    "#can directly index key that we want."
   ]
  },
  {
   "cell_type": "code",
   "execution_count": 35,
   "metadata": {},
   "outputs": [
    {
     "data": {
      "text/plain": [
       "\"Kim's Convenience: Season 5: Family Business\""
      ]
     },
     "execution_count": 35,
     "metadata": {},
     "output_type": "execute_result"
    }
   ],
   "source": [
    "#Last Episode of Kim's convenience watched.\n",
    "last_watched_Kims_Conv = Kims_Conv.sort_values(\"Date\",ascending=False)[\"Title\"] #sort date in ascending order. \n",
    "#Get latest Date: Select Row with Index 0\n",
    "last_watched_Kims_Conv.iloc[0]\n"
   ]
  },
  {
   "cell_type": "code",
   "execution_count": null,
   "metadata": {},
   "outputs": [],
   "source": [
    "#Q. What Percentage consists of watching shows "
   ]
  },
  {
   "cell_type": "code",
   "execution_count": 24,
   "metadata": {},
   "outputs": [
    {
     "data": {
      "text/html": [
       "<div>\n",
       "<style scoped>\n",
       "    .dataframe tbody tr th:only-of-type {\n",
       "        vertical-align: middle;\n",
       "    }\n",
       "\n",
       "    .dataframe tbody tr th {\n",
       "        vertical-align: top;\n",
       "    }\n",
       "\n",
       "    .dataframe thead th {\n",
       "        text-align: right;\n",
       "    }\n",
       "</style>\n",
       "<table border=\"1\" class=\"dataframe\">\n",
       "  <thead>\n",
       "    <tr style=\"text-align: right;\">\n",
       "      <th></th>\n",
       "      <th>Title</th>\n",
       "      <th>Date</th>\n",
       "    </tr>\n",
       "  </thead>\n",
       "  <tbody>\n",
       "    <tr>\n",
       "      <th>#black</th>\n",
       "      <td>NaN</td>\n",
       "      <td>NaN</td>\n",
       "    </tr>\n",
       "  </tbody>\n",
       "</table>\n",
       "</div>"
      ],
      "text/plain": [
       "       Title Date\n",
       "#black   NaN  NaN"
      ]
     },
     "execution_count": 24,
     "metadata": {},
     "output_type": "execute_result"
    }
   ],
   "source": [
    "\n",
    "# Q1. How many times was an episode of the show Designated Survivor watched according to the data?\n",
    "# Find number of rows with Designated Survivor \n",
    "# When was the starting date of watching the show Bridgerton according to the data?\n",
    "# What is the title of the first episode of the show Bridgerton watched according to the data?\n",
    "# When was the last date of watching the show Bridgerton according to the data?\n",
    "# What is the title of the last episode of the show Bridgerton watched according to the data?"
   ]
  }
 ],
 "metadata": {
  "interpreter": {
   "hash": "a077222d77dfe082b8f1dd562ad70e458ac2ab76993a0b248ab0476e32e9e8dd"
  },
  "kernelspec": {
   "display_name": "Python 3.9.7 ('base')",
   "language": "python",
   "name": "python3"
  },
  "language_info": {
   "codemirror_mode": {
    "name": "ipython",
    "version": 3
   },
   "file_extension": ".py",
   "mimetype": "text/x-python",
   "name": "python",
   "nbconvert_exporter": "python",
   "pygments_lexer": "ipython3",
   "version": "3.9.7"
  },
  "orig_nbformat": 4
 },
 "nbformat": 4,
 "nbformat_minor": 2
}
