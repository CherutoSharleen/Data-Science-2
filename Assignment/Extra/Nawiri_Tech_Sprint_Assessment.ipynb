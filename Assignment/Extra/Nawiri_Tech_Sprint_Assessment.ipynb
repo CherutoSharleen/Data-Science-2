{
  "nbformat": 4,
  "nbformat_minor": 0,
  "metadata": {
    "colab": {
      "provenance": []
    },
    "kernelspec": {
      "name": "python3",
      "display_name": "Python 3"
    },
    "language_info": {
      "name": "python"
    }
  },
  "cells": [
    {
      "cell_type": "markdown",
      "source": [
        "# Python Assessment\n",
        "You are required to go through the four problems below. \n",
        "Where asked, name variables and write functions as instructed. \n",
        "You are allowed to research on the questions, and refresh on concepts. \n",
        "\n",
        "Best of luck!\n",
        "\n",
        "\n",
        "### How to run the code\n",
        "\n",
        "This is an executable [Colab notebook](https://colab.research.google.com/) which is like the [Jupyter Notebook IDE](https://jupyter.org/)(don't worry if these terms seem unfamiliar; we don't require to learn a lot about them in order to use them). You can _run_ this tutorial and experiment with the code examples in a couple of ways: *using free online resources* (recommended) or *on your computer*.\n",
        "\n",
        "#### Option 1: Running using Colab (1-click, recommended)\n",
        "\n",
        "The easiest way to start executing the code is through Google Colab, but you'll need to create an account on [Google Colab](https://colab.research.google.com). Once this file is open, you will need to **create a copy of this file** in your Google Drive by clicking on File->Save a Copy in Drive, where you'll be able to edit, and run the file separately.\n",
        "\n",
        "\n",
        "#### Option 2: Running on your computer locally\n",
        "\n",
        "To run the code on your computer locally, you'll need to set up [Python](https://www.python.org), download the notebook and install the required libraries. We recommend using the [Conda](https://docs.conda.io/projects/conda/en/latest/user-guide/install/) distribution of Python. Download this notebook and you will be able to run it on your machine.\n"
      ],
      "metadata": {
        "id": "kxAFONmqSJA5"
      }
    },
    {
      "cell_type": "markdown",
      "source": [
        "## Problem 1 \n",
        "\n",
        "In this scenario, three colleagues are travelling for a business trip. The price for each ticket to their destination came in at 723.28 Rwandan Franc. The friends decide to split the amount equally, after adding meals which would cost 30% of the price of one ticket. Calculate the cost of meals, the total amount paid, and each friend's share, then output a message saying \"Each person paid: \" followed by the resulting number."
      ],
      "metadata": {
        "id": "GoXLORjpVD9W"
      }
    },
    {
      "cell_type": "code",
      "source": [
        "ticket= 723.28\n",
        "meals=(30/100)*ticket\n",
        "total = (ticket*3) + meals\n",
        "print(f\"Each person paid:\", total/3)"
      ],
      "metadata": {
        "id": "7Z3BhKYH7V10",
        "colab": {
          "base_uri": "https://localhost:8080/"
        },
        "outputId": "79712801-6738-4c11-a09a-268e616f49f2"
      },
      "execution_count": 1,
      "outputs": [
        {
          "output_type": "stream",
          "name": "stdout",
          "text": [
            "Each person paid: 795.6080000000001\n"
          ]
        }
      ]
    },
    {
      "cell_type": "markdown",
      "source": [
        "## Problem 2\n",
        "\n",
        "Suppose you have been assigned the task of creating a program of calculating the income tax of employees in a company you work with in Kenya. You have done your research and found the percentage tax against income to be as follows:\n",
        "\n",
        "----------------------------------------------------------------------------------------------------\n",
        "        Tax Band                             Annual                       Monthly                    Rates               \n",
        "        ----------------------------------------------------------------------------------------------------\n",
        "        On the First                         KSh 288000                   KSh 24000                  10%\n",
        "        On the Next                          KSh 100000                   KSh 8333                   25%         \n",
        "        On all income in excess of           KSh 388000                   KSh 32333                  30%\n",
        "             \n",
        "        ----------------------------------------------------------------------------------------------------\n",
        "Create a function that would be able to calculate and return the annual income tax."
      ],
      "metadata": {
        "id": "ZGvR4TH3mUS6"
      }
    },
    {
      "cell_type": "code",
      "source": [
        "def income_tax(i):\n",
        "  if i<= 288000:\n",
        "      tax= (i*0.1)\n",
        "\n",
        "  elif (i>288000) & (i<=388000):\n",
        "      tax=24000 + (i-288000)*0.25 \n",
        "\n",
        "  else:\n",
        "      tax=24000 + 8333 + (i-388000)*0.3\n",
        "\n",
        "  return tax\n",
        "  "
      ],
      "metadata": {
        "id": "mUUW-NVh6AvP"
      },
      "execution_count": 2,
      "outputs": []
    },
    {
      "cell_type": "markdown",
      "source": [
        "You then received the `annual_salaries` for employees at the company as the following dictionary. You are supposed to calculate their income taxes. "
      ],
      "metadata": {
        "id": "bMJNdrUD6BR0"
      }
    },
    {
      "cell_type": "code",
      "source": [
        "salaries={1: 108552, 2: 72679, 3: 57198, 4: 271296, 5: 99722, 6: 251814, 7: 210458, 8: 247305, 9: 202855, 10: 117166, 11: 152529, 12: 273912,\n",
        "          13: 184420, 14: 236298, 15: 50508, 16: 206862, 17: 72062, 18: 258068, 19: 78794, 20: 117025, 21: 284822, 22: 378505, 23: 370294,\n",
        "          24: 302483,25: 307528, 26: 315354, 27: 283511, 28: 299262, 29: 333080, 30: 311823, 31: 371120, 32: 347659, 33: 287133, 34: 376662,\n",
        "          35: 350110, 36: 307104, 37: 367396, 38: 307843, 39: 361603, 40: 375365, 41: 293453, 42: 377251, 43: 303910, 44: 325292, 45: 282092,\n",
        "          46: 366539, 47: 292615, 48: 296441, 49: 323248, 50: 367250, 51: 317307, 52: 347091, 53: 370317, 54: 341956, 55: 355902, 56: 323268,\n",
        "          57: 308002, 58: 373975, 59: 297598, 60: 343184, 61: 371680, 62: 301567, 63: 312669, 64: 290943, 65: 333425, 66: 324122, 67: 334473,\n",
        "          68: 376202, 69: 312642, 70: 292535, 71: 282528, 72: 353944, 73: 315266, 74: 320626, 75: 326936, 76: 371358, 77: 316628, 78: 287070,\n",
        "          79: 289512, 80: 352505, 81: 354667, 82: 370024, 83: 322802, 84: 281877, 85: 374898, 86: 422116, 87: 430919, 88: 504574, 89: 558862,\n",
        "          90: 407170, 91: 590550, 92: 550552, 93: 624273, 94: 592890, 95: 664253, 96: 750000, 97: 700000, 98: 700000, 99: 700000, 100: 700000}\n",
        "\n",
        "import pandas as pd\n",
        "df=pd.DataFrame(salaries.items(), columns=['Person', 'Annual_Salary'])\n",
        "df.head()"
      ],
      "metadata": {
        "id": "ANdG5ZdelZtc",
        "colab": {
          "base_uri": "https://localhost:8080/",
          "height": 206
        },
        "outputId": "8b120c7c-a7c9-4e1a-bbdd-97c71ac90e14"
      },
      "execution_count": 3,
      "outputs": [
        {
          "output_type": "execute_result",
          "data": {
            "text/plain": [
              "   Person  Annual_Salary\n",
              "0       1         108552\n",
              "1       2          72679\n",
              "2       3          57198\n",
              "3       4         271296\n",
              "4       5          99722"
            ],
            "text/html": [
              "\n",
              "  <div id=\"df-8803682d-2c43-4973-83e6-c5023e22c5fa\">\n",
              "    <div class=\"colab-df-container\">\n",
              "      <div>\n",
              "<style scoped>\n",
              "    .dataframe tbody tr th:only-of-type {\n",
              "        vertical-align: middle;\n",
              "    }\n",
              "\n",
              "    .dataframe tbody tr th {\n",
              "        vertical-align: top;\n",
              "    }\n",
              "\n",
              "    .dataframe thead th {\n",
              "        text-align: right;\n",
              "    }\n",
              "</style>\n",
              "<table border=\"1\" class=\"dataframe\">\n",
              "  <thead>\n",
              "    <tr style=\"text-align: right;\">\n",
              "      <th></th>\n",
              "      <th>Person</th>\n",
              "      <th>Annual_Salary</th>\n",
              "    </tr>\n",
              "  </thead>\n",
              "  <tbody>\n",
              "    <tr>\n",
              "      <th>0</th>\n",
              "      <td>1</td>\n",
              "      <td>108552</td>\n",
              "    </tr>\n",
              "    <tr>\n",
              "      <th>1</th>\n",
              "      <td>2</td>\n",
              "      <td>72679</td>\n",
              "    </tr>\n",
              "    <tr>\n",
              "      <th>2</th>\n",
              "      <td>3</td>\n",
              "      <td>57198</td>\n",
              "    </tr>\n",
              "    <tr>\n",
              "      <th>3</th>\n",
              "      <td>4</td>\n",
              "      <td>271296</td>\n",
              "    </tr>\n",
              "    <tr>\n",
              "      <th>4</th>\n",
              "      <td>5</td>\n",
              "      <td>99722</td>\n",
              "    </tr>\n",
              "  </tbody>\n",
              "</table>\n",
              "</div>\n",
              "      <button class=\"colab-df-convert\" onclick=\"convertToInteractive('df-8803682d-2c43-4973-83e6-c5023e22c5fa')\"\n",
              "              title=\"Convert this dataframe to an interactive table.\"\n",
              "              style=\"display:none;\">\n",
              "        \n",
              "  <svg xmlns=\"http://www.w3.org/2000/svg\" height=\"24px\"viewBox=\"0 0 24 24\"\n",
              "       width=\"24px\">\n",
              "    <path d=\"M0 0h24v24H0V0z\" fill=\"none\"/>\n",
              "    <path d=\"M18.56 5.44l.94 2.06.94-2.06 2.06-.94-2.06-.94-.94-2.06-.94 2.06-2.06.94zm-11 1L8.5 8.5l.94-2.06 2.06-.94-2.06-.94L8.5 2.5l-.94 2.06-2.06.94zm10 10l.94 2.06.94-2.06 2.06-.94-2.06-.94-.94-2.06-.94 2.06-2.06.94z\"/><path d=\"M17.41 7.96l-1.37-1.37c-.4-.4-.92-.59-1.43-.59-.52 0-1.04.2-1.43.59L10.3 9.45l-7.72 7.72c-.78.78-.78 2.05 0 2.83L4 21.41c.39.39.9.59 1.41.59.51 0 1.02-.2 1.41-.59l7.78-7.78 2.81-2.81c.8-.78.8-2.07 0-2.86zM5.41 20L4 18.59l7.72-7.72 1.47 1.35L5.41 20z\"/>\n",
              "  </svg>\n",
              "      </button>\n",
              "      \n",
              "  <style>\n",
              "    .colab-df-container {\n",
              "      display:flex;\n",
              "      flex-wrap:wrap;\n",
              "      gap: 12px;\n",
              "    }\n",
              "\n",
              "    .colab-df-convert {\n",
              "      background-color: #E8F0FE;\n",
              "      border: none;\n",
              "      border-radius: 50%;\n",
              "      cursor: pointer;\n",
              "      display: none;\n",
              "      fill: #1967D2;\n",
              "      height: 32px;\n",
              "      padding: 0 0 0 0;\n",
              "      width: 32px;\n",
              "    }\n",
              "\n",
              "    .colab-df-convert:hover {\n",
              "      background-color: #E2EBFA;\n",
              "      box-shadow: 0px 1px 2px rgba(60, 64, 67, 0.3), 0px 1px 3px 1px rgba(60, 64, 67, 0.15);\n",
              "      fill: #174EA6;\n",
              "    }\n",
              "\n",
              "    [theme=dark] .colab-df-convert {\n",
              "      background-color: #3B4455;\n",
              "      fill: #D2E3FC;\n",
              "    }\n",
              "\n",
              "    [theme=dark] .colab-df-convert:hover {\n",
              "      background-color: #434B5C;\n",
              "      box-shadow: 0px 1px 3px 1px rgba(0, 0, 0, 0.15);\n",
              "      filter: drop-shadow(0px 1px 2px rgba(0, 0, 0, 0.3));\n",
              "      fill: #FFFFFF;\n",
              "    }\n",
              "  </style>\n",
              "\n",
              "      <script>\n",
              "        const buttonEl =\n",
              "          document.querySelector('#df-8803682d-2c43-4973-83e6-c5023e22c5fa button.colab-df-convert');\n",
              "        buttonEl.style.display =\n",
              "          google.colab.kernel.accessAllowed ? 'block' : 'none';\n",
              "\n",
              "        async function convertToInteractive(key) {\n",
              "          const element = document.querySelector('#df-8803682d-2c43-4973-83e6-c5023e22c5fa');\n",
              "          const dataTable =\n",
              "            await google.colab.kernel.invokeFunction('convertToInteractive',\n",
              "                                                     [key], {});\n",
              "          if (!dataTable) return;\n",
              "\n",
              "          const docLinkHtml = 'Like what you see? Visit the ' +\n",
              "            '<a target=\"_blank\" href=https://colab.research.google.com/notebooks/data_table.ipynb>data table notebook</a>'\n",
              "            + ' to learn more about interactive tables.';\n",
              "          element.innerHTML = '';\n",
              "          dataTable['output_type'] = 'display_data';\n",
              "          await google.colab.output.renderOutput(dataTable, element);\n",
              "          const docLink = document.createElement('div');\n",
              "          docLink.innerHTML = docLinkHtml;\n",
              "          element.appendChild(docLink);\n",
              "        }\n",
              "      </script>\n",
              "    </div>\n",
              "  </div>\n",
              "  "
            ]
          },
          "metadata": {},
          "execution_count": 3
        }
      ]
    },
    {
      "cell_type": "markdown",
      "source": [
        "Use the function above to return a list of the respective taxes-`income_taxes`."
      ],
      "metadata": {
        "id": "HxYOyVM0m6uO"
      }
    },
    {
      "cell_type": "code",
      "source": [
        "# df['Income_taxes'] = income_tax(df['Annual_Salary'])\n",
        "# df.tail()\n",
        "test = df['Annual_Salary'].head()\n",
        "for i, salary in enumerate(test):\n",
        "  print(f\"Income Tax for Person {i+1} is {income_tax(salary):.2f}\")\n"
      ],
      "metadata": {
        "id": "DH9_b_-5HvPq",
        "colab": {
          "base_uri": "https://localhost:8080/"
        },
        "outputId": "83925b1a-3b2f-4238-c610-69373cc69fa0"
      },
      "execution_count": 15,
      "outputs": [
        {
          "output_type": "stream",
          "name": "stdout",
          "text": [
            "Income Tax for Person 1 is 10855.20\n",
            "Income Tax for Person 2 is 7267.90\n",
            "Income Tax for Person 3 is 5719.80\n",
            "Income Tax for Person 4 is 27129.60\n",
            "Income Tax for Person 5 is 9972.20\n"
          ]
        }
      ]
    },
    {
      "cell_type": "markdown",
      "source": [
        "## Problem 3\n",
        "Convert the `income_taxes` list to a numpy array\n",
        "\n",
        "Now, suppose the company wanted you to calculate the total taxes that their employees pay. How would you do this using a numpy function. Calculate this and store in a variable `total_taxes` \n",
        "\n",
        "Using the total taxes paid, could you calculate the mean tax paid by employees? Calculate this and store in a variable `mean_tax`\n",
        "\n",
        "Using the values in the array, calculate the [mid-range](http://content.nroc.org/DevelopmentalMath/COURSE_TEXT2_RESOURCE/U08_L2_T1_text_final.html#:~:text=It%20is%20also%20useful%20to%20know%20what%20number%20is%20mid%2Dway%20between%20the%20least%20value%20and%20the%20greatest%20value%20of%20the%20data%20set.%20This%20number%20is%20called%20the%20midrange.%20To%20find%20the%20midrange%2C%20add%20together%20the%20least%20and%20greatest%20values%20and%20divide%20by%20two%2C%20or%20in%20other%20words%2C%20find%20the%20mean%20of%20the%20least%20and%20greatest%20values.) of the income taxes provided. Store in a variable `midrange_tax`\n",
        "\n",
        "The company also wants to find out the unique figures paid as tax by their employees. Use a numpy function to find only the unique values, and return them as a numpy array `unique_taxes`."
      ],
      "metadata": {
        "id": "Zjt_ZOCNHkcq"
      }
    },
    {
      "cell_type": "code",
      "source": [],
      "metadata": {
        "id": "46HT51oNKyNB"
      },
      "execution_count": null,
      "outputs": []
    },
    {
      "cell_type": "code",
      "source": [],
      "metadata": {
        "id": "1La_SDCoW_n1"
      },
      "execution_count": null,
      "outputs": []
    },
    {
      "cell_type": "code",
      "source": [],
      "metadata": {
        "id": "MGHlW1NEW__t"
      },
      "execution_count": null,
      "outputs": []
    },
    {
      "cell_type": "code",
      "source": [],
      "metadata": {
        "id": "M7UFphRkXAfF"
      },
      "execution_count": null,
      "outputs": []
    },
    {
      "cell_type": "code",
      "source": [],
      "metadata": {
        "id": "nHsEgDqf2Q13"
      },
      "execution_count": null,
      "outputs": []
    },
    {
      "cell_type": "markdown",
      "source": [
        "Now, out of curiosity, you want to see the disparities in income among the employees. Using pyplot and appropriate income bands, visualize the data in a histogram, including the mean and median. Use appropriate labels and a legend."
      ],
      "metadata": {
        "id": "uDvMvrzKfqXB"
      }
    },
    {
      "cell_type": "code",
      "source": [],
      "metadata": {
        "id": "Tu5juGg5gb4P"
      },
      "execution_count": null,
      "outputs": []
    },
    {
      "cell_type": "markdown",
      "source": [
        "## Problem 4"
      ],
      "metadata": {
        "id": "bjNSxQwRXA2V"
      }
    },
    {
      "cell_type": "markdown",
      "source": [
        "Read and load the [Netflix dataset](https://) from the link and name the dataframe `netflix`. We are going to use pandas to analyze the dataset."
      ],
      "metadata": {
        "id": "SToLF0dJYb85"
      }
    },
    {
      "cell_type": "code",
      "source": [
        "import pandas as pd"
      ],
      "metadata": {
        "id": "voYC8d9XXhWO"
      },
      "execution_count": null,
      "outputs": []
    },
    {
      "cell_type": "code",
      "source": [
        "netflix = pd.read_csv('https://raw.githubusercontent.com/byui-cse/cse450-course/master/data/netflix_titles.csv')\n",
        "netflix.head()\n"
      ],
      "metadata": {
        "colab": {
          "base_uri": "https://localhost:8080/",
          "height": 424
        },
        "id": "ogxzm4mWXpOt",
        "outputId": "0274c192-0f81-4bd0-f768-1906cefad337"
      },
      "execution_count": null,
      "outputs": [
        {
          "output_type": "execute_result",
          "data": {
            "text/plain": [
              "    show_id     type                                    title  \\\n",
              "0  81145628    Movie  Norm of the North: King Sized Adventure   \n",
              "1  80117401    Movie               Jandino: Whatever it Takes   \n",
              "2  70234439  TV Show                       Transformers Prime   \n",
              "3  80058654  TV Show         Transformers: Robots in Disguise   \n",
              "4  80125979    Movie                             #realityhigh   \n",
              "\n",
              "                   director  \\\n",
              "0  Richard Finn, Tim Maltby   \n",
              "1                       NaN   \n",
              "2                       NaN   \n",
              "3                       NaN   \n",
              "4          Fernando Lebrija   \n",
              "\n",
              "                                                cast  \\\n",
              "0  Alan Marriott, Andrew Toth, Brian Dobson, Cole...   \n",
              "1                                   Jandino Asporaat   \n",
              "2  Peter Cullen, Sumalee Montano, Frank Welker, J...   \n",
              "3  Will Friedle, Darren Criss, Constance Zimmer, ...   \n",
              "4  Nesta Cooper, Kate Walsh, John Michael Higgins...   \n",
              "\n",
              "                                    country         date_added  release_year  \\\n",
              "0  United States, India, South Korea, China  September 9, 2019          2019   \n",
              "1                            United Kingdom  September 9, 2016          2016   \n",
              "2                             United States  September 8, 2018          2013   \n",
              "3                             United States  September 8, 2018          2016   \n",
              "4                             United States  September 8, 2017          2017   \n",
              "\n",
              "     rating  duration                           listed_in  \\\n",
              "0     TV-PG    90 min  Children & Family Movies, Comedies   \n",
              "1     TV-MA    94 min                     Stand-Up Comedy   \n",
              "2  TV-Y7-FV  1 Season                            Kids' TV   \n",
              "3     TV-Y7  1 Season                            Kids' TV   \n",
              "4     TV-14    99 min                            Comedies   \n",
              "\n",
              "                                         description  \n",
              "0  Before planning an awesome wedding for his gra...  \n",
              "1  Jandino Asporaat riffs on the challenges of ra...  \n",
              "2  With the help of three human allies, the Autob...  \n",
              "3  When a prison ship crash unleashes hundreds of...  \n",
              "4  When nerdy high schooler Dani finally attracts...  "
            ],
            "text/html": [
              "\n",
              "  <div id=\"df-c0bd5ff0-f341-4e00-8599-c5fe99912578\">\n",
              "    <div class=\"colab-df-container\">\n",
              "      <div>\n",
              "<style scoped>\n",
              "    .dataframe tbody tr th:only-of-type {\n",
              "        vertical-align: middle;\n",
              "    }\n",
              "\n",
              "    .dataframe tbody tr th {\n",
              "        vertical-align: top;\n",
              "    }\n",
              "\n",
              "    .dataframe thead th {\n",
              "        text-align: right;\n",
              "    }\n",
              "</style>\n",
              "<table border=\"1\" class=\"dataframe\">\n",
              "  <thead>\n",
              "    <tr style=\"text-align: right;\">\n",
              "      <th></th>\n",
              "      <th>show_id</th>\n",
              "      <th>type</th>\n",
              "      <th>title</th>\n",
              "      <th>director</th>\n",
              "      <th>cast</th>\n",
              "      <th>country</th>\n",
              "      <th>date_added</th>\n",
              "      <th>release_year</th>\n",
              "      <th>rating</th>\n",
              "      <th>duration</th>\n",
              "      <th>listed_in</th>\n",
              "      <th>description</th>\n",
              "    </tr>\n",
              "  </thead>\n",
              "  <tbody>\n",
              "    <tr>\n",
              "      <th>0</th>\n",
              "      <td>81145628</td>\n",
              "      <td>Movie</td>\n",
              "      <td>Norm of the North: King Sized Adventure</td>\n",
              "      <td>Richard Finn, Tim Maltby</td>\n",
              "      <td>Alan Marriott, Andrew Toth, Brian Dobson, Cole...</td>\n",
              "      <td>United States, India, South Korea, China</td>\n",
              "      <td>September 9, 2019</td>\n",
              "      <td>2019</td>\n",
              "      <td>TV-PG</td>\n",
              "      <td>90 min</td>\n",
              "      <td>Children &amp; Family Movies, Comedies</td>\n",
              "      <td>Before planning an awesome wedding for his gra...</td>\n",
              "    </tr>\n",
              "    <tr>\n",
              "      <th>1</th>\n",
              "      <td>80117401</td>\n",
              "      <td>Movie</td>\n",
              "      <td>Jandino: Whatever it Takes</td>\n",
              "      <td>NaN</td>\n",
              "      <td>Jandino Asporaat</td>\n",
              "      <td>United Kingdom</td>\n",
              "      <td>September 9, 2016</td>\n",
              "      <td>2016</td>\n",
              "      <td>TV-MA</td>\n",
              "      <td>94 min</td>\n",
              "      <td>Stand-Up Comedy</td>\n",
              "      <td>Jandino Asporaat riffs on the challenges of ra...</td>\n",
              "    </tr>\n",
              "    <tr>\n",
              "      <th>2</th>\n",
              "      <td>70234439</td>\n",
              "      <td>TV Show</td>\n",
              "      <td>Transformers Prime</td>\n",
              "      <td>NaN</td>\n",
              "      <td>Peter Cullen, Sumalee Montano, Frank Welker, J...</td>\n",
              "      <td>United States</td>\n",
              "      <td>September 8, 2018</td>\n",
              "      <td>2013</td>\n",
              "      <td>TV-Y7-FV</td>\n",
              "      <td>1 Season</td>\n",
              "      <td>Kids' TV</td>\n",
              "      <td>With the help of three human allies, the Autob...</td>\n",
              "    </tr>\n",
              "    <tr>\n",
              "      <th>3</th>\n",
              "      <td>80058654</td>\n",
              "      <td>TV Show</td>\n",
              "      <td>Transformers: Robots in Disguise</td>\n",
              "      <td>NaN</td>\n",
              "      <td>Will Friedle, Darren Criss, Constance Zimmer, ...</td>\n",
              "      <td>United States</td>\n",
              "      <td>September 8, 2018</td>\n",
              "      <td>2016</td>\n",
              "      <td>TV-Y7</td>\n",
              "      <td>1 Season</td>\n",
              "      <td>Kids' TV</td>\n",
              "      <td>When a prison ship crash unleashes hundreds of...</td>\n",
              "    </tr>\n",
              "    <tr>\n",
              "      <th>4</th>\n",
              "      <td>80125979</td>\n",
              "      <td>Movie</td>\n",
              "      <td>#realityhigh</td>\n",
              "      <td>Fernando Lebrija</td>\n",
              "      <td>Nesta Cooper, Kate Walsh, John Michael Higgins...</td>\n",
              "      <td>United States</td>\n",
              "      <td>September 8, 2017</td>\n",
              "      <td>2017</td>\n",
              "      <td>TV-14</td>\n",
              "      <td>99 min</td>\n",
              "      <td>Comedies</td>\n",
              "      <td>When nerdy high schooler Dani finally attracts...</td>\n",
              "    </tr>\n",
              "  </tbody>\n",
              "</table>\n",
              "</div>\n",
              "      <button class=\"colab-df-convert\" onclick=\"convertToInteractive('df-c0bd5ff0-f341-4e00-8599-c5fe99912578')\"\n",
              "              title=\"Convert this dataframe to an interactive table.\"\n",
              "              style=\"display:none;\">\n",
              "        \n",
              "  <svg xmlns=\"http://www.w3.org/2000/svg\" height=\"24px\"viewBox=\"0 0 24 24\"\n",
              "       width=\"24px\">\n",
              "    <path d=\"M0 0h24v24H0V0z\" fill=\"none\"/>\n",
              "    <path d=\"M18.56 5.44l.94 2.06.94-2.06 2.06-.94-2.06-.94-.94-2.06-.94 2.06-2.06.94zm-11 1L8.5 8.5l.94-2.06 2.06-.94-2.06-.94L8.5 2.5l-.94 2.06-2.06.94zm10 10l.94 2.06.94-2.06 2.06-.94-2.06-.94-.94-2.06-.94 2.06-2.06.94z\"/><path d=\"M17.41 7.96l-1.37-1.37c-.4-.4-.92-.59-1.43-.59-.52 0-1.04.2-1.43.59L10.3 9.45l-7.72 7.72c-.78.78-.78 2.05 0 2.83L4 21.41c.39.39.9.59 1.41.59.51 0 1.02-.2 1.41-.59l7.78-7.78 2.81-2.81c.8-.78.8-2.07 0-2.86zM5.41 20L4 18.59l7.72-7.72 1.47 1.35L5.41 20z\"/>\n",
              "  </svg>\n",
              "      </button>\n",
              "      \n",
              "  <style>\n",
              "    .colab-df-container {\n",
              "      display:flex;\n",
              "      flex-wrap:wrap;\n",
              "      gap: 12px;\n",
              "    }\n",
              "\n",
              "    .colab-df-convert {\n",
              "      background-color: #E8F0FE;\n",
              "      border: none;\n",
              "      border-radius: 50%;\n",
              "      cursor: pointer;\n",
              "      display: none;\n",
              "      fill: #1967D2;\n",
              "      height: 32px;\n",
              "      padding: 0 0 0 0;\n",
              "      width: 32px;\n",
              "    }\n",
              "\n",
              "    .colab-df-convert:hover {\n",
              "      background-color: #E2EBFA;\n",
              "      box-shadow: 0px 1px 2px rgba(60, 64, 67, 0.3), 0px 1px 3px 1px rgba(60, 64, 67, 0.15);\n",
              "      fill: #174EA6;\n",
              "    }\n",
              "\n",
              "    [theme=dark] .colab-df-convert {\n",
              "      background-color: #3B4455;\n",
              "      fill: #D2E3FC;\n",
              "    }\n",
              "\n",
              "    [theme=dark] .colab-df-convert:hover {\n",
              "      background-color: #434B5C;\n",
              "      box-shadow: 0px 1px 3px 1px rgba(0, 0, 0, 0.15);\n",
              "      filter: drop-shadow(0px 1px 2px rgba(0, 0, 0, 0.3));\n",
              "      fill: #FFFFFF;\n",
              "    }\n",
              "  </style>\n",
              "\n",
              "      <script>\n",
              "        const buttonEl =\n",
              "          document.querySelector('#df-c0bd5ff0-f341-4e00-8599-c5fe99912578 button.colab-df-convert');\n",
              "        buttonEl.style.display =\n",
              "          google.colab.kernel.accessAllowed ? 'block' : 'none';\n",
              "\n",
              "        async function convertToInteractive(key) {\n",
              "          const element = document.querySelector('#df-c0bd5ff0-f341-4e00-8599-c5fe99912578');\n",
              "          const dataTable =\n",
              "            await google.colab.kernel.invokeFunction('convertToInteractive',\n",
              "                                                     [key], {});\n",
              "          if (!dataTable) return;\n",
              "\n",
              "          const docLinkHtml = 'Like what you see? Visit the ' +\n",
              "            '<a target=\"_blank\" href=https://colab.research.google.com/notebooks/data_table.ipynb>data table notebook</a>'\n",
              "            + ' to learn more about interactive tables.';\n",
              "          element.innerHTML = '';\n",
              "          dataTable['output_type'] = 'display_data';\n",
              "          await google.colab.output.renderOutput(dataTable, element);\n",
              "          const docLink = document.createElement('div');\n",
              "          docLink.innerHTML = docLinkHtml;\n",
              "          element.appendChild(docLink);\n",
              "        }\n",
              "      </script>\n",
              "    </div>\n",
              "  </div>\n",
              "  "
            ]
          },
          "metadata": {},
          "execution_count": 79
        }
      ]
    },
    {
      "cell_type": "markdown",
      "source": [
        "Filter your data set to contain only `Movies`. How many of these were rated `TV-14`?"
      ],
      "metadata": {
        "id": "8FzPcdQOaj5T"
      }
    },
    {
      "cell_type": "code",
      "source": [
        "movies = netflix[netflix['type']=='Movie']\n",
        "rating = movies[movies['rating']=='TV-14']\n",
        "print(rating.shape)"
      ],
      "metadata": {
        "id": "VUiia3HabxwM",
        "colab": {
          "base_uri": "https://localhost:8080/"
        },
        "outputId": "fd3a9fd9-7068-4814-9b46-0a88c8887972"
      },
      "execution_count": null,
      "outputs": [
        {
          "output_type": "stream",
          "name": "stdout",
          "text": [
            "(1038, 12)\n"
          ]
        }
      ]
    },
    {
      "cell_type": "markdown",
      "source": [
        "Further filter the data set to contain `Movies` between `2010` and `2016`. How many were rated `TV-14`?"
      ],
      "metadata": {
        "id": "XPEPM_p0a4Kz"
      }
    },
    {
      "cell_type": "code",
      "source": [
        "movies_2010_2016 = movies[(movies['release_year']>= 2010) & (movies['release_year']<= 2016)]\n",
        "rating_2010_2016 = movies_2010_2016[movies_2010_2016['rating']=='TV-14']\n",
        "rating_2010_2016.shape"
      ],
      "metadata": {
        "id": "p-oByLVnbyH7",
        "colab": {
          "base_uri": "https://localhost:8080/"
        },
        "outputId": "205cb52e-8b09-4f24-f6fc-b499be5f2527"
      },
      "execution_count": null,
      "outputs": [
        {
          "output_type": "execute_result",
          "data": {
            "text/plain": [
              "(396, 12)"
            ]
          },
          "metadata": {},
          "execution_count": 98
        }
      ]
    },
    {
      "cell_type": "markdown",
      "source": [
        "Create a count plot using pyplot or seaborn to show the relative counts of ratings of `Movies` between 2010-2016.ie. ratings vs number of movies."
      ],
      "metadata": {
        "id": "4QACNNhTb-t-"
      }
    },
    {
      "cell_type": "code",
      "source": [
        "import seaborn as sns\n",
        "sns.set(rc={'figure.figsize':(11.7,8.27)})\n",
        "sns.countplot(data=movies_2010_2016, x=\"rating\")"
      ],
      "metadata": {
        "id": "SHhwlk96StgD",
        "colab": {
          "base_uri": "https://localhost:8080/",
          "height": 534
        },
        "outputId": "6a7daf88-5d14-4b9c-8223-61c55e49db83"
      },
      "execution_count": null,
      "outputs": [
        {
          "output_type": "execute_result",
          "data": {
            "text/plain": [
              "<matplotlib.axes._subplots.AxesSubplot at 0x7f89bd9c0bd0>"
            ]
          },
          "metadata": {},
          "execution_count": 104
        },
        {
          "output_type": "display_data",
          "data": {
            "text/plain": [
              "<Figure size 842.4x595.44 with 1 Axes>"
            ],
            "image/png": "[encoded data removed]"
          },
          "metadata": {}
        }
      ]
    }
  ]
}