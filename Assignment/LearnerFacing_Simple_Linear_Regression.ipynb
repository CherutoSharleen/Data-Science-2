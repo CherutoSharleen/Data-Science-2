{
 "cells": [
  {
   "cell_type": "markdown",
   "id": "885c7991-cbb7-4f2a-aa16-f603303aca6b",
   "metadata": {
    "id": "885c7991-cbb7-4f2a-aa16-f603303aca6b"
   },
   "source": [
    "# Introduction \n",
    "\n",
    "Imagine you are a member of an analytics team that provides insights for an association of zoos and aquariums. You have been assigned to a project focusing on Adelie and Chinstrap penguins, as these particular species have been in [decline](https://www.scientificamerican.com/article/gentoo-penguins-thrive-while-adelies-and-chinstraps-falter-in-a-climate-changed-world/). \n",
    "\n",
    "In this activity, you will conduct simple linear regression on a relevant dataset."
   ]
  },
  {
   "cell_type": "markdown",
   "id": "b0d285fa-1c05-485c-a88c-dcf071cec2c8",
   "metadata": {
    "id": "b0d285fa-1c05-485c-a88c-dcf071cec2c8",
    "tags": []
   },
   "source": [
    "# Imports and Data Loading"
   ]
  },
  {
   "cell_type": "markdown",
   "id": "03cbed40-7370-4e9a-aa2f-23fdb4eb7b55",
   "metadata": {
    "id": "03cbed40-7370-4e9a-aa2f-23fdb4eb7b55"
   },
   "source": [
    "### In this section, let's first import relevant Python libraries and modules.\n",
    "This includes `pandas`, `pyplot`, `seaborn`, `ols`, and `statsmodels` api."
   ]
  },
  {
   "cell_type": "code",
   "execution_count": 4,
   "id": "a58fcedf",
   "metadata": {},
   "outputs": [],
   "source": [
    "# !pip install statsmodels"
   ]
  },
  {
   "cell_type": "code",
   "execution_count": 5,
   "id": "110baca0-1f19-4bd9-bbf0-e5706bea2e3c",
   "metadata": {
    "id": "110baca0-1f19-4bd9-bbf0-e5706bea2e3c"
   },
   "outputs": [],
   "source": [
    "# Import libraries and modules\n",
    "\n",
    "## YOUR CODE HERE ###\n",
    "import pandas as pd\n",
    "import seaborn as sns\n",
    "import matplotlib.pyplot as plt\n",
    "from statsmodels.formula.api import ols\n",
    "import statsmodels.api as sm\n",
    "\n"
   ]
  },
  {
   "cell_type": "markdown",
   "id": "f04d9e38-5158-41a7-9eba-ade3b3f5e48c",
   "metadata": {
    "id": "f04d9e38-5158-41a7-9eba-ade3b3f5e48c"
   },
   "source": [
    "### Now let's load the penguins dataset into a DataFrame.\n",
    "Let's work with the penguins dataset provided by the seaborn library."
   ]
  },
  {
   "cell_type": "code",
   "execution_count": 6,
   "id": "d9727b32-2e06-4ae2-a298-031ec4fa0b6c",
   "metadata": {
    "id": "d9727b32-2e06-4ae2-a298-031ec4fa0b6c"
   },
   "outputs": [],
   "source": [
    "# Load data\n",
    "\n",
    "## YOUR CODE HERE ###\n",
    "sales_data = pd.read_csv(\"marketing_sales_data.csv\")"
   ]
  },
  {
   "cell_type": "markdown",
   "id": "ec269f85-6622-4f82-bdcd-1874224a4052",
   "metadata": {
    "id": "ec269f85-6622-4f82-bdcd-1874224a4052",
    "tags": []
   },
   "source": [
    "# Data Exploration and Cleaning"
   ]
  },
  {
   "cell_type": "markdown",
   "id": "46448192-f2f8-4f78-9f76-6e4bb699da7b",
   "metadata": {
    "id": "46448192-f2f8-4f78-9f76-6e4bb699da7b"
   },
   "source": [
    "### Let's take a look at the data."
   ]
  },
  {
   "cell_type": "code",
   "execution_count": 7,
   "id": "536d5bf6",
   "metadata": {},
   "outputs": [
    {
     "data": {
      "text/html": [
       "<div>\n",
       "<style scoped>\n",
       "    .dataframe tbody tr th:only-of-type {\n",
       "        vertical-align: middle;\n",
       "    }\n",
       "\n",
       "    .dataframe tbody tr th {\n",
       "        vertical-align: top;\n",
       "    }\n",
       "\n",
       "    .dataframe thead th {\n",
       "        text-align: right;\n",
       "    }\n",
       "</style>\n",
       "<table border=\"1\" class=\"dataframe\">\n",
       "  <thead>\n",
       "    <tr style=\"text-align: right;\">\n",
       "      <th></th>\n",
       "      <th>TV</th>\n",
       "      <th>Radio</th>\n",
       "      <th>Social Media</th>\n",
       "      <th>Influencer</th>\n",
       "      <th>Sales</th>\n",
       "    </tr>\n",
       "  </thead>\n",
       "  <tbody>\n",
       "    <tr>\n",
       "      <th>0</th>\n",
       "      <td>Low</td>\n",
       "      <td>3.518070</td>\n",
       "      <td>2.293790</td>\n",
       "      <td>Micro</td>\n",
       "      <td>55.261284</td>\n",
       "    </tr>\n",
       "    <tr>\n",
       "      <th>1</th>\n",
       "      <td>Low</td>\n",
       "      <td>7.756876</td>\n",
       "      <td>2.572287</td>\n",
       "      <td>Mega</td>\n",
       "      <td>67.574904</td>\n",
       "    </tr>\n",
       "    <tr>\n",
       "      <th>2</th>\n",
       "      <td>High</td>\n",
       "      <td>20.348988</td>\n",
       "      <td>1.227180</td>\n",
       "      <td>Micro</td>\n",
       "      <td>272.250108</td>\n",
       "    </tr>\n",
       "    <tr>\n",
       "      <th>3</th>\n",
       "      <td>Medium</td>\n",
       "      <td>20.108487</td>\n",
       "      <td>2.728374</td>\n",
       "      <td>Mega</td>\n",
       "      <td>195.102176</td>\n",
       "    </tr>\n",
       "    <tr>\n",
       "      <th>4</th>\n",
       "      <td>High</td>\n",
       "      <td>31.653200</td>\n",
       "      <td>7.776978</td>\n",
       "      <td>Nano</td>\n",
       "      <td>273.960377</td>\n",
       "    </tr>\n",
       "  </tbody>\n",
       "</table>\n",
       "</div>"
      ],
      "text/plain": [
       "       TV      Radio  Social Media Influencer       Sales\n",
       "0     Low   3.518070      2.293790      Micro   55.261284\n",
       "1     Low   7.756876      2.572287       Mega   67.574904\n",
       "2    High  20.348988      1.227180      Micro  272.250108\n",
       "3  Medium  20.108487      2.728374       Mega  195.102176\n",
       "4    High  31.653200      7.776978       Nano  273.960377"
      ]
     },
     "execution_count": 7,
     "metadata": {},
     "output_type": "execute_result"
    }
   ],
   "source": [
    "sales_data.head()"
   ]
  },
  {
   "cell_type": "code",
   "execution_count": 8,
   "id": "ad471526-eb38-4cc3-afa7-f9542439ea35",
   "metadata": {
    "id": "ad471526-eb38-4cc3-afa7-f9542439ea35"
   },
   "outputs": [
    {
     "data": {
      "text/plain": [
       "5"
      ]
     },
     "execution_count": 8,
     "metadata": {},
     "output_type": "execute_result"
    }
   ],
   "source": [
    "# Take a look at the data \n",
    "\n",
    "## YOUR CODE HERE ###\n",
    "\n",
    "#Rows\n",
    "sales_data.shape[0]\n",
    "#Columns\n",
    "sales_data.shape[1]"
   ]
  },
  {
   "cell_type": "code",
   "execution_count": 9,
   "id": "8a12c804",
   "metadata": {},
   "outputs": [
    {
     "data": {
      "text/plain": [
       "0"
      ]
     },
     "execution_count": 9,
     "metadata": {},
     "output_type": "execute_result"
    }
   ],
   "source": [
    "# Axis = 0 : Column\n",
    "# Axis = 1 : Row\n",
    "sales_data.isnull().any(axis=1).sum()"
   ]
  },
  {
   "cell_type": "code",
   "execution_count": 10,
   "id": "870d7f51",
   "metadata": {},
   "outputs": [
    {
     "data": {
      "text/html": [
       "<div>\n",
       "<style scoped>\n",
       "    .dataframe tbody tr th:only-of-type {\n",
       "        vertical-align: middle;\n",
       "    }\n",
       "\n",
       "    .dataframe tbody tr th {\n",
       "        vertical-align: top;\n",
       "    }\n",
       "\n",
       "    .dataframe thead th {\n",
       "        text-align: right;\n",
       "    }\n",
       "</style>\n",
       "<table border=\"1\" class=\"dataframe\">\n",
       "  <thead>\n",
       "    <tr style=\"text-align: right;\">\n",
       "      <th></th>\n",
       "      <th>TV</th>\n",
       "      <th>Radio</th>\n",
       "      <th>Social Media</th>\n",
       "      <th>Influencer</th>\n",
       "      <th>Sales</th>\n",
       "    </tr>\n",
       "  </thead>\n",
       "  <tbody>\n",
       "    <tr>\n",
       "      <th>0</th>\n",
       "      <td>Low</td>\n",
       "      <td>3.518070</td>\n",
       "      <td>2.293790</td>\n",
       "      <td>Micro</td>\n",
       "      <td>55.261284</td>\n",
       "    </tr>\n",
       "    <tr>\n",
       "      <th>1</th>\n",
       "      <td>Low</td>\n",
       "      <td>7.756876</td>\n",
       "      <td>2.572287</td>\n",
       "      <td>Mega</td>\n",
       "      <td>67.574904</td>\n",
       "    </tr>\n",
       "    <tr>\n",
       "      <th>2</th>\n",
       "      <td>High</td>\n",
       "      <td>20.348988</td>\n",
       "      <td>1.227180</td>\n",
       "      <td>Micro</td>\n",
       "      <td>272.250108</td>\n",
       "    </tr>\n",
       "    <tr>\n",
       "      <th>3</th>\n",
       "      <td>Medium</td>\n",
       "      <td>20.108487</td>\n",
       "      <td>2.728374</td>\n",
       "      <td>Mega</td>\n",
       "      <td>195.102176</td>\n",
       "    </tr>\n",
       "    <tr>\n",
       "      <th>4</th>\n",
       "      <td>High</td>\n",
       "      <td>31.653200</td>\n",
       "      <td>7.776978</td>\n",
       "      <td>Nano</td>\n",
       "      <td>273.960377</td>\n",
       "    </tr>\n",
       "    <tr>\n",
       "      <th>...</th>\n",
       "      <td>...</td>\n",
       "      <td>...</td>\n",
       "      <td>...</td>\n",
       "      <td>...</td>\n",
       "      <td>...</td>\n",
       "    </tr>\n",
       "    <tr>\n",
       "      <th>567</th>\n",
       "      <td>Medium</td>\n",
       "      <td>14.656633</td>\n",
       "      <td>3.817980</td>\n",
       "      <td>Micro</td>\n",
       "      <td>191.521266</td>\n",
       "    </tr>\n",
       "    <tr>\n",
       "      <th>568</th>\n",
       "      <td>High</td>\n",
       "      <td>28.110171</td>\n",
       "      <td>7.358169</td>\n",
       "      <td>Mega</td>\n",
       "      <td>297.626731</td>\n",
       "    </tr>\n",
       "    <tr>\n",
       "      <th>569</th>\n",
       "      <td>Medium</td>\n",
       "      <td>11.401084</td>\n",
       "      <td>5.818697</td>\n",
       "      <td>Nano</td>\n",
       "      <td>145.416851</td>\n",
       "    </tr>\n",
       "    <tr>\n",
       "      <th>570</th>\n",
       "      <td>Medium</td>\n",
       "      <td>21.119991</td>\n",
       "      <td>5.703028</td>\n",
       "      <td>Macro</td>\n",
       "      <td>209.326830</td>\n",
       "    </tr>\n",
       "    <tr>\n",
       "      <th>571</th>\n",
       "      <td>Low</td>\n",
       "      <td>13.221237</td>\n",
       "      <td>3.660566</td>\n",
       "      <td>Micro</td>\n",
       "      <td>135.773151</td>\n",
       "    </tr>\n",
       "  </tbody>\n",
       "</table>\n",
       "<p>572 rows × 5 columns</p>\n",
       "</div>"
      ],
      "text/plain": [
       "         TV      Radio  Social Media Influencer       Sales\n",
       "0       Low   3.518070      2.293790      Micro   55.261284\n",
       "1       Low   7.756876      2.572287       Mega   67.574904\n",
       "2      High  20.348988      1.227180      Micro  272.250108\n",
       "3    Medium  20.108487      2.728374       Mega  195.102176\n",
       "4      High  31.653200      7.776978       Nano  273.960377\n",
       "..      ...        ...           ...        ...         ...\n",
       "567  Medium  14.656633      3.817980      Micro  191.521266\n",
       "568    High  28.110171      7.358169       Mega  297.626731\n",
       "569  Medium  11.401084      5.818697       Nano  145.416851\n",
       "570  Medium  21.119991      5.703028      Macro  209.326830\n",
       "571     Low  13.221237      3.660566      Micro  135.773151\n",
       "\n",
       "[572 rows x 5 columns]"
      ]
     },
     "execution_count": 10,
     "metadata": {},
     "output_type": "execute_result"
    }
   ],
   "source": [
    "sales_data.dropna(axis=1)"
   ]
  },
  {
   "cell_type": "code",
   "execution_count": 12,
   "id": "309f3d9d",
   "metadata": {},
   "outputs": [
    {
     "ename": "AttributeError",
     "evalue": "'DataFrame' object has no attribute 'summary'",
     "output_type": "error",
     "traceback": [
      "\u001b[1;31m---------------------------------------------------------------------------\u001b[0m",
      "\u001b[1;31mAttributeError\u001b[0m                            Traceback (most recent call last)",
      "Cell \u001b[1;32mIn [12], line 1\u001b[0m\n\u001b[1;32m----> 1\u001b[0m sales_data\u001b[39m.\u001b[39;49msummary()\n",
      "File \u001b[1;32mc:\\Users\\Admin\\AppData\\Local\\Programs\\Python\\Python310\\lib\\site-packages\\pandas\\core\\generic.py:5902\u001b[0m, in \u001b[0;36mNDFrame.__getattr__\u001b[1;34m(self, name)\u001b[0m\n\u001b[0;32m   5895\u001b[0m \u001b[39mif\u001b[39;00m (\n\u001b[0;32m   5896\u001b[0m     name \u001b[39mnot\u001b[39;00m \u001b[39min\u001b[39;00m \u001b[39mself\u001b[39m\u001b[39m.\u001b[39m_internal_names_set\n\u001b[0;32m   5897\u001b[0m     \u001b[39mand\u001b[39;00m name \u001b[39mnot\u001b[39;00m \u001b[39min\u001b[39;00m \u001b[39mself\u001b[39m\u001b[39m.\u001b[39m_metadata\n\u001b[0;32m   5898\u001b[0m     \u001b[39mand\u001b[39;00m name \u001b[39mnot\u001b[39;00m \u001b[39min\u001b[39;00m \u001b[39mself\u001b[39m\u001b[39m.\u001b[39m_accessors\n\u001b[0;32m   5899\u001b[0m     \u001b[39mand\u001b[39;00m \u001b[39mself\u001b[39m\u001b[39m.\u001b[39m_info_axis\u001b[39m.\u001b[39m_can_hold_identifiers_and_holds_name(name)\n\u001b[0;32m   5900\u001b[0m ):\n\u001b[0;32m   5901\u001b[0m     \u001b[39mreturn\u001b[39;00m \u001b[39mself\u001b[39m[name]\n\u001b[1;32m-> 5902\u001b[0m \u001b[39mreturn\u001b[39;00m \u001b[39mobject\u001b[39;49m\u001b[39m.\u001b[39;49m\u001b[39m__getattribute__\u001b[39;49m(\u001b[39mself\u001b[39;49m, name)\n",
      "\u001b[1;31mAttributeError\u001b[0m: 'DataFrame' object has no attribute 'summary'"
     ]
    }
   ],
   "source": [
    "sales_data.summary()"
   ]
  },
  {
   "cell_type": "markdown",
   "id": "9a46eee7-9ea4-4788-ba14-0d31352973c2",
   "metadata": {
    "id": "9a46eee7-9ea4-4788-ba14-0d31352973c2"
   },
   "source": [
    "### Question 1:\n",
    "What do you observe about the different aspects of penguins shown in the data?\n"
   ]
  },
  {
   "cell_type": "markdown",
   "id": "b5cdd3a3-188e-4da4-ba05-389e2359b0b9",
   "metadata": {
    "id": "b5cdd3a3-188e-4da4-ba05-389e2359b0b9"
   },
   "source": [
    "### Let's identify the number of rows and the number of columns in the data."
   ]
  },
  {
   "cell_type": "code",
   "execution_count": null,
   "id": "805436bb-4508-4623-a8f5-c09fa3ec7ef2",
   "metadata": {
    "id": "805436bb-4508-4623-a8f5-c09fa3ec7ef2"
   },
   "outputs": [],
   "source": [
    "# Identify the number of rows and the number of columns in the data\n",
    "\n",
    "## YOUR CODE HERE ###\n"
   ]
  },
  {
   "cell_type": "markdown",
   "id": "711a3daa-9129-4de4-a3cc-17a043c0a411",
   "metadata": {
    "id": "711a3daa-9129-4de4-a3cc-17a043c0a411"
   },
   "source": [
    "### Question 2:\n",
    "What do you observe about the number of rows and the number of columns in the data?\n"
   ]
  },
  {
   "cell_type": "markdown",
   "id": "ada5a098-e0d2-4a59-9ac5-132d8ea1eb3c",
   "metadata": {
    "id": "ada5a098-e0d2-4a59-9ac5-132d8ea1eb3c",
    "tags": []
   },
   "source": [
    "### Let's check for missing values in the rows of the data."
   ]
  },
  {
   "cell_type": "code",
   "execution_count": null,
   "id": "db9be321-d578-4252-833c-a2dfd0e2e937",
   "metadata": {
    "id": "db9be321-d578-4252-833c-a2dfd0e2e937"
   },
   "outputs": [],
   "source": [
    "# How many rows with missing values\n",
    "\n",
    "## YOUR CODE HERE ###\n"
   ]
  },
  {
   "cell_type": "markdown",
   "id": "2d39e620-abbf-4729-8005-f7031e5ada74",
   "metadata": {
    "id": "2d39e620-abbf-4729-8005-f7031e5ada74"
   },
   "source": [
    "### Question 3:\n"
   ]
  },
  {
   "cell_type": "markdown",
   "id": "eb005a73-4621-45b9-8114-30472ce20327",
   "metadata": {
    "id": "eb005a73-4621-45b9-8114-30472ce20327"
   },
   "source": [
    "### Let's drop the rows with missing values. \n",
    "This an important step in data cleaning, as it makes the data more usable for the next steps of analysis and regression. "
   ]
  },
  {
   "cell_type": "code",
   "execution_count": null,
   "id": "1cee438e-8b1f-4855-855e-3723d1958b69",
   "metadata": {
    "id": "1cee438e-8b1f-4855-855e-3723d1958b69"
   },
   "outputs": [],
   "source": [
    "# Drop the rows with missing values\n",
    "# Update data\n",
    "\n",
    "## YOUR CODE HERE ###\n",
    "\n",
    "\n",
    "\n",
    "# Check to make sure that the data does not contain any missing values now\n",
    "\n",
    "## YOUR CODE HERE ###\n",
    "\n"
   ]
  },
  {
   "cell_type": "markdown",
   "id": "1f9e361f-bfbf-493c-8725-374eb8a0fd5b",
   "metadata": {
    "id": "1f9e361f-bfbf-493c-8725-374eb8a0fd5b"
   },
   "source": [
    "### Let's filter the data to only include Adelie and Chinstrap penguin species.\n",
    "This is another important step in data cleaning, as those species are the focus of your project."
   ]
  },
  {
   "cell_type": "code",
   "execution_count": null,
   "id": "457b51c3-33ae-423e-8d25-8215faef05dc",
   "metadata": {
    "id": "457b51c3-33ae-423e-8d25-8215faef05dc"
   },
   "outputs": [],
   "source": [
    "# Filter data so that it only contains rows where the species is either Adelie or Chinstrap\n",
    "# Update data with result\n",
    "\n",
    "## YOUR CODE HERE ###\n",
    "\n",
    "\n",
    "# Take a look at the data now\n",
    "\n",
    "## YOUR CODE HERE ###\n",
    "\n"
   ]
  },
  {
   "cell_type": "markdown",
   "id": "51829aec-da31-48c7-aa3d-2b119ffec580",
   "metadata": {
    "id": "51829aec-da31-48c7-aa3d-2b119ffec580"
   },
   "source": [
    "# Exploratory Data Analysis and Regression\n",
    "Let's say you want to explore the relationship between penguins' **flipper length** and **body mass**, as that could help you gain insight on penguins' needs. You could model the relationship using linear regression. To do this, you want to check if the model assumptions for linear regression can be made in this context. Some of the assumptions can be addressed before the model is built --- you will address those in this section. After the model is built, you can finish checking the assumptions."
   ]
  },
  {
   "cell_type": "markdown",
   "id": "f763de9e-4f0a-42b7-b90c-5ada3b9f1e81",
   "metadata": {
    "id": "f763de9e-4f0a-42b7-b90c-5ada3b9f1e81",
    "tags": []
   },
   "source": [
    "### Linearity\n",
    "\n",
    "Let's check if the assumption of linearity is met. "
   ]
  },
  {
   "cell_type": "code",
   "execution_count": null,
   "id": "f9e8c720-e51a-49ee-be4b-54960a844473",
   "metadata": {
    "id": "f9e8c720-e51a-49ee-be4b-54960a844473"
   },
   "outputs": [],
   "source": [
    "# Check if linearity assumption is met\n",
    "\n",
    "### YOUR CODE HERE\n",
    "\n"
   ]
  },
  {
   "cell_type": "markdown",
   "id": "b20c77f8-0578-4ee9-b0eb-14bec2f434be",
   "metadata": {
    "id": "b20c77f8-0578-4ee9-b0eb-14bec2f434be",
    "jp-MarkdownHeadingCollapsed": true,
    "tags": []
   },
   "source": [
    "##### Hint 1:"
   ]
  },
  {
   "cell_type": "markdown",
   "id": "dac52673-c82d-4394-8647-b9d83f77830e",
   "metadata": {
    "id": "dac52673-c82d-4394-8647-b9d83f77830e"
   },
   "source": [
    "A scatter plot can be used to check if the linearity assumption is met."
   ]
  },
  {
   "cell_type": "markdown",
   "id": "11242fda-648f-460a-9609-7b962cd26f0e",
   "metadata": {
    "id": "11242fda-648f-460a-9609-7b962cd26f0e",
    "jp-MarkdownHeadingCollapsed": true,
    "tags": []
   },
   "source": [
    "##### Hint 2:"
   ]
  },
  {
   "cell_type": "markdown",
   "id": "34acdcea-eb75-4ea3-9b49-9606a934d3e1",
   "metadata": {
    "id": "34acdcea-eb75-4ea3-9b49-9606a934d3e1"
   },
   "source": [
    "You can use the `scatter` function from the matplotlib.pyplot library or the `scatterplot` function from the seaborn library to create a scatter plot. "
   ]
  },
  {
   "cell_type": "markdown",
   "id": "f96f58fd-ab3d-49ce-bbec-bb5c75a949f5",
   "metadata": {
    "id": "f96f58fd-ab3d-49ce-bbec-bb5c75a949f5"
   },
   "source": [
    "### Question 4:\n",
    "What do you observe from the scatter plot?\n"
   ]
  },
  {
   "cell_type": "markdown",
   "id": "0efacbdc-3f38-4acd-9068-d6ff77ae214a",
   "metadata": {
    "id": "0efacbdc-3f38-4acd-9068-d6ff77ae214a"
   },
   "source": [
    "### Normality\n",
    "Let's check if both flipper length and body mass are normally distributed (or close to being normally distributed). If they are, then it is likely that the residuals are also normally distributed, which you can check after you build the model."
   ]
  },
  {
   "cell_type": "code",
   "execution_count": null,
   "id": "4c32bcdd-441c-4702-86b7-06d7175a860d",
   "metadata": {
    "id": "4c32bcdd-441c-4702-86b7-06d7175a860d"
   },
   "outputs": [],
   "source": [
    "# Check if flipper length is normally distributed\n",
    "\n",
    "### YOUR CODE HERE\n"
   ]
  },
  {
   "cell_type": "code",
   "execution_count": null,
   "id": "a08aff58-2d17-407e-a0c6-e39b1848bdce",
   "metadata": {
    "id": "a08aff58-2d17-407e-a0c6-e39b1848bdce"
   },
   "outputs": [],
   "source": [
    "# Check if body mass is normally distributed\n",
    "\n",
    "### YOUR CODE HERE\n",
    "\n"
   ]
  },
  {
   "cell_type": "markdown",
   "id": "22e695a3-12a9-4964-aa87-1750cdb75ff3",
   "metadata": {
    "id": "22e695a3-12a9-4964-aa87-1750cdb75ff3",
    "jp-MarkdownHeadingCollapsed": true,
    "tags": []
   },
   "source": [
    "##### Hint 1:"
   ]
  },
  {
   "cell_type": "markdown",
   "id": "3281fb33-1ed6-4f68-888f-5491543251a5",
   "metadata": {
    "id": "3281fb33-1ed6-4f68-888f-5491543251a5"
   },
   "source": [
    "A histogram can be used to visualize the distribution of a variable."
   ]
  },
  {
   "cell_type": "markdown",
   "id": "e0d52d52-20c7-4313-8654-8708f2a37bd3",
   "metadata": {
    "id": "e0d52d52-20c7-4313-8654-8708f2a37bd3",
    "jp-MarkdownHeadingCollapsed": true,
    "tags": []
   },
   "source": [
    "##### Hint 2:"
   ]
  },
  {
   "cell_type": "markdown",
   "id": "76fcf0c3-5ad2-44ca-9c5f-dbdd6b1fd0fe",
   "metadata": {
    "id": "76fcf0c3-5ad2-44ca-9c5f-dbdd6b1fd0fe",
    "tags": []
   },
   "source": [
    "You can use the `hist` function from the matplotlib.pyplot library or the `histplot` function from the seaborn library to create a scatter plot. "
   ]
  },
  {
   "cell_type": "markdown",
   "id": "8231854f-758b-42ea-a634-8a16bd795ff4",
   "metadata": {
    "id": "8231854f-758b-42ea-a634-8a16bd795ff4"
   },
   "source": [
    "### Question 5: \n",
    "What do you observe about the distribution of flipper length and the distribution of body mass?\n"
   ]
  },
  {
   "cell_type": "markdown",
   "id": "e7314a04-d649-4d9d-be5c-1164b8226e99",
   "metadata": {
    "id": "e7314a04-d649-4d9d-be5c-1164b8226e99"
   },
   "source": [
    "### Independence\n",
    "Let's check if the assumption of independent observations is met by considering the context of what each entry in the data represents and how the data would have been collected."
   ]
  },
  {
   "cell_type": "markdown",
   "id": "32e961fd-1a4d-4a69-b45c-6d5f8c1f99d2",
   "metadata": {
    "id": "32e961fd-1a4d-4a69-b45c-6d5f8c1f99d2"
   },
   "source": [
    "### Question 6: \n",
    "Based on the context behind the data, do you think the independent observations assumption is met?\n"
   ]
  },
  {
   "cell_type": "markdown",
   "id": "59bbd17e-84e5-463c-8806-f2b5286f9ac8",
   "metadata": {
    "id": "59bbd17e-84e5-463c-8806-f2b5286f9ac8",
    "tags": []
   },
   "source": [
    "# Build Model"
   ]
  },
  {
   "cell_type": "markdown",
   "id": "b32cb141-6f2a-4cf1-a090-00ac6cef4508",
   "metadata": {
    "id": "b32cb141-6f2a-4cf1-a090-00ac6cef4508"
   },
   "source": [
    "### Let's start by selecting only the columns that are needed for the model that you will build from the data. "
   ]
  },
  {
   "cell_type": "code",
   "execution_count": null,
   "id": "d80ac8f0-8c80-4300-8e89-2034b877d198",
   "metadata": {
    "id": "d80ac8f0-8c80-4300-8e89-2034b877d198"
   },
   "outputs": [],
   "source": [
    "# Select relevant columns\n",
    "# Save resulting dataframe in a separate variable to prepare for regression\n",
    "\n",
    "### YOUR CODE HERE\n",
    "\n",
    "\n",
    "# Take a look at the subset to make sure it looks right\n",
    "\n",
    "### YOUR CODE HERE\n",
    "\n"
   ]
  },
  {
   "cell_type": "markdown",
   "id": "7f72fcc4-36e7-48b5-81cc-6568dfea8523",
   "metadata": {
    "id": "7f72fcc4-36e7-48b5-81cc-6568dfea8523",
    "jp-MarkdownHeadingCollapsed": true,
    "tags": []
   },
   "source": [
    "##### Hint 1:"
   ]
  },
  {
   "cell_type": "markdown",
   "id": "94aef912-5e70-4255-a395-e9ecd9ebe45c",
   "metadata": {
    "id": "94aef912-5e70-4255-a395-e9ecd9ebe45c"
   },
   "source": [
    "Make sure to get the columns that correspond to flipper length and body mass."
   ]
  },
  {
   "cell_type": "markdown",
   "id": "021ada1c-6655-476d-af85-a049c12826b8",
   "metadata": {
    "id": "021ada1c-6655-476d-af85-a049c12826b8",
    "jp-MarkdownHeadingCollapsed": true,
    "tags": []
   },
   "source": [
    "##### Hint 2:"
   ]
  },
  {
   "cell_type": "markdown",
   "id": "2012102e-ad5a-4cfa-8c5d-7560d0dd838e",
   "metadata": {
    "id": "2012102e-ad5a-4cfa-8c5d-7560d0dd838e"
   },
   "source": [
    "You can use a pair of double square brackets to select a subset of a dataframe."
   ]
  },
  {
   "cell_type": "markdown",
   "id": "ce6b36db-d0c8-47e0-a06b-d431bee4ca8c",
   "metadata": {
    "id": "ce6b36db-d0c8-47e0-a06b-d431bee4ca8c"
   },
   "source": [
    "### Let's write the linear regression formula for modeling the relationship between body mass and flipper length."
   ]
  },
  {
   "cell_type": "code",
   "execution_count": null,
   "id": "2cc40ec1-5fa4-4803-9021-abea9699a804",
   "metadata": {
    "id": "2cc40ec1-5fa4-4803-9021-abea9699a804"
   },
   "outputs": [],
   "source": [
    "# Write the linear regression formula\n",
    "# Save it in a variable\n",
    "\n",
    "### YOUR CODE HERE\n",
    "\n",
    "\n",
    "# Take a look at the formula to make sure it looks right\n",
    "\n",
    "### YOUR CODE HERE\n",
    "\n"
   ]
  },
  {
   "cell_type": "markdown",
   "id": "0e95aa1f-c597-42a7-8fda-6abae106aa38",
   "metadata": {
    "id": "0e95aa1f-c597-42a7-8fda-6abae106aa38",
    "jp-MarkdownHeadingCollapsed": true,
    "tags": []
   },
   "source": [
    "##### Hint 1:"
   ]
  },
  {
   "cell_type": "markdown",
   "id": "730b111d-c031-4fec-b362-9f1d0cc431e2",
   "metadata": {
    "id": "730b111d-c031-4fec-b362-9f1d0cc431e2"
   },
   "source": [
    "Save the formula as string."
   ]
  },
  {
   "cell_type": "markdown",
   "id": "8d7a6ed8-00cf-4f35-beca-ac9b4308fad6",
   "metadata": {
    "id": "8d7a6ed8-00cf-4f35-beca-ac9b4308fad6",
    "jp-MarkdownHeadingCollapsed": true,
    "tags": []
   },
   "source": [
    "##### Hint 2:"
   ]
  },
  {
   "cell_type": "markdown",
   "id": "1edc4c95-1cf4-4e05-b2a2-dc18cadb3d63",
   "metadata": {
    "id": "1edc4c95-1cf4-4e05-b2a2-dc18cadb3d63"
   },
   "source": [
    "Use a tilde to separate the y variable from the x variable so that the computer understands which is which. Make sure the spelling of each variable exactly matches the corresponding column from the data."
   ]
  },
  {
   "cell_type": "markdown",
   "id": "c97a64cc-ae88-4566-b36e-2763278edf55",
   "metadata": {
    "id": "c97a64cc-ae88-4566-b36e-2763278edf55",
    "tags": []
   },
   "source": [
    "### Let's implement the Ordinary Least Squares (OLS) approach for linear regression. "
   ]
  },
  {
   "cell_type": "code",
   "execution_count": null,
   "id": "d18fb486-726b-405f-8f25-24dd9c1d6ef8",
   "metadata": {
    "id": "d18fb486-726b-405f-8f25-24dd9c1d6ef8"
   },
   "outputs": [],
   "source": [
    "# Implement OLS\n",
    "\n",
    "### YOUR CODE HERE\n",
    "\n"
   ]
  },
  {
   "cell_type": "markdown",
   "id": "017deca1-cfac-4d64-aecb-c597afc44e0e",
   "metadata": {
    "id": "017deca1-cfac-4d64-aecb-c597afc44e0e",
    "jp-MarkdownHeadingCollapsed": true,
    "tags": []
   },
   "source": [
    "##### Hint 1:"
   ]
  },
  {
   "cell_type": "markdown",
   "id": "fcc4074c-c1f5-4615-8a83-bb0cc0a48823",
   "metadata": {
    "id": "fcc4074c-c1f5-4615-8a83-bb0cc0a48823"
   },
   "source": [
    "There is a function from the statsmodels library that can be used to implement OLS."
   ]
  },
  {
   "cell_type": "markdown",
   "id": "0fb7f6a0-7f4e-4603-b93e-a4a8aaa14175",
   "metadata": {
    "id": "0fb7f6a0-7f4e-4603-b93e-a4a8aaa14175",
    "jp-MarkdownHeadingCollapsed": true,
    "tags": []
   },
   "source": [
    "##### Hint 2:"
   ]
  },
  {
   "cell_type": "markdown",
   "id": "5ed5eb16-f16e-46a2-8f58-2f7cfeafbd5b",
   "metadata": {
    "id": "5ed5eb16-f16e-46a2-8f58-2f7cfeafbd5b"
   },
   "source": [
    "You can use the `ols` function from the statsmodels library."
   ]
  },
  {
   "cell_type": "markdown",
   "id": "bec52d5d-6b98-444c-a181-be3adb163b98",
   "metadata": {
    "id": "bec52d5d-6b98-444c-a181-be3adb163b98"
   },
   "source": [
    "### Let's create a linear regression model for the data, fit the model to the data."
   ]
  },
  {
   "cell_type": "code",
   "execution_count": null,
   "id": "8389e651-1d7a-4b2a-aed3-94ea1d1288e6",
   "metadata": {
    "id": "8389e651-1d7a-4b2a-aed3-94ea1d1288e6"
   },
   "outputs": [],
   "source": [
    "# Fit the model to the data\n",
    "# Save the fitted model in a variable\n",
    "\n",
    "### YOUR CODE HERE\n",
    "\n"
   ]
  },
  {
   "cell_type": "markdown",
   "id": "29dda6e7-edcd-44cd-8d6a-be74789c9841",
   "metadata": {
    "id": "29dda6e7-edcd-44cd-8d6a-be74789c9841",
    "jp-MarkdownHeadingCollapsed": true,
    "tags": []
   },
   "source": [
    "##### Hint 1:"
   ]
  },
  {
   "cell_type": "markdown",
   "id": "af9ee684-d43d-4c19-9917-6a22353bc842",
   "metadata": {
    "id": "af9ee684-d43d-4c19-9917-6a22353bc842"
   },
   "source": [
    "There is a function from the statsmodels library that can be used to fit the model."
   ]
  },
  {
   "cell_type": "markdown",
   "id": "ec5a48d5-167b-47aa-b3f4-6800338da35d",
   "metadata": {
    "id": "ec5a48d5-167b-47aa-b3f4-6800338da35d",
    "jp-MarkdownHeadingCollapsed": true,
    "tags": []
   },
   "source": [
    "##### Hint 2:"
   ]
  },
  {
   "cell_type": "markdown",
   "id": "437eb418-e54c-44ac-88a8-6a719afed71d",
   "metadata": {
    "id": "437eb418-e54c-44ac-88a8-6a719afed71d"
   },
   "source": [
    "You can use the `fit` function from the statsmodels library"
   ]
  },
  {
   "cell_type": "markdown",
   "id": "754e9309-38f5-4de1-9e6a-88da082f3ff0",
   "metadata": {
    "id": "754e9309-38f5-4de1-9e6a-88da082f3ff0"
   },
   "source": [
    "### Let's get a summary of the results from the model."
   ]
  },
  {
   "cell_type": "code",
   "execution_count": null,
   "id": "92b4db1d-a376-4a4d-82ab-1b0ef1baedf7",
   "metadata": {
    "id": "92b4db1d-a376-4a4d-82ab-1b0ef1baedf7"
   },
   "outputs": [],
   "source": [
    "# Get summary of results \n",
    "\n",
    "### YOUR CODE HERE\n",
    "\n"
   ]
  },
  {
   "cell_type": "markdown",
   "id": "2c6d4bdd-1e1b-4d0f-8f4c-818ea7e0dfe6",
   "metadata": {
    "id": "2c6d4bdd-1e1b-4d0f-8f4c-818ea7e0dfe6",
    "jp-MarkdownHeadingCollapsed": true,
    "tags": []
   },
   "source": [
    "##### Hint 1:"
   ]
  },
  {
   "cell_type": "markdown",
   "id": "ff835f14-b280-4647-a8da-b71b64b10ddd",
   "metadata": {
    "id": "ff835f14-b280-4647-a8da-b71b64b10ddd"
   },
   "source": [
    "There is a function from the statsmodels library that can be used to get the summary of results from a model."
   ]
  },
  {
   "cell_type": "markdown",
   "id": "6f48de72-cb4a-45d8-9767-41be5569cbcc",
   "metadata": {
    "id": "6f48de72-cb4a-45d8-9767-41be5569cbcc",
    "jp-MarkdownHeadingCollapsed": true,
    "tags": []
   },
   "source": [
    "##### Hint 2:"
   ]
  },
  {
   "cell_type": "markdown",
   "id": "b30c5cfb-76e3-4f9d-af81-3815852eaa8d",
   "metadata": {
    "id": "b30c5cfb-76e3-4f9d-af81-3815852eaa8d"
   },
   "source": [
    "You can use the `summary` function from the statsmodels library here."
   ]
  },
  {
   "cell_type": "markdown",
   "id": "510b2158-2813-4600-868e-a909595a2366",
   "metadata": {
    "id": "510b2158-2813-4600-868e-a909595a2366",
    "tags": []
   },
   "source": [
    "### Let's take a look at the bottom table from the results summary. \n",
    "Based on that table, let's identify the coefficients that the model determined would generate the line of best fit, the coefficients here being the y-intercept and the slope. "
   ]
  },
  {
   "cell_type": "markdown",
   "id": "8e5327f7-006a-49e3-805c-69f0d4bc7ad0",
   "metadata": {
    "id": "8e5327f7-006a-49e3-805c-69f0d4bc7ad0"
   },
   "source": [
    "### Question 7: \n",
    "What is the y-intercept?\n"
   ]
  },
  {
   "cell_type": "markdown",
   "id": "97dd3e9d-5b39-4b65-8be8-4f24c1c7fac1",
   "metadata": {
    "id": "97dd3e9d-5b39-4b65-8be8-4f24c1c7fac1"
   },
   "source": [
    "### Question 8:\n",
    "What is the slope?\n"
   ]
  },
  {
   "cell_type": "markdown",
   "id": "4aef55e9-9741-4fb6-a540-518990f68a27",
   "metadata": {
    "id": "4aef55e9-9741-4fb6-a540-518990f68a27",
    "tags": []
   },
   "source": [
    "### Question 9:\n",
    "What is the linear equation you would write to express the relationship between body mass and flipper length in the form of y = slope * x + y-intercept.\n"
   ]
  },
  {
   "cell_type": "markdown",
   "id": "d1d4f2f8-2cf2-4e0b-9185-f103480e2716",
   "metadata": {
    "id": "d1d4f2f8-2cf2-4e0b-9185-f103480e2716"
   },
   "source": [
    "### Question 10:\n",
    "What do you think the slope in this context means?\n"
   ]
  },
  {
   "cell_type": "markdown",
   "id": "9508b99c-ff4e-402d-8cd6-4c03c8fe61c2",
   "metadata": {
    "id": "9508b99c-ff4e-402d-8cd6-4c03c8fe61c2"
   },
   "source": [
    "# Finish checking model assumptions "
   ]
  },
  {
   "cell_type": "markdown",
   "id": "447efee4-0d1a-438d-b8f6-82da983b3d13",
   "metadata": {
    "id": "447efee4-0d1a-438d-b8f6-82da983b3d13"
   },
   "source": [
    "### Normality Continued"
   ]
  },
  {
   "cell_type": "markdown",
   "id": "10779ad1-ec47-44f0-871c-d9da95d36f4f",
   "metadata": {
    "id": "10779ad1-ec47-44f0-871c-d9da95d36f4f"
   },
   "source": [
    "#### Check if the residuals are normally distributed."
   ]
  },
  {
   "cell_type": "code",
   "execution_count": null,
   "id": "52e336df-4719-4de1-8938-8827fce64868",
   "metadata": {
    "id": "52e336df-4719-4de1-8938-8827fce64868"
   },
   "outputs": [],
   "source": [
    "# Get the residuals from the model\n",
    "\n",
    "### YOUR CODE HERE\n",
    "\n",
    "\n",
    "\n",
    "# Check if the residuals are normally distributed\n",
    "\n",
    "### YOUR CODE HERE\n",
    "\n"
   ]
  },
  {
   "cell_type": "markdown",
   "id": "2df8a98a-75eb-4d69-970a-0bff18bd0303",
   "metadata": {
    "id": "2df8a98a-75eb-4d69-970a-0bff18bd0303",
    "jp-MarkdownHeadingCollapsed": true,
    "tags": []
   },
   "source": [
    "##### Hint 1:"
   ]
  },
  {
   "cell_type": "markdown",
   "id": "960d211a-7c53-470b-98e0-bc98a5efc2bc",
   "metadata": {
    "id": "960d211a-7c53-470b-98e0-bc98a5efc2bc"
   },
   "source": [
    "There is a function in the statsmodels library that can be used to get residuals. You can create a histogram to visualize the distribution of a variable. "
   ]
  },
  {
   "cell_type": "markdown",
   "id": "a3398e30-1807-4ab1-83b0-ab58b0f52d17",
   "metadata": {
    "id": "a3398e30-1807-4ab1-83b0-ab58b0f52d17",
    "jp-MarkdownHeadingCollapsed": true,
    "tags": []
   },
   "source": [
    "##### Hint 2:"
   ]
  },
  {
   "cell_type": "markdown",
   "id": "d20a90c5-d5c2-4fbe-9f8f-7c76be4f2340",
   "metadata": {
    "id": "d20a90c5-d5c2-4fbe-9f8f-7c76be4f2340"
   },
   "source": [
    "You can use the `resid` function from the statsmodels library to get the residuals. You can use the `hist` function from the matplotlib.pyplot module or the `histplot` function from the seaborn library to create a histogram."
   ]
  },
  {
   "cell_type": "markdown",
   "id": "403678c9-fa19-4e1e-98a2-8834224437dc",
   "metadata": {
    "id": "403678c9-fa19-4e1e-98a2-8834224437dc"
   },
   "source": [
    "### Question 11:\n",
    "Based on the histogram above, what do you observe about the distribution of the residuals?\n"
   ]
  },
  {
   "cell_type": "markdown",
   "id": "6883beb1-75d0-407c-a320-faf76adcd78c",
   "metadata": {
    "id": "6883beb1-75d0-407c-a320-faf76adcd78c"
   },
   "source": [
    "#### Confirm normality with a Q-Q plot."
   ]
  },
  {
   "cell_type": "code",
   "execution_count": null,
   "id": "9e55c95d-dda8-4705-9686-5872f881ecf3",
   "metadata": {
    "id": "9e55c95d-dda8-4705-9686-5872f881ecf3"
   },
   "outputs": [],
   "source": [
    "# Create a Q-Q plot to confirm normality assumption \n",
    "\n",
    "### YOUR CODE HERE\n",
    "\n"
   ]
  },
  {
   "cell_type": "markdown",
   "id": "8c36ddd7-97a3-4d24-b8e5-62f5341b8c5b",
   "metadata": {
    "id": "8c36ddd7-97a3-4d24-b8e5-62f5341b8c5b",
    "jp-MarkdownHeadingCollapsed": true,
    "tags": []
   },
   "source": [
    "##### Hint 1:"
   ]
  },
  {
   "cell_type": "markdown",
   "id": "64433cba-c5b6-456c-a34e-4d5016e2e1d7",
   "metadata": {
    "id": "64433cba-c5b6-456c-a34e-4d5016e2e1d7"
   },
   "source": [
    "There is a function in the statsmodels library that can be used to create a Q-Q plot. You can create a Q-Q plot of the residuals to confirm if the normality assumption is met. "
   ]
  },
  {
   "cell_type": "markdown",
   "id": "5c7144b6-a37d-4377-978c-58a266984afe",
   "metadata": {
    "id": "5c7144b6-a37d-4377-978c-58a266984afe",
    "jp-MarkdownHeadingCollapsed": true,
    "tags": []
   },
   "source": [
    "##### Hint 2:"
   ]
  },
  {
   "cell_type": "markdown",
   "id": "63d3cf08-f027-4052-9df7-ff2534cb7ebf",
   "metadata": {
    "id": "63d3cf08-f027-4052-9df7-ff2534cb7ebf"
   },
   "source": [
    "You can use the `qqplot` function from the statsmodels library to achieve this. "
   ]
  },
  {
   "cell_type": "markdown",
   "id": "2fc2c249-c17e-4102-8318-e0d775bc813e",
   "metadata": {
    "id": "2fc2c249-c17e-4102-8318-e0d775bc813e"
   },
   "source": [
    "### Question 12:\n",
    "What do you observe about the Q-Q plot above?\n"
   ]
  },
  {
   "cell_type": "markdown",
   "id": "cd46c8da-8d54-478e-9101-1a64ce73c858",
   "metadata": {
    "id": "cd46c8da-8d54-478e-9101-1a64ce73c858"
   },
   "source": [
    "### Homoscedasticity\n",
    "Check if the assumption of homoskedasticity is met."
   ]
  },
  {
   "cell_type": "code",
   "execution_count": null,
   "id": "e205c481-7f92-4203-a2cf-bd735870c294",
   "metadata": {
    "id": "e205c481-7f92-4203-a2cf-bd735870c294"
   },
   "outputs": [],
   "source": [
    "# Get the X values\n",
    "\n",
    "### YOUR CODE HERE\n",
    "\n",
    "\n",
    "\n",
    "# Get the fitted values\n",
    "\n",
    "### YOUR CODE HERE\n",
    "\n",
    "\n",
    "# Create a scatter plot\n",
    "\n",
    "### YOUR CODE HERE\n",
    "\n"
   ]
  },
  {
   "cell_type": "markdown",
   "id": "06804b6f-abf2-41ae-9e81-3bec4f8b823e",
   "metadata": {
    "id": "06804b6f-abf2-41ae-9e81-3bec4f8b823e",
    "jp-MarkdownHeadingCollapsed": true,
    "tags": []
   },
   "source": [
    "##### Hint 1:"
   ]
  },
  {
   "cell_type": "markdown",
   "id": "d62c971b-141b-4208-8e5e-fa605e2ea755",
   "metadata": {
    "id": "d62c971b-141b-4208-8e5e-fa605e2ea755"
   },
   "source": [
    "There is a function in the statsmodels library that can be used to get fitted values. You can create a scatter plot to check for homoskedasticity."
   ]
  },
  {
   "cell_type": "markdown",
   "id": "aaa3e688-a2dd-489b-9312-de90e1ed99ab",
   "metadata": {
    "id": "aaa3e688-a2dd-489b-9312-de90e1ed99ab",
    "jp-MarkdownHeadingCollapsed": true,
    "tags": []
   },
   "source": [
    "##### Hint 2:"
   ]
  },
  {
   "cell_type": "markdown",
   "id": "89eded84-6cb2-4f80-95f4-e1eb2c417c11",
   "metadata": {
    "id": "89eded84-6cb2-4f80-95f4-e1eb2c417c11"
   },
   "source": [
    "You can use the `predict` function from the statsmodels library to get the fitted values. You can create a scatter plot of the fitted values over the residuals to check for homoskedasticity."
   ]
  },
  {
   "cell_type": "markdown",
   "id": "cd9fd801-e2d0-4aa4-a7d4-344518f48330",
   "metadata": {
    "id": "cd9fd801-e2d0-4aa4-a7d4-344518f48330"
   },
   "source": [
    "### Question 13:\n",
    "What do you observe from the scatter plot above?\n"
   ]
  },
  {
   "cell_type": "markdown",
   "id": "614ac63a-1bf5-4ceb-8dbd-cef91a8e6428",
   "metadata": {
    "id": "614ac63a-1bf5-4ceb-8dbd-cef91a8e6428"
   },
   "source": [
    "# Conclusion\n",
    "\n",
    "**What are your key takeaways from this activity?**\n",
    "\n",
    "\n",
    "**How would you summarize the results?**\n",
    "\n",
    "\n",
    "**What story would your present to stakeholders?**\n",
    "\n"
   ]
  },
  {
   "cell_type": "code",
   "execution_count": null,
   "id": "acde0bcc-2795-497a-98bc-6b43e830abce",
   "metadata": {
    "id": "acde0bcc-2795-497a-98bc-6b43e830abce"
   },
   "outputs": [],
   "source": []
  }
 ],
 "metadata": {
  "colab": {
   "name": "SR-051_Simple_Linear_Regression_Learner.ipynb",
   "provenance": []
  },
  "kernelspec": {
   "display_name": "Python 3.10.7 64-bit",
   "language": "python",
   "name": "python3"
  },
  "language_info": {
   "codemirror_mode": {
    "name": "ipython",
    "version": 3
   },
   "file_extension": ".py",
   "mimetype": "text/x-python",
   "name": "python",
   "nbconvert_exporter": "python",
   "pygments_lexer": "ipython3",
   "version": "3.10.7"
  },
  "vscode": {
   "interpreter": {
    "hash": "a42ccb73e7d9bfdf27e036f1d2b8b681e55fc0743cc5586bc2474d4a60f4b886"
   }
  }
 },
 "nbformat": 4,
 "nbformat_minor": 5
}
