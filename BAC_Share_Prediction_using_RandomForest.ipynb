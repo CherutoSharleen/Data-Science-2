{
  "nbformat": 4,
  "nbformat_minor": 0,
  "metadata": {
    "colab": {
      "provenance": [],
      "authorship_tag": "ABX9TyNhgNCRy+rGJ1dzG471JZBW",
      "include_colab_link": true
    },
    "kernelspec": {
      "name": "python3",
      "display_name": "Python 3"
    },
    "language_info": {
      "name": "python"
    }
  },
  "cells": [
    {
      "cell_type": "markdown",
      "metadata": {
        "id": "view-in-github",
        "colab_type": "text"
      },
      "source": [
        "<a href=\"https://colab.research.google.com/github/CherutoSharleen/Data-Science-2/blob/main/BAC_Share_Prediction_using_RandomForest.ipynb\" target=\"_parent\"><img src=\"https://colab.research.google.com/assets/colab-badge.svg\" alt=\"Open In Colab\"/></a>"
      ]
    },
    {
      "cell_type": "code",
      "source": [
        "import pandas as pd\n",
        "from sklearn.ensemble import RandomForestRegressor\n",
        "\n",
        "#Feature Selection\n",
        "from sklearn.feature_selection import SelectFromModel\n",
        "\n",
        "#Split train and test data\n",
        "from sklearn.model_selection import train_test_split\n",
        "\n",
        "#For evaluation\n",
        "#We will use mean absolute and r2 score(should be closer to 1)\n",
        "from sklearn.metrics import mean_absolute_error, r2_score\n",
        "\n",
        "#Visualizing the prediction vs tests\n",
        "import matplotlib.pyplot as plt\n"
      ],
      "metadata": {
        "id": "_c3oQIKQTVFk"
      },
      "execution_count": 25,
      "outputs": []
    },
    {
      "cell_type": "markdown",
      "source": [
        "## Loading Dataset"
      ],
      "metadata": {
        "id": "qJVvMPJrlwLe"
      }
    },
    {
      "cell_type": "code",
      "source": [
        "# Load the dataset\n",
        "df = pd.read_pickle('all_banks.pickle')"
      ],
      "metadata": {
        "id": "8w387rIleLQ1"
      },
      "execution_count": null,
      "outputs": []
    },
    {
      "cell_type": "code",
      "source": [
        "df.head()"
      ],
      "metadata": {
        "colab": {
          "base_uri": "https://localhost:8080/",
          "height": 483
        },
        "id": "A0HZgpx3VZ7G",
        "outputId": "fe3444db-7abf-4a04-8d79-3ad900f2c980"
      },
      "execution_count": 2,
      "outputs": [
        {
          "output_type": "execute_result",
          "data": {
            "text/plain": [
              "Bank Ticker    BAC                                       C                \\\n",
              "Stock Info   Close   High    Low   Open      Volume  Close   High    Low   \n",
              "Date                                                                       \n",
              "2006-01-02   46.15  46.36  45.91  46.02         0.0  485.3  487.1  482.2   \n",
              "2006-01-03   47.08  47.18  46.15  46.92  16197900.0  492.9  493.8  481.1   \n",
              "2006-01-04   46.58  47.24  46.45  47.00  17427400.0  483.8  491.0  483.5   \n",
              "2006-01-05   46.64  46.83  46.32  46.58  14668900.0  486.2  487.8  484.0   \n",
              "2006-01-06   46.57  46.91  46.35  46.80  11965700.0  486.2  489.0  482.0   \n",
              "\n",
              "Bank Ticker                    ...       MS                             \\\n",
              "Stock Info    Open     Volume  ...    Close     High      Low     Open   \n",
              "Date                           ...                                       \n",
              "2006-01-02   483.5        0.0  ...  47.1008  47.3333  46.7107  47.2751   \n",
              "2006-01-03   490.0  1536700.0  ...  48.4041  48.5535  47.1008  47.4578   \n",
              "2006-01-04   488.6  1852790.0  ...  48.4373  49.2093  48.4373  48.7278   \n",
              "2006-01-05   484.4  1015470.0  ...  48.5701  48.6365  48.1634  48.6033   \n",
              "2006-01-06   488.8  1358930.0  ...  48.6199  48.8524  48.1883  48.7860   \n",
              "\n",
              "Bank Ticker                WFC                                      \n",
              "Stock Info      Volume   Close    High     Low    Open      Volume  \n",
              "Date                                                                \n",
              "2006-01-02         0.0  31.415  31.535  31.215  31.415         0.0  \n",
              "2006-01-03   6354408.0  31.900  31.975  31.195  31.600  11015000.0  \n",
              "2006-01-04   9292188.0  31.530  31.820  31.365  31.800  10594000.0  \n",
              "2006-01-05   6534262.0  31.495  31.555  31.310  31.500   9927600.0  \n",
              "2006-01-06   8146445.0  31.680  31.775  31.385  31.580   8324000.0  \n",
              "\n",
              "[5 rows x 30 columns]"
            ],
            "text/html": [
              "\n",
              "  <div id=\"df-19f86c34-df75-46fe-b6ce-2fe8949e7a18\">\n",
              "    <div class=\"colab-df-container\">\n",
              "      <div>\n",
              "<style scoped>\n",
              "    .dataframe tbody tr th:only-of-type {\n",
              "        vertical-align: middle;\n",
              "    }\n",
              "\n",
              "    .dataframe tbody tr th {\n",
              "        vertical-align: top;\n",
              "    }\n",
              "\n",
              "    .dataframe thead tr th {\n",
              "        text-align: left;\n",
              "    }\n",
              "\n",
              "    .dataframe thead tr:last-of-type th {\n",
              "        text-align: right;\n",
              "    }\n",
              "</style>\n",
              "<table border=\"1\" class=\"dataframe\">\n",
              "  <thead>\n",
              "    <tr>\n",
              "      <th>Bank Ticker</th>\n",
              "      <th colspan=\"5\" halign=\"left\">BAC</th>\n",
              "      <th colspan=\"5\" halign=\"left\">C</th>\n",
              "      <th>...</th>\n",
              "      <th colspan=\"5\" halign=\"left\">MS</th>\n",
              "      <th colspan=\"5\" halign=\"left\">WFC</th>\n",
              "    </tr>\n",
              "    <tr>\n",
              "      <th>Stock Info</th>\n",
              "      <th>Close</th>\n",
              "      <th>High</th>\n",
              "      <th>Low</th>\n",
              "      <th>Open</th>\n",
              "      <th>Volume</th>\n",
              "      <th>Close</th>\n",
              "      <th>High</th>\n",
              "      <th>Low</th>\n",
              "      <th>Open</th>\n",
              "      <th>Volume</th>\n",
              "      <th>...</th>\n",
              "      <th>Close</th>\n",
              "      <th>High</th>\n",
              "      <th>Low</th>\n",
              "      <th>Open</th>\n",
              "      <th>Volume</th>\n",
              "      <th>Close</th>\n",
              "      <th>High</th>\n",
              "      <th>Low</th>\n",
              "      <th>Open</th>\n",
              "      <th>Volume</th>\n",
              "    </tr>\n",
              "    <tr>\n",
              "      <th>Date</th>\n",
              "      <th></th>\n",
              "      <th></th>\n",
              "      <th></th>\n",
              "      <th></th>\n",
              "      <th></th>\n",
              "      <th></th>\n",
              "      <th></th>\n",
              "      <th></th>\n",
              "      <th></th>\n",
              "      <th></th>\n",
              "      <th></th>\n",
              "      <th></th>\n",
              "      <th></th>\n",
              "      <th></th>\n",
              "      <th></th>\n",
              "      <th></th>\n",
              "      <th></th>\n",
              "      <th></th>\n",
              "      <th></th>\n",
              "      <th></th>\n",
              "      <th></th>\n",
              "    </tr>\n",
              "  </thead>\n",
              "  <tbody>\n",
              "    <tr>\n",
              "      <th>2006-01-02</th>\n",
              "      <td>46.15</td>\n",
              "      <td>46.36</td>\n",
              "      <td>45.91</td>\n",
              "      <td>46.02</td>\n",
              "      <td>0.0</td>\n",
              "      <td>485.3</td>\n",
              "      <td>487.1</td>\n",
              "      <td>482.2</td>\n",
              "      <td>483.5</td>\n",
              "      <td>0.0</td>\n",
              "      <td>...</td>\n",
              "      <td>47.1008</td>\n",
              "      <td>47.3333</td>\n",
              "      <td>46.7107</td>\n",
              "      <td>47.2751</td>\n",
              "      <td>0.0</td>\n",
              "      <td>31.415</td>\n",
              "      <td>31.535</td>\n",
              "      <td>31.215</td>\n",
              "      <td>31.415</td>\n",
              "      <td>0.0</td>\n",
              "    </tr>\n",
              "    <tr>\n",
              "      <th>2006-01-03</th>\n",
              "      <td>47.08</td>\n",
              "      <td>47.18</td>\n",
              "      <td>46.15</td>\n",
              "      <td>46.92</td>\n",
              "      <td>16197900.0</td>\n",
              "      <td>492.9</td>\n",
              "      <td>493.8</td>\n",
              "      <td>481.1</td>\n",
              "      <td>490.0</td>\n",
              "      <td>1536700.0</td>\n",
              "      <td>...</td>\n",
              "      <td>48.4041</td>\n",
              "      <td>48.5535</td>\n",
              "      <td>47.1008</td>\n",
              "      <td>47.4578</td>\n",
              "      <td>6354408.0</td>\n",
              "      <td>31.900</td>\n",
              "      <td>31.975</td>\n",
              "      <td>31.195</td>\n",
              "      <td>31.600</td>\n",
              "      <td>11015000.0</td>\n",
              "    </tr>\n",
              "    <tr>\n",
              "      <th>2006-01-04</th>\n",
              "      <td>46.58</td>\n",
              "      <td>47.24</td>\n",
              "      <td>46.45</td>\n",
              "      <td>47.00</td>\n",
              "      <td>17427400.0</td>\n",
              "      <td>483.8</td>\n",
              "      <td>491.0</td>\n",
              "      <td>483.5</td>\n",
              "      <td>488.6</td>\n",
              "      <td>1852790.0</td>\n",
              "      <td>...</td>\n",
              "      <td>48.4373</td>\n",
              "      <td>49.2093</td>\n",
              "      <td>48.4373</td>\n",
              "      <td>48.7278</td>\n",
              "      <td>9292188.0</td>\n",
              "      <td>31.530</td>\n",
              "      <td>31.820</td>\n",
              "      <td>31.365</td>\n",
              "      <td>31.800</td>\n",
              "      <td>10594000.0</td>\n",
              "    </tr>\n",
              "    <tr>\n",
              "      <th>2006-01-05</th>\n",
              "      <td>46.64</td>\n",
              "      <td>46.83</td>\n",
              "      <td>46.32</td>\n",
              "      <td>46.58</td>\n",
              "      <td>14668900.0</td>\n",
              "      <td>486.2</td>\n",
              "      <td>487.8</td>\n",
              "      <td>484.0</td>\n",
              "      <td>484.4</td>\n",
              "      <td>1015470.0</td>\n",
              "      <td>...</td>\n",
              "      <td>48.5701</td>\n",
              "      <td>48.6365</td>\n",
              "      <td>48.1634</td>\n",
              "      <td>48.6033</td>\n",
              "      <td>6534262.0</td>\n",
              "      <td>31.495</td>\n",
              "      <td>31.555</td>\n",
              "      <td>31.310</td>\n",
              "      <td>31.500</td>\n",
              "      <td>9927600.0</td>\n",
              "    </tr>\n",
              "    <tr>\n",
              "      <th>2006-01-06</th>\n",
              "      <td>46.57</td>\n",
              "      <td>46.91</td>\n",
              "      <td>46.35</td>\n",
              "      <td>46.80</td>\n",
              "      <td>11965700.0</td>\n",
              "      <td>486.2</td>\n",
              "      <td>489.0</td>\n",
              "      <td>482.0</td>\n",
              "      <td>488.8</td>\n",
              "      <td>1358930.0</td>\n",
              "      <td>...</td>\n",
              "      <td>48.6199</td>\n",
              "      <td>48.8524</td>\n",
              "      <td>48.1883</td>\n",
              "      <td>48.7860</td>\n",
              "      <td>8146445.0</td>\n",
              "      <td>31.680</td>\n",
              "      <td>31.775</td>\n",
              "      <td>31.385</td>\n",
              "      <td>31.580</td>\n",
              "      <td>8324000.0</td>\n",
              "    </tr>\n",
              "  </tbody>\n",
              "</table>\n",
              "<p>5 rows × 30 columns</p>\n",
              "</div>\n",
              "      <button class=\"colab-df-convert\" onclick=\"convertToInteractive('df-19f86c34-df75-46fe-b6ce-2fe8949e7a18')\"\n",
              "              title=\"Convert this dataframe to an interactive table.\"\n",
              "              style=\"display:none;\">\n",
              "        \n",
              "  <svg xmlns=\"http://www.w3.org/2000/svg\" height=\"24px\"viewBox=\"0 0 24 24\"\n",
              "       width=\"24px\">\n",
              "    <path d=\"M0 0h24v24H0V0z\" fill=\"none\"/>\n",
              "    <path d=\"M18.56 5.44l.94 2.06.94-2.06 2.06-.94-2.06-.94-.94-2.06-.94 2.06-2.06.94zm-11 1L8.5 8.5l.94-2.06 2.06-.94-2.06-.94L8.5 2.5l-.94 2.06-2.06.94zm10 10l.94 2.06.94-2.06 2.06-.94-2.06-.94-.94-2.06-.94 2.06-2.06.94z\"/><path d=\"M17.41 7.96l-1.37-1.37c-.4-.4-.92-.59-1.43-.59-.52 0-1.04.2-1.43.59L10.3 9.45l-7.72 7.72c-.78.78-.78 2.05 0 2.83L4 21.41c.39.39.9.59 1.41.59.51 0 1.02-.2 1.41-.59l7.78-7.78 2.81-2.81c.8-.78.8-2.07 0-2.86zM5.41 20L4 18.59l7.72-7.72 1.47 1.35L5.41 20z\"/>\n",
              "  </svg>\n",
              "      </button>\n",
              "      \n",
              "  <style>\n",
              "    .colab-df-container {\n",
              "      display:flex;\n",
              "      flex-wrap:wrap;\n",
              "      gap: 12px;\n",
              "    }\n",
              "\n",
              "    .colab-df-convert {\n",
              "      background-color: #E8F0FE;\n",
              "      border: none;\n",
              "      border-radius: 50%;\n",
              "      cursor: pointer;\n",
              "      display: none;\n",
              "      fill: #1967D2;\n",
              "      height: 32px;\n",
              "      padding: 0 0 0 0;\n",
              "      width: 32px;\n",
              "    }\n",
              "\n",
              "    .colab-df-convert:hover {\n",
              "      background-color: #E2EBFA;\n",
              "      box-shadow: 0px 1px 2px rgba(60, 64, 67, 0.3), 0px 1px 3px 1px rgba(60, 64, 67, 0.15);\n",
              "      fill: #174EA6;\n",
              "    }\n",
              "\n",
              "    [theme=dark] .colab-df-convert {\n",
              "      background-color: #3B4455;\n",
              "      fill: #D2E3FC;\n",
              "    }\n",
              "\n",
              "    [theme=dark] .colab-df-convert:hover {\n",
              "      background-color: #434B5C;\n",
              "      box-shadow: 0px 1px 3px 1px rgba(0, 0, 0, 0.15);\n",
              "      filter: drop-shadow(0px 1px 2px rgba(0, 0, 0, 0.3));\n",
              "      fill: #FFFFFF;\n",
              "    }\n",
              "  </style>\n",
              "\n",
              "      <script>\n",
              "        const buttonEl =\n",
              "          document.querySelector('#df-19f86c34-df75-46fe-b6ce-2fe8949e7a18 button.colab-df-convert');\n",
              "        buttonEl.style.display =\n",
              "          google.colab.kernel.accessAllowed ? 'block' : 'none';\n",
              "\n",
              "        async function convertToInteractive(key) {\n",
              "          const element = document.querySelector('#df-19f86c34-df75-46fe-b6ce-2fe8949e7a18');\n",
              "          const dataTable =\n",
              "            await google.colab.kernel.invokeFunction('convertToInteractive',\n",
              "                                                     [key], {});\n",
              "          if (!dataTable) return;\n",
              "\n",
              "          const docLinkHtml = 'Like what you see? Visit the ' +\n",
              "            '<a target=\"_blank\" href=https://colab.research.google.com/notebooks/data_table.ipynb>data table notebook</a>'\n",
              "            + ' to learn more about interactive tables.';\n",
              "          element.innerHTML = '';\n",
              "          dataTable['output_type'] = 'display_data';\n",
              "          await google.colab.output.renderOutput(dataTable, element);\n",
              "          const docLink = document.createElement('div');\n",
              "          docLink.innerHTML = docLinkHtml;\n",
              "          element.appendChild(docLink);\n",
              "        }\n",
              "      </script>\n",
              "    </div>\n",
              "  </div>\n",
              "  "
            ]
          },
          "metadata": {},
          "execution_count": 2
        }
      ]
    },
    {
      "cell_type": "markdown",
      "source": [
        "## Selecting BAC Data Only.\n",
        "<p> I wanted to try out the Random Forest Model\n"
      ],
      "metadata": {
        "id": "ole00U-al1T-"
      }
    },
    {
      "cell_type": "code",
      "source": [
        "#Flatten columns\n",
        "# X = df.drop(columns=[('BAC', 'Close'), ('C', 'Close')], axis=1)\n",
        "# y = df.loc[:, [('BAC', 'Close'), ('C', 'Close')]].mean(axis=1)\n",
        "BAC_data = df['BAC']\n",
        "BAC_data.head()\n",
        "X = BAC_data.drop(('Close'), axis=1)\n",
        "y = BAC_data.loc[:, ('Close')]\n",
        "\n",
        "X.head()"
      ],
      "metadata": {
        "colab": {
          "base_uri": "https://localhost:8080/",
          "height": 237
        },
        "id": "f_C6hCQNVdv2",
        "outputId": "a3b7c806-6f88-49af-daf3-0878f49191dd"
      },
      "execution_count": 15,
      "outputs": [
        {
          "output_type": "execute_result",
          "data": {
            "text/plain": [
              "Stock Info   High    Low   Open      Volume\n",
              "Date                                       \n",
              "2006-01-02  46.36  45.91  46.02         0.0\n",
              "2006-01-03  47.18  46.15  46.92  16197900.0\n",
              "2006-01-04  47.24  46.45  47.00  17427400.0\n",
              "2006-01-05  46.83  46.32  46.58  14668900.0\n",
              "2006-01-06  46.91  46.35  46.80  11965700.0"
            ],
            "text/html": [
              "\n",
              "  <div id=\"df-953f51ef-705c-4f71-948d-6c314daade69\">\n",
              "    <div class=\"colab-df-container\">\n",
              "      <div>\n",
              "<style scoped>\n",
              "    .dataframe tbody tr th:only-of-type {\n",
              "        vertical-align: middle;\n",
              "    }\n",
              "\n",
              "    .dataframe tbody tr th {\n",
              "        vertical-align: top;\n",
              "    }\n",
              "\n",
              "    .dataframe thead th {\n",
              "        text-align: right;\n",
              "    }\n",
              "</style>\n",
              "<table border=\"1\" class=\"dataframe\">\n",
              "  <thead>\n",
              "    <tr style=\"text-align: right;\">\n",
              "      <th>Stock Info</th>\n",
              "      <th>High</th>\n",
              "      <th>Low</th>\n",
              "      <th>Open</th>\n",
              "      <th>Volume</th>\n",
              "    </tr>\n",
              "    <tr>\n",
              "      <th>Date</th>\n",
              "      <th></th>\n",
              "      <th></th>\n",
              "      <th></th>\n",
              "      <th></th>\n",
              "    </tr>\n",
              "  </thead>\n",
              "  <tbody>\n",
              "    <tr>\n",
              "      <th>2006-01-02</th>\n",
              "      <td>46.36</td>\n",
              "      <td>45.91</td>\n",
              "      <td>46.02</td>\n",
              "      <td>0.0</td>\n",
              "    </tr>\n",
              "    <tr>\n",
              "      <th>2006-01-03</th>\n",
              "      <td>47.18</td>\n",
              "      <td>46.15</td>\n",
              "      <td>46.92</td>\n",
              "      <td>16197900.0</td>\n",
              "    </tr>\n",
              "    <tr>\n",
              "      <th>2006-01-04</th>\n",
              "      <td>47.24</td>\n",
              "      <td>46.45</td>\n",
              "      <td>47.00</td>\n",
              "      <td>17427400.0</td>\n",
              "    </tr>\n",
              "    <tr>\n",
              "      <th>2006-01-05</th>\n",
              "      <td>46.83</td>\n",
              "      <td>46.32</td>\n",
              "      <td>46.58</td>\n",
              "      <td>14668900.0</td>\n",
              "    </tr>\n",
              "    <tr>\n",
              "      <th>2006-01-06</th>\n",
              "      <td>46.91</td>\n",
              "      <td>46.35</td>\n",
              "      <td>46.80</td>\n",
              "      <td>11965700.0</td>\n",
              "    </tr>\n",
              "  </tbody>\n",
              "</table>\n",
              "</div>\n",
              "      <button class=\"colab-df-convert\" onclick=\"convertToInteractive('df-953f51ef-705c-4f71-948d-6c314daade69')\"\n",
              "              title=\"Convert this dataframe to an interactive table.\"\n",
              "              style=\"display:none;\">\n",
              "        \n",
              "  <svg xmlns=\"http://www.w3.org/2000/svg\" height=\"24px\"viewBox=\"0 0 24 24\"\n",
              "       width=\"24px\">\n",
              "    <path d=\"M0 0h24v24H0V0z\" fill=\"none\"/>\n",
              "    <path d=\"M18.56 5.44l.94 2.06.94-2.06 2.06-.94-2.06-.94-.94-2.06-.94 2.06-2.06.94zm-11 1L8.5 8.5l.94-2.06 2.06-.94-2.06-.94L8.5 2.5l-.94 2.06-2.06.94zm10 10l.94 2.06.94-2.06 2.06-.94-2.06-.94-.94-2.06-.94 2.06-2.06.94z\"/><path d=\"M17.41 7.96l-1.37-1.37c-.4-.4-.92-.59-1.43-.59-.52 0-1.04.2-1.43.59L10.3 9.45l-7.72 7.72c-.78.78-.78 2.05 0 2.83L4 21.41c.39.39.9.59 1.41.59.51 0 1.02-.2 1.41-.59l7.78-7.78 2.81-2.81c.8-.78.8-2.07 0-2.86zM5.41 20L4 18.59l7.72-7.72 1.47 1.35L5.41 20z\"/>\n",
              "  </svg>\n",
              "      </button>\n",
              "      \n",
              "  <style>\n",
              "    .colab-df-container {\n",
              "      display:flex;\n",
              "      flex-wrap:wrap;\n",
              "      gap: 12px;\n",
              "    }\n",
              "\n",
              "    .colab-df-convert {\n",
              "      background-color: #E8F0FE;\n",
              "      border: none;\n",
              "      border-radius: 50%;\n",
              "      cursor: pointer;\n",
              "      display: none;\n",
              "      fill: #1967D2;\n",
              "      height: 32px;\n",
              "      padding: 0 0 0 0;\n",
              "      width: 32px;\n",
              "    }\n",
              "\n",
              "    .colab-df-convert:hover {\n",
              "      background-color: #E2EBFA;\n",
              "      box-shadow: 0px 1px 2px rgba(60, 64, 67, 0.3), 0px 1px 3px 1px rgba(60, 64, 67, 0.15);\n",
              "      fill: #174EA6;\n",
              "    }\n",
              "\n",
              "    [theme=dark] .colab-df-convert {\n",
              "      background-color: #3B4455;\n",
              "      fill: #D2E3FC;\n",
              "    }\n",
              "\n",
              "    [theme=dark] .colab-df-convert:hover {\n",
              "      background-color: #434B5C;\n",
              "      box-shadow: 0px 1px 3px 1px rgba(0, 0, 0, 0.15);\n",
              "      filter: drop-shadow(0px 1px 2px rgba(0, 0, 0, 0.3));\n",
              "      fill: #FFFFFF;\n",
              "    }\n",
              "  </style>\n",
              "\n",
              "      <script>\n",
              "        const buttonEl =\n",
              "          document.querySelector('#df-953f51ef-705c-4f71-948d-6c314daade69 button.colab-df-convert');\n",
              "        buttonEl.style.display =\n",
              "          google.colab.kernel.accessAllowed ? 'block' : 'none';\n",
              "\n",
              "        async function convertToInteractive(key) {\n",
              "          const element = document.querySelector('#df-953f51ef-705c-4f71-948d-6c314daade69');\n",
              "          const dataTable =\n",
              "            await google.colab.kernel.invokeFunction('convertToInteractive',\n",
              "                                                     [key], {});\n",
              "          if (!dataTable) return;\n",
              "\n",
              "          const docLinkHtml = 'Like what you see? Visit the ' +\n",
              "            '<a target=\"_blank\" href=https://colab.research.google.com/notebooks/data_table.ipynb>data table notebook</a>'\n",
              "            + ' to learn more about interactive tables.';\n",
              "          element.innerHTML = '';\n",
              "          dataTable['output_type'] = 'display_data';\n",
              "          await google.colab.output.renderOutput(dataTable, element);\n",
              "          const docLink = document.createElement('div');\n",
              "          docLink.innerHTML = docLinkHtml;\n",
              "          element.appendChild(docLink);\n",
              "        }\n",
              "      </script>\n",
              "    </div>\n",
              "  </div>\n",
              "  "
            ]
          },
          "metadata": {},
          "execution_count": 15
        }
      ]
    },
    {
      "cell_type": "markdown",
      "source": [
        "##Feature Selection\n",
        "<p> Used the sklearn lib"
      ],
      "metadata": {
        "id": "B3nHeES4mEOa"
      }
    },
    {
      "cell_type": "code",
      "source": [
        "\n",
        "# Train the model\n",
        "rf = RandomForestRegressor(n_estimators=100)\n",
        "rf.fit(X, y)\n",
        "\n",
        "# Create a SelectFromModel object\n",
        "sfm = SelectFromModel(rf, threshold=0.05)\n",
        "\n",
        "# Fit the SelectFromModel object to the data\n",
        "sfm.fit(X, y)\n",
        "\n"
      ],
      "metadata": {
        "colab": {
          "base_uri": "https://localhost:8080/"
        },
        "id": "nCdtVj50cfq3",
        "outputId": "2b9661be-bc99-4f60-9091-c4d9e9c7c459"
      },
      "execution_count": 11,
      "outputs": [
        {
          "output_type": "execute_result",
          "data": {
            "text/plain": [
              "SelectFromModel(estimator=RandomForestRegressor(), threshold=0.05)"
            ]
          },
          "metadata": {},
          "execution_count": 11
        }
      ]
    },
    {
      "cell_type": "code",
      "source": [
        "# Print the features that were selected\n",
        "selected_features = X.columns[sfm.get_support()]\n",
        "print(selected_features)\n"
      ],
      "metadata": {
        "colab": {
          "base_uri": "https://localhost:8080/"
        },
        "id": "5d7oKPOPcoFi",
        "outputId": "278c69aa-fb80-4ee7-b2b2-a88e9d170792"
      },
      "execution_count": 12,
      "outputs": [
        {
          "output_type": "stream",
          "name": "stdout",
          "text": [
            "Index(['High', 'Low'], dtype='object', name='Stock Info')\n"
          ]
        }
      ]
    },
    {
      "cell_type": "code",
      "execution_count": 14,
      "metadata": {
        "id": "YeoWPz3xG_qJ",
        "colab": {
          "base_uri": "https://localhost:8080/"
        },
        "outputId": "dc502295-8532-40bc-9480-38c05ad6b591"
      },
      "outputs": [
        {
          "output_type": "stream",
          "name": "stdout",
          "text": [
            "Feature: 0, Score: 0.79568\n",
            "Feature: 1, Score: 0.19840\n",
            "Feature: 2, Score: 0.00585\n",
            "Feature: 3, Score: 0.00006\n"
          ]
        }
      ],
      "source": [
        "\n",
        "# Print feature importance\n",
        "importance = rf.feature_importances_\n",
        "for i,v in enumerate(importance):\n",
        "\tprint('Feature: %0d, Score: %.5f' % (i,v))"
      ]
    },
    {
      "cell_type": "markdown",
      "source": [
        "## Split Train and Test Data\n"
      ],
      "metadata": {
        "id": "IumyPA9omWSX"
      }
    },
    {
      "cell_type": "markdown",
      "source": [
        "<p> I might remove volume and open juu zilirank low...idk"
      ],
      "metadata": {
        "id": "gso-u_ZdmpOk"
      }
    },
    {
      "cell_type": "code",
      "source": [
        "\n",
        "\n",
        "# Split the data into training and testing sets\n",
        "# 80% train 20% test.\n",
        "X_train, X_test, y_train, y_test = train_test_split(X, y, test_size=0.2, random_state=42)\n",
        "\n",
        "# Create an instance of the RandomForestRegressor class\n",
        "rf = RandomForestRegressor(n_estimators=100, random_state=42)\n",
        "\n",
        "# Fit the model to the training data\n",
        "rf.fit(X_train, y_train)\n"
      ],
      "metadata": {
        "colab": {
          "base_uri": "https://localhost:8080/"
        },
        "id": "w-kI3uItTRj2",
        "outputId": "7b56a349-3ae5-42cf-acf5-13beccf90f8b"
      },
      "execution_count": 17,
      "outputs": [
        {
          "output_type": "execute_result",
          "data": {
            "text/plain": [
              "RandomForestRegressor(random_state=42)"
            ]
          },
          "metadata": {},
          "execution_count": 17
        }
      ]
    },
    {
      "cell_type": "code",
      "source": [
        "X_train.head()"
      ],
      "metadata": {
        "colab": {
          "base_uri": "https://localhost:8080/",
          "height": 237
        },
        "id": "dOiIkq7leUUJ",
        "outputId": "3527a94f-2a7b-4b13-daae-cee053bbbb0f"
      },
      "execution_count": 18,
      "outputs": [
        {
          "output_type": "execute_result",
          "data": {
            "text/plain": [
              "Stock Info   High      Low   Open       Volume\n",
              "Date                                          \n",
              "2016-04-14  14.28  13.7000  13.71  179357997.0\n",
              "2006-02-01  44.24  43.8600  44.10   15794500.0\n",
              "2012-08-14   7.90   7.7400   7.78  104643945.0\n",
              "2009-12-22  15.44  15.3188  15.36  104061029.0\n",
              "2012-03-02   8.21   8.0950   8.11  143887406.0"
            ],
            "text/html": [
              "\n",
              "  <div id=\"df-1ea43bf6-5165-4d06-b692-7e11e8e84512\">\n",
              "    <div class=\"colab-df-container\">\n",
              "      <div>\n",
              "<style scoped>\n",
              "    .dataframe tbody tr th:only-of-type {\n",
              "        vertical-align: middle;\n",
              "    }\n",
              "\n",
              "    .dataframe tbody tr th {\n",
              "        vertical-align: top;\n",
              "    }\n",
              "\n",
              "    .dataframe thead th {\n",
              "        text-align: right;\n",
              "    }\n",
              "</style>\n",
              "<table border=\"1\" class=\"dataframe\">\n",
              "  <thead>\n",
              "    <tr style=\"text-align: right;\">\n",
              "      <th>Stock Info</th>\n",
              "      <th>High</th>\n",
              "      <th>Low</th>\n",
              "      <th>Open</th>\n",
              "      <th>Volume</th>\n",
              "    </tr>\n",
              "    <tr>\n",
              "      <th>Date</th>\n",
              "      <th></th>\n",
              "      <th></th>\n",
              "      <th></th>\n",
              "      <th></th>\n",
              "    </tr>\n",
              "  </thead>\n",
              "  <tbody>\n",
              "    <tr>\n",
              "      <th>2016-04-14</th>\n",
              "      <td>14.28</td>\n",
              "      <td>13.7000</td>\n",
              "      <td>13.71</td>\n",
              "      <td>179357997.0</td>\n",
              "    </tr>\n",
              "    <tr>\n",
              "      <th>2006-02-01</th>\n",
              "      <td>44.24</td>\n",
              "      <td>43.8600</td>\n",
              "      <td>44.10</td>\n",
              "      <td>15794500.0</td>\n",
              "    </tr>\n",
              "    <tr>\n",
              "      <th>2012-08-14</th>\n",
              "      <td>7.90</td>\n",
              "      <td>7.7400</td>\n",
              "      <td>7.78</td>\n",
              "      <td>104643945.0</td>\n",
              "    </tr>\n",
              "    <tr>\n",
              "      <th>2009-12-22</th>\n",
              "      <td>15.44</td>\n",
              "      <td>15.3188</td>\n",
              "      <td>15.36</td>\n",
              "      <td>104061029.0</td>\n",
              "    </tr>\n",
              "    <tr>\n",
              "      <th>2012-03-02</th>\n",
              "      <td>8.21</td>\n",
              "      <td>8.0950</td>\n",
              "      <td>8.11</td>\n",
              "      <td>143887406.0</td>\n",
              "    </tr>\n",
              "  </tbody>\n",
              "</table>\n",
              "</div>\n",
              "      <button class=\"colab-df-convert\" onclick=\"convertToInteractive('df-1ea43bf6-5165-4d06-b692-7e11e8e84512')\"\n",
              "              title=\"Convert this dataframe to an interactive table.\"\n",
              "              style=\"display:none;\">\n",
              "        \n",
              "  <svg xmlns=\"http://www.w3.org/2000/svg\" height=\"24px\"viewBox=\"0 0 24 24\"\n",
              "       width=\"24px\">\n",
              "    <path d=\"M0 0h24v24H0V0z\" fill=\"none\"/>\n",
              "    <path d=\"M18.56 5.44l.94 2.06.94-2.06 2.06-.94-2.06-.94-.94-2.06-.94 2.06-2.06.94zm-11 1L8.5 8.5l.94-2.06 2.06-.94-2.06-.94L8.5 2.5l-.94 2.06-2.06.94zm10 10l.94 2.06.94-2.06 2.06-.94-2.06-.94-.94-2.06-.94 2.06-2.06.94z\"/><path d=\"M17.41 7.96l-1.37-1.37c-.4-.4-.92-.59-1.43-.59-.52 0-1.04.2-1.43.59L10.3 9.45l-7.72 7.72c-.78.78-.78 2.05 0 2.83L4 21.41c.39.39.9.59 1.41.59.51 0 1.02-.2 1.41-.59l7.78-7.78 2.81-2.81c.8-.78.8-2.07 0-2.86zM5.41 20L4 18.59l7.72-7.72 1.47 1.35L5.41 20z\"/>\n",
              "  </svg>\n",
              "      </button>\n",
              "      \n",
              "  <style>\n",
              "    .colab-df-container {\n",
              "      display:flex;\n",
              "      flex-wrap:wrap;\n",
              "      gap: 12px;\n",
              "    }\n",
              "\n",
              "    .colab-df-convert {\n",
              "      background-color: #E8F0FE;\n",
              "      border: none;\n",
              "      border-radius: 50%;\n",
              "      cursor: pointer;\n",
              "      display: none;\n",
              "      fill: #1967D2;\n",
              "      height: 32px;\n",
              "      padding: 0 0 0 0;\n",
              "      width: 32px;\n",
              "    }\n",
              "\n",
              "    .colab-df-convert:hover {\n",
              "      background-color: #E2EBFA;\n",
              "      box-shadow: 0px 1px 2px rgba(60, 64, 67, 0.3), 0px 1px 3px 1px rgba(60, 64, 67, 0.15);\n",
              "      fill: #174EA6;\n",
              "    }\n",
              "\n",
              "    [theme=dark] .colab-df-convert {\n",
              "      background-color: #3B4455;\n",
              "      fill: #D2E3FC;\n",
              "    }\n",
              "\n",
              "    [theme=dark] .colab-df-convert:hover {\n",
              "      background-color: #434B5C;\n",
              "      box-shadow: 0px 1px 3px 1px rgba(0, 0, 0, 0.15);\n",
              "      filter: drop-shadow(0px 1px 2px rgba(0, 0, 0, 0.3));\n",
              "      fill: #FFFFFF;\n",
              "    }\n",
              "  </style>\n",
              "\n",
              "      <script>\n",
              "        const buttonEl =\n",
              "          document.querySelector('#df-1ea43bf6-5165-4d06-b692-7e11e8e84512 button.colab-df-convert');\n",
              "        buttonEl.style.display =\n",
              "          google.colab.kernel.accessAllowed ? 'block' : 'none';\n",
              "\n",
              "        async function convertToInteractive(key) {\n",
              "          const element = document.querySelector('#df-1ea43bf6-5165-4d06-b692-7e11e8e84512');\n",
              "          const dataTable =\n",
              "            await google.colab.kernel.invokeFunction('convertToInteractive',\n",
              "                                                     [key], {});\n",
              "          if (!dataTable) return;\n",
              "\n",
              "          const docLinkHtml = 'Like what you see? Visit the ' +\n",
              "            '<a target=\"_blank\" href=https://colab.research.google.com/notebooks/data_table.ipynb>data table notebook</a>'\n",
              "            + ' to learn more about interactive tables.';\n",
              "          element.innerHTML = '';\n",
              "          dataTable['output_type'] = 'display_data';\n",
              "          await google.colab.output.renderOutput(dataTable, element);\n",
              "          const docLink = document.createElement('div');\n",
              "          docLink.innerHTML = docLinkHtml;\n",
              "          element.appendChild(docLink);\n",
              "        }\n",
              "      </script>\n",
              "    </div>\n",
              "  </div>\n",
              "  "
            ]
          },
          "metadata": {},
          "execution_count": 18
        }
      ]
    },
    {
      "cell_type": "markdown",
      "source": [
        "##Predictions and Evaluation"
      ],
      "metadata": {
        "id": "6VjWEjqBm1NC"
      }
    },
    {
      "cell_type": "code",
      "source": [
        "# Make predictions on the test data\n",
        "y_pred = rf.predict(X_test)"
      ],
      "metadata": {
        "id": "Pv7DOtt5eY7f"
      },
      "execution_count": 26,
      "outputs": []
    },
    {
      "cell_type": "code",
      "source": [
        "\n",
        "# Calculate the mean absolute error\n",
        "mae = mean_absolute_error(y_test, y_pred)\n",
        "\n",
        "# Calculate the r-squared score\n",
        "r2 = r2_score(y_test, y_pred)\n",
        "\n",
        "# Print the evaluation metrics\n",
        "print(\"Mean Absolute Error: \", mae)\n",
        "print(\"R-squared score: \", r2)\n"
      ],
      "metadata": {
        "colab": {
          "base_uri": "https://localhost:8080/"
        },
        "id": "GjJzN0pshErX",
        "outputId": "ff371133-8c2e-4344-deb7-82a2a71e11e1"
      },
      "execution_count": 20,
      "outputs": [
        {
          "output_type": "stream",
          "name": "stdout",
          "text": [
            "Mean Absolute Error:  0.17166423136646045\n",
            "R-squared score:  0.9995497344592209\n"
          ]
        }
      ]
    },
    {
      "cell_type": "code",
      "source": [
        "# Create a scatter plot of the predicted values vs the actual values\n",
        "plt.scatter(y_test, y_pred, alpha=0.5)\n",
        "plt.xlabel('Actual values')\n",
        "plt.ylabel('Predicted values')\n",
        "plt.title('Scatter Plot')\n",
        "plt.show()"
      ],
      "metadata": {
        "colab": {
          "base_uri": "https://localhost:8080/",
          "height": 295
        },
        "id": "DFy34vJakqP0",
        "outputId": "9905b358-7fed-4e0d-9de1-637211de57ef"
      },
      "execution_count": 28,
      "outputs": [
        {
          "output_type": "display_data",
          "data": {
            "text/plain": [
              "<Figure size 432x288 with 1 Axes>"
            ],
            "image/png": "[encoded data removed]"
          },
          "metadata": {
            "needs_background": "light"
          }
        }
      ]
    },
    {
      "cell_type": "code",
      "source": [
        "#Visualize the accuracy using a residual plot\n",
        "# Residual difference in expected and prediction\n",
        "import matplotlib.pyplot as plt\n",
        "\n",
        "# Calculate the residuals\n",
        "residuals = y_test - y_pred\n",
        "\n",
        "# Create a scatter plot of the residuals\n",
        "plt.scatter(y_pred, residuals, alpha=0.5)\n",
        "plt.xlabel('Predictions')\n",
        "plt.ylabel('Residuals')\n",
        "plt.title('Residual Plot')\n",
        "plt.show()\n"
      ],
      "metadata": {
        "colab": {
          "base_uri": "https://localhost:8080/",
          "height": 295
        },
        "id": "PGUdA1kVj1xN",
        "outputId": "c65ef95c-60c2-4f6e-ee65-4acbcb2efd3a"
      },
      "execution_count": 27,
      "outputs": [
        {
          "output_type": "display_data",
          "data": {
            "text/plain": [
              "<Figure size 432x288 with 1 Axes>"
            ],
            "image/png": "[encoded data removed]"
          },
          "metadata": {
            "needs_background": "light"
          }
        }
      ]
    },
    {
      "cell_type": "code",
      "source": [
        "#This cell is for predicting user entered data\n",
        "#Predict User Entered Data\n",
        "# Get user input\n",
        "'''\n",
        "open_price = float(input(\"Enter the opening price: \"))\n",
        "high_price = float(input(\"Enter the high price: \"))\n",
        "low_price = float(input(\"Enter the low price: \"))\n",
        "volume = float(input(\"Enter the volume: \"))\n",
        "\n",
        "# Create a new list containing the user input\n",
        "new_data = [[open_price, high_price, low_price, volume]]\n",
        "\n",
        "# Make a prediction using the trained model\n",
        "predicted_price = rf.predict(new_data)\n",
        "'''"
      ],
      "metadata": {
        "colab": {
          "base_uri": "https://localhost:8080/",
          "height": 72
        },
        "id": "0Ooe3touhgjg",
        "outputId": "e91d6084-d3ae-4ac3-d1a1-447325e40462"
      },
      "execution_count": 24,
      "outputs": [
        {
          "output_type": "execute_result",
          "data": {
            "text/plain": [
              "'\\nopen_price = float(input(\"Enter the opening price: \"))\\nhigh_price = float(input(\"Enter the high price: \"))\\nlow_price = float(input(\"Enter the low price: \"))\\nvolume = float(input(\"Enter the volume: \"))\\n\\n# Create a new list containing the user input\\nnew_data = [[open_price, high_price, low_price, volume]]\\n\\n# Make a prediction using the trained model\\npredicted_price = rf.predict(new_data)\\n'"
            ],
            "application/vnd.google.colaboratory.intrinsic+json": {
              "type": "string"
            }
          },
          "metadata": {},
          "execution_count": 24
        }
      ]
    }
  ]
}