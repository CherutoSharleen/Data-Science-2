{
  "nbformat": 4,
  "nbformat_minor": 0,
  "metadata": {
    "colab": {
      "provenance": [],
      "collapsed_sections": [],
      "include_colab_link": true
    },
    "kernelspec": {
      "name": "python3",
      "display_name": "Python 3"
    },
    "language_info": {
      "name": "python"
    }
  },
  "cells": [
    {
      "cell_type": "markdown",
      "metadata": {
        "id": "view-in-github",
        "colab_type": "text"
      },
      "source": [
        "<a href=\"https://colab.research.google.com/github/CherutoSharleen/Data-Science-2/blob/main/Sharleen_Busienei_Assignment4_LearnerFacing.ipynb\" target=\"_parent\"><img src=\"https://colab.research.google.com/assets/colab-badge.svg\" alt=\"Open In Colab\"/></a>"
      ]
    },
    {
      "cell_type": "code",
      "execution_count": 2,
      "metadata": {
        "id": "Ks5dpBPS4lfj",
        "colab": {
          "base_uri": "https://localhost:8080/",
          "height": 35
        },
        "outputId": "41d9ec7e-03cb-4ce9-f30c-89cc6542b9f2"
      },
      "outputs": [
        {
          "output_type": "execute_result",
          "data": {
            "text/plain": [
              "'\\nSeaborn - used for statistical plotting. Builds on matplotlib for more colourful plots\\n'"
            ],
            "application/vnd.google.colaboratory.intrinsic+json": {
              "type": "string"
            }
          },
          "metadata": {},
          "execution_count": 2
        }
      ],
      "source": [
        "# Import relevant libraries and modules with appropriate aliases --- you will need pandas, seaborn, matplotlib.pyplot, numpy\n",
        "import pandas as pd\n",
        "import matplotlib.pyplot as plt\n",
        "import numpy as np\n",
        "import seaborn as sns\n",
        "\n",
        "'''\n",
        "Seaborn - used for statistical plotting. Builds on matplotlib for more colourful plots\n",
        "'''"
      ]
    },
    {
      "cell_type": "markdown",
      "source": [
        "Work with the taxis dataset"
      ],
      "metadata": {
        "id": "H5IGFsxZf5Si"
      }
    },
    {
      "cell_type": "code",
      "source": [
        "# Load the taxis dataset from sns into a variable\n",
        "taxis = sns.load_dataset(\"taxis\")\n"
      ],
      "metadata": {
        "id": "U_Q60WLv8ZCM"
      },
      "execution_count": 3,
      "outputs": []
    },
    {
      "cell_type": "code",
      "source": [
        "# Display the first few rows of the taxis dataset\n",
        "taxis.head(n=10)\n"
      ],
      "metadata": {
        "id": "8F6soGug8cLN"
      },
      "execution_count": null,
      "outputs": []
    },
    {
      "cell_type": "code",
      "source": [
        "# Display number of rows, number of columns in the taxis dataset\n",
        "#gets rows and columns of the data frame as a tuple\n",
        "taxis.shape"
      ],
      "metadata": {
        "id": "XCFXEcsxB_b0",
        "colab": {
          "base_uri": "https://localhost:8080/"
        },
        "outputId": "7fb8ec55-5f76-4d3b-bb7f-0bf560782652"
      },
      "execution_count": null,
      "outputs": [
        {
          "output_type": "stream",
          "name": "stdout",
          "text": [
            "<class 'pandas.core.frame.DataFrame'>\n",
            "RangeIndex: 6433 entries, 0 to 6432\n",
            "Data columns (total 14 columns):\n",
            " #   Column           Non-Null Count  Dtype  \n",
            "---  ------           --------------  -----  \n",
            " 0   pickup           6433 non-null   object \n",
            " 1   dropoff          6433 non-null   object \n",
            " 2   passengers       6433 non-null   int64  \n",
            " 3   distance         6433 non-null   float64\n",
            " 4   fare             6433 non-null   float64\n",
            " 5   tip              6433 non-null   float64\n",
            " 6   tolls            6433 non-null   float64\n",
            " 7   total            6433 non-null   float64\n",
            " 8   color            6433 non-null   object \n",
            " 9   payment          6389 non-null   object \n",
            " 10  pickup_zone      6407 non-null   object \n",
            " 11  dropoff_zone     6388 non-null   object \n",
            " 12  pickup_borough   6407 non-null   object \n",
            " 13  dropoff_borough  6388 non-null   object \n",
            "dtypes: float64(5), int64(1), object(8)\n",
            "memory usage: 703.7+ KB\n"
          ]
        },
        {
          "output_type": "execute_result",
          "data": {
            "text/plain": [
              "(6433, 14)"
            ]
          },
          "metadata": {},
          "execution_count": 16
        }
      ]
    },
    {
      "cell_type": "code",
      "source": [
        "# Display number of rows in taxis dataset\n",
        "taxis_rows = len(taxis)\n",
        "taxis_rows"
      ],
      "metadata": {
        "id": "wMyWado5kJt1",
        "colab": {
          "base_uri": "https://localhost:8080/"
        },
        "outputId": "a4052600-42fb-4215-c449-b997a7b29841"
      },
      "execution_count": null,
      "outputs": [
        {
          "output_type": "execute_result",
          "data": {
            "text/plain": [
              "6433"
            ]
          },
          "metadata": {},
          "execution_count": 17
        }
      ]
    },
    {
      "cell_type": "code",
      "source": [
        "# Display number of columns in taxis dataset\n",
        "taxis_columns = len(taxis.columns)\n",
        "taxis_columns"
      ],
      "metadata": {
        "id": "7783iqwNkMy7",
        "colab": {
          "base_uri": "https://localhost:8080/"
        },
        "outputId": "bf6aee82-fb8b-4555-e59e-046b4035d8cc"
      },
      "execution_count": null,
      "outputs": [
        {
          "output_type": "execute_result",
          "data": {
            "text/plain": [
              "14"
            ]
          },
          "metadata": {},
          "execution_count": 20
        }
      ]
    },
    {
      "cell_type": "code",
      "source": [
        "# Display the data types in the taxis dataset\n",
        "# Shows entire information of the dataset\n",
        "taxis.info()\n",
        "# Shows only data types of the dataset\n",
        "taxis.dtypes"
      ],
      "metadata": {
        "id": "fLQeyc6PhlQa",
        "colab": {
          "base_uri": "https://localhost:8080/"
        },
        "outputId": "b07c53d8-6e53-4bc3-8c10-613d4a15bc48"
      },
      "execution_count": null,
      "outputs": [
        {
          "output_type": "execute_result",
          "data": {
            "text/plain": [
              "pickup              object\n",
              "dropoff             object\n",
              "passengers           int64\n",
              "distance           float64\n",
              "fare               float64\n",
              "tip                float64\n",
              "tolls              float64\n",
              "total              float64\n",
              "color               object\n",
              "payment             object\n",
              "pickup_zone         object\n",
              "dropoff_zone        object\n",
              "pickup_borough      object\n",
              "dropoff_borough     object\n",
              "dtype: object"
            ]
          },
          "metadata": {},
          "execution_count": 22
        }
      ]
    },
    {
      "cell_type": "code",
      "source": [
        "# Plot the distribution for distance\n",
        "plt.hist(taxis[\"distance\"])\n"
      ],
      "metadata": {
        "id": "dBQt_pQ0HY4v",
        "colab": {
          "base_uri": "https://localhost:8080/",
          "height": 352
        },
        "outputId": "1736846c-2f4f-4f0b-f917-4a1f28df742c"
      },
      "execution_count": null,
      "outputs": [
        {
          "output_type": "execute_result",
          "data": {
            "text/plain": [
              "(array([5.05e+03, 7.46e+02, 3.19e+02, 1.26e+02, 1.03e+02, 6.50e+01,\n",
              "        1.50e+01, 4.00e+00, 1.00e+00, 4.00e+00]),\n",
              " array([ 0.  ,  3.67,  7.34, 11.01, 14.68, 18.35, 22.02, 25.69, 29.36,\n",
              "        33.03, 36.7 ]),\n",
              " <a list of 10 Patch objects>)"
            ]
          },
          "metadata": {},
          "execution_count": 51
        },
        {
          "output_type": "display_data",
          "data": {
            "text/plain": [
              "<Figure size 432x288 with 1 Axes>"
            ],
            "image/png": "[encoded data removed]"
          },
          "metadata": {
            "needs_background": "light"
          }
        }
      ]
    },
    {
      "cell_type": "code",
      "source": [
        "# Compute the mean for distance\n",
        "# Manual Computation\n",
        "mean = sum(taxis[\"distance\"])/len(taxis[\"distance\"])\n",
        "mean"
      ],
      "metadata": {
        "id": "ShMHPcqpEmlK",
        "colab": {
          "base_uri": "https://localhost:8080/"
        },
        "outputId": "364e7196-9c75-4f93-bc21-42ef1aad5e70"
      },
      "execution_count": null,
      "outputs": [
        {
          "output_type": "execute_result",
          "data": {
            "text/plain": [
              "3.0246168195243133"
            ]
          },
          "metadata": {},
          "execution_count": 54
        }
      ]
    },
    {
      "cell_type": "code",
      "source": [
        "# use the Mean function from numpy\n",
        "np.mean(taxis[\"distance\"])"
      ],
      "metadata": {
        "colab": {
          "base_uri": "https://localhost:8080/"
        },
        "id": "ilniI0ho3yF4",
        "outputId": "b1647fb2-3990-4692-cc40-0dff216ad970"
      },
      "execution_count": null,
      "outputs": [
        {
          "output_type": "execute_result",
          "data": {
            "text/plain": [
              "3.024616819524328"
            ]
          },
          "metadata": {},
          "execution_count": 56
        }
      ]
    },
    {
      "cell_type": "code",
      "source": [
        "# Compute the median for distance\n",
        "np.median(taxis[\"distance\"])\n"
      ],
      "metadata": {
        "id": "dPS5DzqtGTgU",
        "colab": {
          "base_uri": "https://localhost:8080/"
        },
        "outputId": "1aade699-e185-404a-9f5e-28c3b5999fed"
      },
      "execution_count": null,
      "outputs": [
        {
          "output_type": "execute_result",
          "data": {
            "text/plain": [
              "1.64"
            ]
          },
          "metadata": {},
          "execution_count": 9
        }
      ]
    },
    {
      "cell_type": "code",
      "source": [
        "# Compute the standard deviation for distance with the ddof parameter set to 1\n",
        "np.std(taxis[\"distance\"],ddof=1)"
      ],
      "metadata": {
        "id": "u15C6iDaE1qq",
        "colab": {
          "base_uri": "https://localhost:8080/"
        },
        "outputId": "c3921667-06e0-4164-a8e8-e5e67b17ccad"
      },
      "execution_count": null,
      "outputs": [
        {
          "output_type": "execute_result",
          "data": {
            "text/plain": [
              "3.827867001011754"
            ]
          },
          "metadata": {},
          "execution_count": 5
        }
      ]
    },
    {
      "cell_type": "code",
      "source": [
        "# Plot the distribution for fare\n",
        "plt.hist(taxis[\"fare\"])\n",
        "plt.show()"
      ],
      "metadata": {
        "id": "1yVr3bvhK7Hd",
        "colab": {
          "base_uri": "https://localhost:8080/",
          "height": 265
        },
        "outputId": "e8191efc-b675-4e66-d28b-6ef4cc3d17f6"
      },
      "execution_count": null,
      "outputs": [
        {
          "output_type": "display_data",
          "data": {
            "text/plain": [
              "<Figure size 432x288 with 1 Axes>"
            ],
            "image/png": "[encoded data removed]"
          },
          "metadata": {
            "needs_background": "light"
          }
        }
      ]
    },
    {
      "cell_type": "code",
      "source": [
        "# Compute the mean for fare\n",
        "np.mean(taxis[\"fare\"])\n"
      ],
      "metadata": {
        "id": "qqmUkAFVE40r",
        "colab": {
          "base_uri": "https://localhost:8080/"
        },
        "outputId": "5996b709-b0c8-4e49-b5b0-c1c47efe8f0b"
      },
      "execution_count": null,
      "outputs": [
        {
          "output_type": "execute_result",
          "data": {
            "text/plain": [
              "13.091072594434944"
            ]
          },
          "metadata": {},
          "execution_count": 60
        }
      ]
    },
    {
      "cell_type": "code",
      "source": [
        "# Compute the median for fare\n",
        "np.median(taxis[\"fare\"])\n"
      ],
      "metadata": {
        "id": "7ubcgxH1HJjH",
        "colab": {
          "base_uri": "https://localhost:8080/"
        },
        "outputId": "3fb5044f-013d-4a15-c31f-38935d1e1f3f"
      },
      "execution_count": null,
      "outputs": [
        {
          "output_type": "execute_result",
          "data": {
            "text/plain": [
              "9.5"
            ]
          },
          "metadata": {},
          "execution_count": 7
        }
      ]
    },
    {
      "cell_type": "code",
      "source": [
        "# Compute the standard deviation for fare with the ddof parameter set to 1\n",
        "# Using Numpy\n",
        "np.std(taxis[\"fare\"],ddof=1)\n",
        "# Using Pandas \n",
        "pd.Series.std(taxis[\"fare\"])"
      ],
      "metadata": {
        "id": "vAZBR53sE40s",
        "colab": {
          "base_uri": "https://localhost:8080/"
        },
        "outputId": "7ed8b0cc-f556-41ff-e534-daed7d8a8e6e"
      },
      "execution_count": 5,
      "outputs": [
        {
          "output_type": "execute_result",
          "data": {
            "text/plain": [
              "11.551804266414893"
            ]
          },
          "metadata": {},
          "execution_count": 5
        }
      ]
    },
    {
      "cell_type": "code",
      "source": [
        "# Create a scatter plot of fare versus distance\n",
        "sns.scatterplot(data=taxis, x=\"fare\", y=\"distance\")\n",
        "plt.show()"
      ],
      "metadata": {
        "id": "ikpI_rbE8c8_",
        "colab": {
          "base_uri": "https://localhost:8080/",
          "height": 279
        },
        "outputId": "fe01e4f9-d168-4653-ff80-1c5c28f82dfe"
      },
      "execution_count": 7,
      "outputs": [
        {
          "output_type": "display_data",
          "data": {
            "text/plain": [
              "<Figure size 432x288 with 1 Axes>"
            ],
            "image/png": "[encoded data removed]"
          },
          "metadata": {
            "needs_background": "light"
          }
        }
      ]
    },
    {
      "cell_type": "code",
      "source": [
        "# Define a function named standard_units that takes in an array of numbers, converts them to standard units, and returns the result\n",
        "def standard_units(numsArray):\n",
        "  stdUnits = \n",
        "  return stdUnits\n"
      ],
      "metadata": {
        "id": "Eu66BKTe8_j8"
      },
      "execution_count": null,
      "outputs": []
    },
    {
      "cell_type": "code",
      "source": [
        "# Define a function named correlation that takes in a DataFrame and labels for the two columns from that DataFrame\n",
        "# and returns the correlation coefficient AKA r\n",
        "\n"
      ],
      "metadata": {
        "id": "ZnOGVRD59IA6"
      },
      "execution_count": null,
      "outputs": []
    },
    {
      "cell_type": "code",
      "source": [
        "# Compute the correlation coefficient for the correlation between distance and fare\n",
        "\n"
      ],
      "metadata": {
        "id": "hclk4NS29M_7"
      },
      "execution_count": null,
      "outputs": []
    },
    {
      "cell_type": "markdown",
      "source": [
        "Work with the tips dataset"
      ],
      "metadata": {
        "id": "msGXvYCZf_id"
      }
    },
    {
      "cell_type": "code",
      "source": [
        "# Load the tips dataset from sns into a variable\n",
        "import seaborn as sns\n",
        "import matplotlib.pyplot as plt"
      ],
      "metadata": {
        "id": "HW9kCJcU9V5G"
      },
      "execution_count": null,
      "outputs": []
    },
    {
      "cell_type": "code",
      "source": [
        "# Display the first few rows of the tips dataset\n",
        "tips = sns.load_dataset(\"tips\")\n"
      ],
      "metadata": {
        "id": "au4CemxkEbcs"
      },
      "execution_count": null,
      "outputs": []
    },
    {
      "cell_type": "code",
      "source": [
        "# Display number of rows, number of columns in tips dataset\n",
        "tips.shape\n"
      ],
      "metadata": {
        "id": "y2x_wHTUjwJP",
        "colab": {
          "base_uri": "https://localhost:8080/"
        },
        "outputId": "9302e736-d64c-4bbf-fa28-7d0a2497f62d"
      },
      "execution_count": null,
      "outputs": [
        {
          "output_type": "execute_result",
          "data": {
            "text/plain": [
              "(244, 7)"
            ]
          },
          "metadata": {},
          "execution_count": 26
        }
      ]
    },
    {
      "cell_type": "code",
      "source": [
        "# Display number of rows in tips dataset\n",
        "len(tips)\n"
      ],
      "metadata": {
        "id": "zdm203FAj4TN",
        "colab": {
          "base_uri": "https://localhost:8080/"
        },
        "outputId": "928d4206-acbd-48c9-b3fb-58c9a39eedfb"
      },
      "execution_count": null,
      "outputs": [
        {
          "output_type": "execute_result",
          "data": {
            "text/plain": [
              "244"
            ]
          },
          "metadata": {},
          "execution_count": 27
        }
      ]
    },
    {
      "cell_type": "code",
      "source": [
        "# Display number of columns in tips dataset\n",
        "len(tips.columns)\n"
      ],
      "metadata": {
        "id": "3vUKLXjokEtt",
        "colab": {
          "base_uri": "https://localhost:8080/"
        },
        "outputId": "2fbf1145-707f-43f6-d1f1-2a0c0c4dfd7e"
      },
      "execution_count": null,
      "outputs": [
        {
          "output_type": "execute_result",
          "data": {
            "text/plain": [
              "7"
            ]
          },
          "metadata": {},
          "execution_count": 28
        }
      ]
    },
    {
      "cell_type": "code",
      "source": [
        "# Display the data types in tips dataset\n",
        "tips.dtypes\n"
      ],
      "metadata": {
        "id": "EvIN-DxugHBu",
        "colab": {
          "base_uri": "https://localhost:8080/"
        },
        "outputId": "d902c462-1afa-49f5-9403-1083a390770a"
      },
      "execution_count": null,
      "outputs": [
        {
          "output_type": "execute_result",
          "data": {
            "text/plain": [
              "total_bill     float64\n",
              "tip            float64\n",
              "sex           category\n",
              "smoker        category\n",
              "day           category\n",
              "time          category\n",
              "size             int64\n",
              "dtype: object"
            ]
          },
          "metadata": {},
          "execution_count": 29
        }
      ]
    },
    {
      "cell_type": "code",
      "source": [
        "#.loc()\n",
        "# get number of entries for Sunday\n",
        "tips[tips[\"day\"]==\"Sun\"]\n",
        "num_of_Sundays = len(tips[tips[\"day\"]==\"Sun\"])\n",
        "num_of_Sundays"
      ],
      "metadata": {
        "colab": {
          "base_uri": "https://localhost:8080/"
        },
        "id": "TrlXxQXIzF6V",
        "outputId": "1148b64b-b6c4-4c8f-a4e7-5c5ddfb21c55"
      },
      "execution_count": null,
      "outputs": [
        {
          "output_type": "execute_result",
          "data": {
            "text/plain": [
              "76"
            ]
          },
          "metadata": {},
          "execution_count": 35
        }
      ]
    },
    {
      "cell_type": "code",
      "source": [
        "# get number of entries for Saturdays\n",
        "tips[tips[\"day\"] == \"Sat\"]\n",
        "num_of_Saturdays = len(tips[tips[\"day\"]==\"Sat\"])\n",
        "num_of_Saturdays"
      ],
      "metadata": {
        "id": "YjraIKHNz2dN"
      },
      "execution_count": null,
      "outputs": []
    },
    {
      "cell_type": "code",
      "source": [
        "# get number of unique days\n",
        "tips[\"day\"].nunique()\n",
        "# get the actual unique days\n",
        "tips[\"day\"].unique()"
      ],
      "metadata": {
        "colab": {
          "base_uri": "https://localhost:8080/"
        },
        "id": "9tIpxadi0BMJ",
        "outputId": "fc03680a-dd8b-43d2-f180-df3e3b366f60"
      },
      "execution_count": null,
      "outputs": [
        {
          "output_type": "execute_result",
          "data": {
            "text/plain": [
              "['Sun', 'Sat', 'Thur', 'Fri']\n",
              "Categories (4, object): ['Thur', 'Fri', 'Sat', 'Sun']"
            ]
          },
          "metadata": {},
          "execution_count": 40
        }
      ]
    },
    {
      "cell_type": "code",
      "source": [
        "# counts for each unique day\n",
        "tips[\"day\"].value_counts()"
      ],
      "metadata": {
        "colab": {
          "base_uri": "https://localhost:8080/"
        },
        "id": "F9on5z9A0XX8",
        "outputId": "8cc3ccd8-0da5-4d41-9b40-259148a1c769"
      },
      "execution_count": null,
      "outputs": [
        {
          "output_type": "execute_result",
          "data": {
            "text/plain": [
              "Sat     87\n",
              "Sun     76\n",
              "Thur    62\n",
              "Fri     19\n",
              "Name: day, dtype: int64"
            ]
          },
          "metadata": {},
          "execution_count": 41
        }
      ]
    },
    {
      "cell_type": "code",
      "source": [
        "# Plot the distribution for total_bill\n",
        "# distribution in a numerical column is continuous in nature\n",
        "# QUALITATIVE DATA - like Days using BarCharts\n",
        "# QUANTITATIVE DATA - use Histogram\n",
        "\n",
        "# Gets entire histogram\n",
        "plt.hist(tips[\"total_bill\"])\n",
        "# Gets the histogram Shape only\n",
        "plt.show()\n",
        "\n",
        "#skewed to the right"
      ],
      "metadata": {
        "id": "ofimpM5GksS1",
        "colab": {
          "base_uri": "https://localhost:8080/",
          "height": 265
        },
        "outputId": "34aa0079-bb41-4932-b0b4-924ecd1184da"
      },
      "execution_count": null,
      "outputs": [
        {
          "output_type": "display_data",
          "data": {
            "text/plain": [
              "<Figure size 432x288 with 1 Axes>"
            ],
            "image/png": "[encoded data removed]"
          },
          "metadata": {
            "needs_background": "light"
          }
        }
      ]
    },
    {
      "cell_type": "code",
      "source": [
        "# Compute the mean for total_bill\n",
        "np.mean(tips[\"total_bill\"])\n",
        "tips[\"total_bill\"].mean()"
      ],
      "metadata": {
        "id": "qfSfXHnDksSw",
        "colab": {
          "base_uri": "https://localhost:8080/"
        },
        "outputId": "9707d915-d892-4d3c-c4cc-392cde201425"
      },
      "execution_count": null,
      "outputs": [
        {
          "output_type": "execute_result",
          "data": {
            "text/plain": [
              "19.78594262295082"
            ]
          },
          "metadata": {},
          "execution_count": 59
        }
      ]
    },
    {
      "cell_type": "code",
      "source": [
        "# Compute the median for total_bill\n",
        "\n"
      ],
      "metadata": {
        "id": "kezXFocwksSz"
      },
      "execution_count": null,
      "outputs": []
    },
    {
      "cell_type": "code",
      "source": [
        "# Compute the standard deviation for total_bill with the ddof parameter set to 1\n",
        "\n"
      ],
      "metadata": {
        "id": "Gj8RyKCBksS0"
      },
      "execution_count": null,
      "outputs": []
    },
    {
      "cell_type": "code",
      "source": [
        "# Plot the distribution for tip\n",
        "plt.hist(tips[\"tip\"])\n",
        "plt.show()"
      ],
      "metadata": {
        "id": "2BjoZmAyrWPp",
        "colab": {
          "base_uri": "https://localhost:8080/",
          "height": 265
        },
        "outputId": "fca68644-8a5c-412e-b8b7-a993ea718dc7"
      },
      "execution_count": null,
      "outputs": [
        {
          "output_type": "display_data",
          "data": {
            "text/plain": [
              "<Figure size 432x288 with 1 Axes>"
            ],
            "image/png": "[encoded data removed]"
          },
          "metadata": {
            "needs_background": "light"
          }
        }
      ]
    },
    {
      "cell_type": "code",
      "source": [
        "# Compute the mean for tip\n",
        "np.mean(tips[\"tip\"])\n"
      ],
      "metadata": {
        "id": "qxphLZssksS2",
        "colab": {
          "base_uri": "https://localhost:8080/"
        },
        "outputId": "5551b4ff-afa3-4357-f945-b02e31ee2e81"
      },
      "execution_count": null,
      "outputs": [
        {
          "output_type": "execute_result",
          "data": {
            "text/plain": [
              "2.99827868852459"
            ]
          },
          "metadata": {},
          "execution_count": 63
        }
      ]
    },
    {
      "cell_type": "code",
      "source": [
        "# Compute the median for tip\n",
        "\n"
      ],
      "metadata": {
        "id": "rb9px9sPksS2"
      },
      "execution_count": null,
      "outputs": []
    },
    {
      "cell_type": "code",
      "source": [
        "# Compute the standard deviation for tip with the ddof parameter set to 1\n",
        "\n"
      ],
      "metadata": {
        "id": "KgbEYOPIksS3"
      },
      "execution_count": null,
      "outputs": []
    },
    {
      "cell_type": "code",
      "source": [
        "# Create a scatter plot of tip versus total_bill\n",
        "\n"
      ],
      "metadata": {
        "id": "RZCcbeAqksS3"
      },
      "execution_count": null,
      "outputs": []
    },
    {
      "cell_type": "code",
      "source": [
        "# Compute the correlation coefficient for the correlation between total_bill and tip\n",
        "\n"
      ],
      "metadata": {
        "id": "8t7nNfqjksS6"
      },
      "execution_count": null,
      "outputs": []
    }
  ]
}