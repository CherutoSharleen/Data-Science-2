{
  "metadata": {
    "kernelspec": {
      "name": "python",
      "display_name": "Python (Pyodide)",
      "language": "python"
    },
    "language_info": {
      "codemirror_mode": {
        "name": "python",
        "version": 3
      },
      "file_extension": ".py",
      "mimetype": "text/x-python",
      "name": "python",
      "nbconvert_exporter": "python",
      "pygments_lexer": "ipython3",
      "version": "3.8"
    },
    "colab": {
      "provenance": [],
      "toc_visible": true,
      "include_colab_link": true
    }
  },
  "nbformat_minor": 5,
  "nbformat": 4,
  "cells": [
    {
      "cell_type": "markdown",
      "metadata": {
        "id": "view-in-github",
        "colab_type": "text"
      },
      "source": [
        "<a href=\"https://colab.research.google.com/github/CherutoSharleen/Data-Science-2/blob/main/MultipleLinearRegression.ipynb\" target=\"_parent\"><img src=\"https://colab.research.google.com/assets/colab-badge.svg\" alt=\"Open In Colab\"/></a>"
      ]
    },
    {
      "cell_type": "markdown",
      "source": [
        "# Activity: Perform multiple linear regression\n"
      ],
      "metadata": {
        "id": "3efad4c7-d34f-44b0-a48d-94651f931bae"
      },
      "id": "3efad4c7-d34f-44b0-a48d-94651f931bae"
    },
    {
      "cell_type": "markdown",
      "source": [
        "## Introduction"
      ],
      "metadata": {
        "id": "2faf7b57-5c13-45e5-b666-d575eff0d17c"
      },
      "id": "2faf7b57-5c13-45e5-b666-d575eff0d17c"
    },
    {
      "cell_type": "markdown",
      "source": [
        "As you've learned, multiple linear regression helps you estimate the linear relationship between one continuous dependent variable and two or more independent variables. For data science professionals, this is a useful skill because it allows you to consider more than one variable against the variable you're measuring against. This opens the door for much more thorough and flexible analysis to be completed. \n",
        "\n",
        "For this activity, imagine that you want to help your friend by analyzing their small business' historical marketing promotion data. Each row corresponds to an independent marketing promotion where their business uses TV, social media, radio, and influencer promotions to increase sales. They previously had you work on finding a single variable that predicts sales, and they're now hoping to expanding this analysis to include other variables that can help them target their marketing efforts.\n",
        "\n",
        "To address the business's request, you'll conduct a multiple linear regression analysis to estimate sales from a combination of independent variables. This will include:\n",
        "\n",
        "* Exploring and cleaning data\n",
        "* Using plots and descriptive statistics to select the independent variables\n",
        "* Creating a fitting multiple linear regression model\n",
        "* Checking model assumptions\n",
        "* Interpreting model outputs and communicating the results to non-technical stakeholders"
      ],
      "metadata": {
        "id": "2ca9aca5-33e0-4aa7-acdb-05832b05e5a9"
      },
      "id": "2ca9aca5-33e0-4aa7-acdb-05832b05e5a9"
    },
    {
      "cell_type": "markdown",
      "source": [
        "## Step 1. Relevant Imports"
      ],
      "metadata": {
        "id": "bfcf5ec2-e48b-4443-9bf6-72670bd60041"
      },
      "id": "bfcf5ec2-e48b-4443-9bf6-72670bd60041"
    },
    {
      "cell_type": "markdown",
      "source": [
        "### Import packages"
      ],
      "metadata": {
        "id": "9d3f02aa-20dd-4844-baad-c080e7d5c48d"
      },
      "id": "9d3f02aa-20dd-4844-baad-c080e7d5c48d"
    },
    {
      "cell_type": "markdown",
      "source": [
        "First, import relevant Python libraries and modules."
      ],
      "metadata": {
        "id": "7dcaa8a0-4fe8-4816-9ef5-5fc665a4638f"
      },
      "id": "7dcaa8a0-4fe8-4816-9ef5-5fc665a4638f"
    },
    {
      "cell_type": "code",
      "source": [
        "# Import libraries and modules\n",
        "\n",
        "### YOUR CODE HERE ### \n",
        "import numpy as np\n",
        "import pandas as pd\n",
        "\n"
      ],
      "metadata": {
        "id": "b2f4b9fa-b7bd-4b88-8c71-d3af5ddcb906"
      },
      "execution_count": 1,
      "outputs": [],
      "id": "b2f4b9fa-b7bd-4b88-8c71-d3af5ddcb906"
    },
    {
      "cell_type": "markdown",
      "source": [
        "### Load dataset"
      ],
      "metadata": {
        "id": "84d9d20a-4ea9-4f2d-a633-b21420f47eeb"
      },
      "id": "84d9d20a-4ea9-4f2d-a633-b21420f47eeb"
    },
    {
      "cell_type": "markdown",
      "source": [
        "Load the dataset `marketing_and_sales_data.csv` as `data` and display the first five rows. The variables in the dataset have been adjusted to suit the objectives of this lab."
      ],
      "metadata": {
        "id": "b05c77e3-9f0f-4245-a683-07be022e2cd6"
      },
      "id": "b05c77e3-9f0f-4245-a683-07be022e2cd6"
    },
    {
      "cell_type": "code",
      "source": [
        "# Load the data\n",
        "\n",
        "### YOUR CODE HERE ### \n",
        "pd.read_csv()\n",
        "\n",
        "# Display the first five rows\n",
        "\n",
        "### YOUR CODE HERE ### \n",
        "\n"
      ],
      "metadata": {
        "id": "32d46d82-2bd6-4433-b56e-cfa5542949ca"
      },
      "execution_count": null,
      "outputs": [],
      "id": "32d46d82-2bd6-4433-b56e-cfa5542949ca"
    },
    {
      "cell_type": "markdown",
      "source": [
        "The features in the data are:\n",
        "* TV promotion budget (in Low, Medium, and High categories)\n",
        "* Social media promotion budget (in millions of dollars)\n",
        "* Radio promotion budget (in millions of dollars)\n",
        "* Sales (in millions of dollars)\n",
        "* Influencer size (in Mega, Macro, Nano, and Micro categories)"
      ],
      "metadata": {
        "id": "c179e85f-20df-4840-ad29-de35b928dff6"
      },
      "id": "c179e85f-20df-4840-ad29-de35b928dff6"
    },
    {
      "cell_type": "markdown",
      "source": [
        "#### **QUESTION 1: What are some purposes of EDA before constructing a multiple linear regression model?**\n",
        "\n"
      ],
      "metadata": {
        "id": "6db7b19a-dd9b-490a-b389-0c433ed16754"
      },
      "id": "6db7b19a-dd9b-490a-b389-0c433ed16754"
    },
    {
      "cell_type": "markdown",
      "source": [],
      "metadata": {
        "id": "2Kp1icGR4gz3"
      },
      "id": "2Kp1icGR4gz3"
    },
    {
      "cell_type": "markdown",
      "source": [
        "## Step 2. Data Exploration"
      ],
      "metadata": {
        "id": "fd47ede7-63ff-4fe5-aeb0-b8f909e9ecbe"
      },
      "id": "fd47ede7-63ff-4fe5-aeb0-b8f909e9ecbe"
    },
    {
      "cell_type": "markdown",
      "source": [
        "First, create a pairplot to visualize the relationship between the continous variables in `data`."
      ],
      "metadata": {
        "id": "3f63f855-1dac-415b-a303-4f66fc39322c"
      },
      "id": "3f63f855-1dac-415b-a303-4f66fc39322c"
    },
    {
      "cell_type": "code",
      "source": [
        "# Create a pairplot of the data\n",
        "\n",
        "### YOUR CODE HERE ### \n",
        "\n"
      ],
      "metadata": {
        "id": "518254a6-44d5-45bf-9b57-13ce3a4deab3"
      },
      "execution_count": null,
      "outputs": [],
      "id": "518254a6-44d5-45bf-9b57-13ce3a4deab3"
    },
    {
      "cell_type": "markdown",
      "source": [
        "<details>\n",
        "<summary><h4><strong>HINT 1</strong></h4></summary>\n",
        "\n",
        "You can refer back to the material where creating a pairplot is demonstrated.\n",
        "\n",
        "</details>\n"
      ],
      "metadata": {
        "id": "93223044-e133-4d60-ab37-d792ca43c234"
      },
      "id": "93223044-e133-4d60-ab37-d792ca43c234"
    },
    {
      "cell_type": "markdown",
      "source": [
        "<details>\n",
        "<summary><h4><strong>HINT 2</strong></h4></summary>\n",
        "\n",
        "There is a function in the `seaborn` library that allows you to create a pairplot showing the relationships between variables in the data.\n",
        "\n",
        "</details>\n"
      ],
      "metadata": {
        "id": "fb6bfb6f-35b6-427e-8d58-8ae5f25c5b9f"
      },
      "id": "fb6bfb6f-35b6-427e-8d58-8ae5f25c5b9f"
    },
    {
      "cell_type": "markdown",
      "source": [
        "<details>\n",
        "<summary><h4><strong>HINT 3</strong></h4></summary>\n",
        "\n",
        "Use the `pairplot()` function from the `seaborn` library and pass in the entire dataframe.\n",
        "\n",
        "</details>\n"
      ],
      "metadata": {
        "id": "672bccbf-ffc6-4999-8153-12d658341f56"
      },
      "id": "672bccbf-ffc6-4999-8153-12d658341f56"
    },
    {
      "cell_type": "markdown",
      "source": [
        "#### **QUESTION 2: Which variables have a linear relationship with `Sales`? Why are some variables in the data excluded from the plot above?**\n",
        "\n"
      ],
      "metadata": {
        "id": "043e38a8-35fe-4c4e-b278-f3dab9b897da"
      },
      "id": "043e38a8-35fe-4c4e-b278-f3dab9b897da"
    },
    {
      "cell_type": "markdown",
      "source": [],
      "metadata": {
        "id": "1AsrnNkd4hl9"
      },
      "id": "1AsrnNkd4hl9"
    },
    {
      "cell_type": "markdown",
      "source": [
        "### Categorical variables"
      ],
      "metadata": {
        "id": "af82ed3e-be07-47a2-8531-ac759b607dd7"
      },
      "id": "af82ed3e-be07-47a2-8531-ac759b607dd7"
    },
    {
      "cell_type": "markdown",
      "source": [
        "There are two categorical variables, `TV` and `Influencer`. To characterize the relationship between the categorical variables and `Sales`, find the mean `Sales` for each category in `TV` and the mean `Sales` for each category in`Influencer`. "
      ],
      "metadata": {
        "id": "63116e2d-3453-478e-a98e-8564ff72829c"
      },
      "id": "63116e2d-3453-478e-a98e-8564ff72829c"
    },
    {
      "cell_type": "code",
      "source": [
        "# Calculate the mean Sales for each TV category \n",
        "\n",
        "### YOUR CODE HERE ### \n",
        "\n",
        "\n",
        "\n",
        "# Calculate the mean Sales for each Influencer category \n",
        "\n",
        "### YOUR CODE HERE ### \n",
        "\n"
      ],
      "metadata": {
        "id": "cf770bc2-d2fd-4441-99b0-94ac2e704f90"
      },
      "execution_count": null,
      "outputs": [],
      "id": "cf770bc2-d2fd-4441-99b0-94ac2e704f90"
    },
    {
      "cell_type": "markdown",
      "source": [
        "<details>\n",
        "<summary><h4><strong>HINT 1</strong></h4></summary>\n",
        "\n",
        "Find the mean `Sales` when the `TV` promotion is `High`, `Medium`, or `Low`.\n",
        "    \n",
        "Find the mean `Sales` when the `Influencer` promotion is `Macro`, `Mega`, `Micro`, or `Nano`.  \n",
        "\n",
        "</details>"
      ],
      "metadata": {
        "id": "75cca644-b19a-4a48-b99e-e5261de0ac7c"
      },
      "id": "75cca644-b19a-4a48-b99e-e5261de0ac7c"
    },
    {
      "cell_type": "markdown",
      "source": [
        "<details>\n",
        "<summary><h4><strong>HINT 2</strong></h4></summary>\n",
        "\n",
        "The `groupby` operation in `pandas` can be used to split an object (e.g., data) into groups and apply a calculation to each group.\n",
        "\n",
        "</details>"
      ],
      "metadata": {
        "id": "66d8f2bb-3eac-487f-8357-ffe1c69fb1a7"
      },
      "id": "66d8f2bb-3eac-487f-8357-ffe1c69fb1a7"
    },
    {
      "cell_type": "markdown",
      "source": [
        "<details>\n",
        "<summary><h4><strong>HINT 3</strong></h4></summary>\n",
        "\n",
        "To calculate the mean `Sales` for each `TV` category, group by `TV`, select the `Sales` column, then calculate the mean. \n",
        "    \n",
        "The same logic will apply for calculating the mean `Sales` for each `Influencer` category.\n",
        "\n",
        "</details>"
      ],
      "metadata": {
        "id": "84b3354e-a688-469f-9891-677d935eddd2"
      },
      "id": "84b3354e-a688-469f-9891-677d935eddd2"
    },
    {
      "cell_type": "markdown",
      "source": [
        "#### **QUESTION 3: What do you notice about the categorical variables? Could they be useful predictors of `Sales`?**\n",
        "\n"
      ],
      "metadata": {
        "id": "e415aa95-0650-47e0-9efd-2770b8dfcb3d"
      },
      "id": "e415aa95-0650-47e0-9efd-2770b8dfcb3d"
    },
    {
      "cell_type": "markdown",
      "source": [],
      "metadata": {
        "id": "2-NgZvWJ4ijo"
      },
      "id": "2-NgZvWJ4ijo"
    },
    {
      "cell_type": "markdown",
      "source": [
        "### Removing missing data\n",
        "\n",
        "As you discovered in prior labs, this dataset contains rows with missing values. \n",
        "\n",
        "To correct this, drop all rows in the data that contain missing data."
      ],
      "metadata": {
        "id": "0f4adbee-9d13-400a-99e6-6d4c482b8e17"
      },
      "id": "0f4adbee-9d13-400a-99e6-6d4c482b8e17"
    },
    {
      "cell_type": "code",
      "source": [
        "# Drop rows that contain missing data and update the dataframe\n",
        "\n",
        "### YOUR CODE HERE ### \n",
        "\n"
      ],
      "metadata": {
        "id": "498e546b-e90e-4b84-a7d7-12b3bb514c1d"
      },
      "execution_count": null,
      "outputs": [],
      "id": "498e546b-e90e-4b84-a7d7-12b3bb514c1d"
    },
    {
      "cell_type": "markdown",
      "source": [
        "<details>\n",
        "<summary><h4><strong>HINT 1</strong></h4></summary>\n",
        "\n",
        "There is a `pandas` function that removes missing values.\n",
        "\n",
        "</details>"
      ],
      "metadata": {
        "id": "e37d7507-1f3d-4432-912e-ced7feff4ac6"
      },
      "id": "e37d7507-1f3d-4432-912e-ced7feff4ac6"
    },
    {
      "cell_type": "markdown",
      "source": [
        "<details>\n",
        "<summary><h4><strong>HINT 2</strong></h4></summary>\n",
        "\n",
        "The `dropna()` function removes missing values from an object (e.g., DataFrame).\n",
        "\n",
        "</details>"
      ],
      "metadata": {
        "id": "19cd01e1-9976-47f6-b25c-7b8ce2a05627"
      },
      "id": "19cd01e1-9976-47f6-b25c-7b8ce2a05627"
    },
    {
      "cell_type": "markdown",
      "source": [
        "<details>\n",
        "<summary><h4><strong>HINT 3</strong></h4></summary>\n",
        "\n",
        "Use `data.dropna(axis=0)` to drop all rows with missing values in `data`. Be sure to properly update the dataframe.\n",
        "\n",
        "</details>"
      ],
      "metadata": {
        "id": "87a46eec-9d3e-4657-bf91-6b3bd02089f0"
      },
      "id": "87a46eec-9d3e-4657-bf91-6b3bd02089f0"
    },
    {
      "cell_type": "markdown",
      "source": [
        "### Cleaning column names"
      ],
      "metadata": {
        "id": "6c77f884-a459-4083-ac2f-abfd2d476f28"
      },
      "id": "6c77f884-a459-4083-ac2f-abfd2d476f28"
    },
    {
      "cell_type": "markdown",
      "source": [
        "The `ols()` function doesn't run when variable names contain a space. \n",
        "\n",
        "Check the column names in `data` do not contain spaces and fix the column names if needed."
      ],
      "metadata": {
        "id": "f1235ced-59ff-46e0-9120-c52517ec89d1"
      },
      "id": "f1235ced-59ff-46e0-9120-c52517ec89d1"
    },
    {
      "cell_type": "code",
      "source": [
        "# Rename all columns in data that contain a space \n",
        "\n",
        "### YOUR CODE HERE ### \n",
        "\n"
      ],
      "metadata": {
        "id": "ac28fd29-44d9-4842-9c94-0aa9bd8ebb04"
      },
      "execution_count": null,
      "outputs": [],
      "id": "ac28fd29-44d9-4842-9c94-0aa9bd8ebb04"
    },
    {
      "cell_type": "markdown",
      "source": [
        "<details>\n",
        "<summary><h4><strong>HINT 1</strong></h4></summary>\n",
        "\n",
        "There is one column name that contains a space. Look for it in `data`.\n",
        "\n",
        "</details>"
      ],
      "metadata": {
        "id": "f6ee1e20-acb5-4c7a-ac25-bb6891825895"
      },
      "id": "f6ee1e20-acb5-4c7a-ac25-bb6891825895"
    },
    {
      "cell_type": "markdown",
      "source": [
        "<details>\n",
        "<summary><h4><strong>HINT 2</strong></h4></summary>\n",
        "\n",
        "The `Social Media` column name in `data` contains a space, which is not allowed in the `ols()` function.\n",
        "\n",
        "</details>"
      ],
      "metadata": {
        "id": "ed1e4f56-c792-4355-bbb3-59da85f67a1e"
      },
      "id": "ed1e4f56-c792-4355-bbb3-59da85f67a1e"
    },
    {
      "cell_type": "markdown",
      "source": [
        "<details>\n",
        "<summary><h4><strong>HINT 3</strong></h4></summary>\n",
        "\n",
        "Use the `rename()` function in `pandas` and use the `columns` argument to provide a new name for `Social Media`.\n",
        "\n",
        "</details>"
      ],
      "metadata": {
        "id": "e146d3ff-3ab5-4eb7-a789-5e4300ecaf9d"
      },
      "id": "e146d3ff-3ab5-4eb7-a789-5e4300ecaf9d"
    },
    {
      "cell_type": "markdown",
      "source": [
        "## Step 3. Model Building"
      ],
      "metadata": {
        "id": "888c90fa-d800-43e4-a692-9fdd576c9b9c"
      },
      "id": "888c90fa-d800-43e4-a692-9fdd576c9b9c"
    },
    {
      "cell_type": "markdown",
      "source": [
        "Using the independent variables of your choice, fit a multiple linear regression model that predicts `Sales` using two or more independent variables from `data`."
      ],
      "metadata": {
        "id": "9c906193-db62-4af0-83fa-dffafc347554"
      },
      "id": "9c906193-db62-4af0-83fa-dffafc347554"
    },
    {
      "cell_type": "code",
      "source": [
        "# Define the OLS formula\n",
        "\n",
        "### YOUR CODE HERE ### \n",
        "\n",
        "\n",
        "# Create an OLS model\n",
        "\n",
        "### YOUR CODE HERE ### \n",
        "\n",
        "\n",
        "# Fit the model\n",
        "\n",
        "### YOUR CODE HERE ### \n",
        "\n",
        "\n",
        "# Save the results summary\n",
        "\n",
        "### YOUR CODE HERE ### \n",
        "\n",
        "\n",
        "# Display the model results\n",
        "\n",
        "### YOUR CODE HERE ### \n"
      ],
      "metadata": {
        "id": "76f99341-1ea0-4f1d-a2c7-54e56bd57e38"
      },
      "execution_count": null,
      "outputs": [],
      "id": "76f99341-1ea0-4f1d-a2c7-54e56bd57e38"
    },
    {
      "cell_type": "markdown",
      "source": [
        "<details>\n",
        "<summary><h4><strong>HINT 1</strong></h4></summary>\n",
        "\n",
        "You may find it helpful to refer back to the materials that discuss model building for linear regression. \n",
        "\n",
        "</details>"
      ],
      "metadata": {
        "jp-MarkdownHeadingCollapsed": true,
        "tags": [],
        "id": "109e32f5-8193-4961-8245-6b6c09acfe3a"
      },
      "id": "109e32f5-8193-4961-8245-6b6c09acfe3a"
    },
    {
      "cell_type": "markdown",
      "source": [
        "<details>\n",
        "<summary><h4><strong>HINT 2</strong></h4></summary>\n",
        "\n",
        "Use the `ols()` function imported earlier, which creates a model from a formula and dataframe, to create an OLS model.\n",
        "\n",
        "</details>\n"
      ],
      "metadata": {
        "id": "49424e08-3472-44f1-a892-63ed80517510"
      },
      "id": "49424e08-3472-44f1-a892-63ed80517510"
    },
    {
      "cell_type": "markdown",
      "source": [
        "<details>\n",
        "<summary><h4><strong>HINT 3</strong></h4></summary>\n",
        "\n",
        "You previously learned how to specify in `ols()` that a feature is categorical. \n",
        "    \n",
        "Be sure the string names for the independent variables exactly match the column names in `data`.\n",
        "\n",
        "</details>"
      ],
      "metadata": {
        "jp-MarkdownHeadingCollapsed": true,
        "tags": [],
        "id": "0ee5dead-ed62-45d5-ab24-d671d8c3dde4"
      },
      "id": "0ee5dead-ed62-45d5-ab24-d671d8c3dde4"
    },
    {
      "cell_type": "markdown",
      "source": [
        "#### **QUESTION 4: Which independent variables did you choose for the model, and why?**\n",
        "\n"
      ],
      "metadata": {
        "tags": [],
        "id": "1d889a8b-76f5-4f27-833f-a19af27ed8ca"
      },
      "id": "1d889a8b-76f5-4f27-833f-a19af27ed8ca"
    },
    {
      "cell_type": "markdown",
      "source": [],
      "metadata": {
        "id": "OCCzMeFc5CYv"
      },
      "id": "OCCzMeFc5CYv"
    },
    {
      "cell_type": "markdown",
      "source": [
        "### Check model assumptions"
      ],
      "metadata": {
        "tags": [],
        "id": "b4987bee-40ae-4513-95c3-1bec1acdbba9"
      },
      "id": "b4987bee-40ae-4513-95c3-1bec1acdbba9"
    },
    {
      "cell_type": "markdown",
      "source": [
        "For multiple linear regression, there is an additional assumption added to the four simple linear regression assumptions: *multicollinearity*. \n",
        "\n",
        "Check that all five multiple linear regression assumptions are upheld for your model."
      ],
      "metadata": {
        "id": "6854af88-7d67-4214-a7df-c6405b46bb47"
      },
      "id": "6854af88-7d67-4214-a7df-c6405b46bb47"
    },
    {
      "cell_type": "markdown",
      "source": [
        "### Model Assumption - Linearity"
      ],
      "metadata": {
        "id": "72eeb1c7-2f17-44fe-ac3f-71d555c2d81e"
      },
      "id": "72eeb1c7-2f17-44fe-ac3f-71d555c2d81e"
    },
    {
      "cell_type": "markdown",
      "source": [
        "Create scatterplots comparing the continuous independent variable(s) you selected above with `Sales` to check the linearity assumption.\n",
        "\n",
        "**Note:** You can use the pairplot you created earlier to verify the linearity assumption or you can create new scatterplots comparing the variables of interest."
      ],
      "metadata": {
        "id": "6f042e3e-ba44-4f93-b37d-421cf93d560f"
      },
      "id": "6f042e3e-ba44-4f93-b37d-421cf93d560f"
    },
    {
      "cell_type": "code",
      "source": [
        "# Create a scatterplot for each independent variable and the dependent variable\n",
        "\n",
        "### YOUR CODE HERE ### \n",
        "\n"
      ],
      "metadata": {
        "id": "52036579-1a91-4250-966e-035fc0371f8f"
      },
      "execution_count": null,
      "outputs": [],
      "id": "52036579-1a91-4250-966e-035fc0371f8f"
    },
    {
      "cell_type": "markdown",
      "source": [
        "<details>\n",
        "<summary><h4><strong>HINT 1</strong></h4></summary>\n",
        "\n",
        "There is a function in the `seaborn` library that allows you to create a scatterplot to display the values for two variables.\n",
        "\n",
        "</details>"
      ],
      "metadata": {
        "id": "330dc5d1-2013-484b-b2aa-15ec71ee68a4"
      },
      "id": "330dc5d1-2013-484b-b2aa-15ec71ee68a4"
    },
    {
      "cell_type": "markdown",
      "source": [
        "<details>\n",
        "<summary><h4><strong>HINT 2</strong></h4></summary>\n",
        "\n",
        "Use the `scatterplot()` function in `seaborn`.\n",
        "\n",
        "</details>"
      ],
      "metadata": {
        "id": "a247c7c5-f32b-4829-97a6-f745bbac3b70"
      },
      "id": "a247c7c5-f32b-4829-97a6-f745bbac3b70"
    },
    {
      "cell_type": "markdown",
      "source": [
        "<details>\n",
        "<summary><h4><strong>HINT 3</strong></h4></summary>\n",
        "    \n",
        "Pass the independent and dependent variables in your model as the arguments for `x` and `y`, respectively, in the `scatterplot()` function. Do this for each continous independent variable in your model.\n",
        "\n",
        "</details>"
      ],
      "metadata": {
        "id": "4d1b8824-781d-4e8d-a2ba-e2658d7751e0"
      },
      "id": "4d1b8824-781d-4e8d-a2ba-e2658d7751e0"
    },
    {
      "cell_type": "markdown",
      "source": [
        "#### **QUESTION 5: Is the linearity assumption met?**\n"
      ],
      "metadata": {
        "id": "66de8f0b-fd6b-456f-add6-f893dc33d911"
      },
      "id": "66de8f0b-fd6b-456f-add6-f893dc33d911"
    },
    {
      "cell_type": "markdown",
      "source": [
        "### Model Assumption - Independence"
      ],
      "metadata": {
        "id": "892bb8a6-c4e1-4439-96bb-53125d509492"
      },
      "id": "892bb8a6-c4e1-4439-96bb-53125d509492"
    },
    {
      "cell_type": "markdown",
      "source": [
        "The independent observation assumption states that each observation in the dataset is independent. As each marketing promotion (i.e., row) is independent from one another, the independence assumption is not violated."
      ],
      "metadata": {
        "id": "feeb314a-bbbe-4e9a-8561-2f8af0cd172e"
      },
      "id": "feeb314a-bbbe-4e9a-8561-2f8af0cd172e"
    },
    {
      "cell_type": "markdown",
      "source": [
        "### Model Assumption - Normality"
      ],
      "metadata": {
        "id": "59e4bb03-4ea6-4954-9ebc-3cc0d98eb0b0"
      },
      "id": "59e4bb03-4ea6-4954-9ebc-3cc0d98eb0b0"
    },
    {
      "cell_type": "markdown",
      "source": [
        "Create the following plots to check the normality assumption:\n",
        "* **Plot 1**: Histogram of the residuals\n",
        "* **Plot 2**: QQ plot of the residuals"
      ],
      "metadata": {
        "id": "bcccf5c8-3325-4b1e-b491-f151bea5ab1c"
      },
      "id": "bcccf5c8-3325-4b1e-b491-f151bea5ab1c"
    },
    {
      "cell_type": "code",
      "source": [
        "# Calculate the residuals\n",
        "\n",
        "### YOUR CODE HERE ### \n",
        "\n",
        "\n",
        "# Create a histogram with the residuals \n",
        "\n",
        "### YOUR CODE HERE ### \n",
        "\n",
        "\n",
        "# Create a QQ plot of the residuals\n",
        "\n",
        "### YOUR CODE HERE ### \n",
        "\n"
      ],
      "metadata": {
        "id": "cce8f99b-33e2-4723-9266-4f009e7a15dd"
      },
      "execution_count": null,
      "outputs": [],
      "id": "cce8f99b-33e2-4723-9266-4f009e7a15dd"
    },
    {
      "cell_type": "markdown",
      "source": [
        "<details>\n",
        "<summary><h4><strong>HINT 1</strong></h4></summary>\n",
        "\n",
        "You can access the residuals from the fit model object.\n",
        "\n",
        "</details>"
      ],
      "metadata": {
        "jp-MarkdownHeadingCollapsed": true,
        "tags": [],
        "id": "39538404-e292-4564-b361-46353fc8e3f0"
      },
      "id": "39538404-e292-4564-b361-46353fc8e3f0"
    },
    {
      "cell_type": "markdown",
      "source": [
        "<details>\n",
        "<summary><h4><strong>HINT 2</strong></h4></summary>\n",
        "\n",
        "Use `model.resid` to get the residuals from a fit model called `model`.\n",
        "\n",
        "</details>"
      ],
      "metadata": {
        "id": "689dabc4-ad48-4c9e-976e-b70520801385"
      },
      "id": "689dabc4-ad48-4c9e-976e-b70520801385"
    },
    {
      "cell_type": "markdown",
      "source": [
        "<details>\n",
        "<summary><h4><strong>HINT 3</strong></h4></summary>\n",
        "\n",
        "For the histogram, pass the residuals as the first argument in the `seaborn` `histplot()` function.\n",
        "    \n",
        "For the QQ-plot, pass the residuals as the first argument in the `statsmodels` `qqplot()` function.\n",
        "\n",
        "</details>"
      ],
      "metadata": {
        "id": "562f868e-45e4-464a-a47e-9f1ed735d6a4"
      },
      "id": "562f868e-45e4-464a-a47e-9f1ed735d6a4"
    },
    {
      "cell_type": "markdown",
      "source": [
        "#### **QUESTION 6: Is the normality assumption met?**\n",
        "\n"
      ],
      "metadata": {
        "id": "e41f4dd7-5501-43b7-b684-58bad8ff61fb"
      },
      "id": "e41f4dd7-5501-43b7-b684-58bad8ff61fb"
    },
    {
      "cell_type": "markdown",
      "source": [],
      "metadata": {
        "id": "lDtSuMov5R6F"
      },
      "id": "lDtSuMov5R6F"
    },
    {
      "cell_type": "markdown",
      "source": [
        "### Model Assumption - Constant Variance"
      ],
      "metadata": {
        "id": "aee36b49-b0e4-4d86-9ca0-c12ec6ffe74d"
      },
      "id": "aee36b49-b0e4-4d86-9ca0-c12ec6ffe74d"
    },
    {
      "cell_type": "markdown",
      "source": [
        "Check the constant variance assumption is not violated by creating a scatter plot with the fitted values and residuals. Add a line at $y = 0$ to visualize the variance of residuals above and below $y = 0$."
      ],
      "metadata": {
        "id": "be83ac10-d1d0-4b94-88de-5de424528547"
      },
      "id": "be83ac10-d1d0-4b94-88de-5de424528547"
    },
    {
      "cell_type": "code",
      "source": [
        "# Create a scatter plot with the fitted values from the model and the residuals\n",
        "\n",
        "### YOUR CODE HERE ### \n",
        "\n",
        "\n",
        "# Add a line at y = 0 to visualize the variance of residuals above and below 0.\n",
        "\n",
        "### YOUR CODE HERE ### \n",
        "\n"
      ],
      "metadata": {
        "id": "efcd0325-b3a0-42d1-ad57-38f10800c35e"
      },
      "execution_count": null,
      "outputs": [],
      "id": "efcd0325-b3a0-42d1-ad57-38f10800c35e"
    },
    {
      "cell_type": "markdown",
      "source": [
        "<details>\n",
        "<summary><h4><strong>HINT 1</strong></h4></summary>\n",
        "\n",
        "You can access the fitted values from the model object fit earlier.\n",
        "\n",
        "</details>"
      ],
      "metadata": {
        "id": "662f104d-0977-498f-8159-501063f3c3fc"
      },
      "id": "662f104d-0977-498f-8159-501063f3c3fc"
    },
    {
      "cell_type": "markdown",
      "source": [
        "<details>\n",
        "<summary><h4><strong>HINT 2</strong></h4></summary>\n",
        "\n",
        "Use `model.fittedvalues` to get the fitted values from a fit model called `model`.\n",
        "\n",
        "</details>"
      ],
      "metadata": {
        "id": "b0a3d26c-1e80-46e3-849a-d7f054cffb52"
      },
      "id": "b0a3d26c-1e80-46e3-849a-d7f054cffb52"
    },
    {
      "cell_type": "markdown",
      "source": [
        "<details>\n",
        "<summary><h4><strong>HINT 3</strong></h4></summary>\n",
        "\n",
        "\n",
        "Call the `scatterplot()` function from the `seaborn` library and pass in the fitted values and residuals.\n",
        "    \n",
        "Add a line to a figure using the `axline()` function.\n",
        "\n",
        "</details>"
      ],
      "metadata": {
        "id": "5830cbfc-9204-42a6-b24f-3cf1334ff41e"
      },
      "id": "5830cbfc-9204-42a6-b24f-3cf1334ff41e"
    },
    {
      "cell_type": "markdown",
      "source": [
        "#### **QUESTION 7: Is the homoscedasticity assumption met?**\n",
        "\n",
        "\n"
      ],
      "metadata": {
        "id": "8318f726-369c-446a-acad-85117e43459b"
      },
      "id": "8318f726-369c-446a-acad-85117e43459b"
    },
    {
      "cell_type": "markdown",
      "source": [],
      "metadata": {
        "id": "Z_L3I-zc5QQk"
      },
      "id": "Z_L3I-zc5QQk"
    },
    {
      "cell_type": "markdown",
      "source": [
        "### Model Assumption - Multicollinearity"
      ],
      "metadata": {
        "id": "1689e730-9973-4574-bf9f-6fba303c4cc4"
      },
      "id": "1689e730-9973-4574-bf9f-6fba303c4cc4"
    },
    {
      "cell_type": "markdown",
      "source": [
        "The *no multicollinearity* assumption states that no two independent variables ($X_i$ and $X_j$) can be highly correlated with each other. \n",
        "\n",
        "Two common ways to check for multicollinearity are to:\n",
        "* Create scatterplots to show the relationship between pairs of independent variables\n",
        "* Use the variance inflation factor to detect multicollinearity\n",
        "\n",
        "Use one of these two methods to check your model's no multicollinearity assumption."
      ],
      "metadata": {
        "id": "f53a057f-7f7a-446e-826f-4f3383145453"
      },
      "id": "f53a057f-7f7a-446e-826f-4f3383145453"
    },
    {
      "cell_type": "code",
      "source": [
        "# Create a pairplot of the data\n",
        "\n",
        "### YOUR CODE HERE ### \n",
        "\n"
      ],
      "metadata": {
        "id": "0609c527-fb44-4b79-927d-6e75c4510e8d"
      },
      "execution_count": null,
      "outputs": [],
      "id": "0609c527-fb44-4b79-927d-6e75c4510e8d"
    },
    {
      "cell_type": "code",
      "source": [
        "# Calculate the variance inflation factor (optional)\n",
        "\n",
        "### YOUR CODE HERE ### \n",
        "\n"
      ],
      "metadata": {
        "id": "607a7bd6-4480-48f2-ba71-81a412b336ce"
      },
      "execution_count": null,
      "outputs": [],
      "id": "607a7bd6-4480-48f2-ba71-81a412b336ce"
    },
    {
      "cell_type": "markdown",
      "source": [
        "<details>\n",
        "<summary><h4><strong>HINT 1</strong></h4></summary>\n",
        "\n",
        "Refer to the material where creating plots for check the no multicollinearity assumption was introduced.\n",
        "\n",
        "</details>"
      ],
      "metadata": {
        "jp-MarkdownHeadingCollapsed": true,
        "tags": [],
        "id": "QZfT5vHPqjQ8"
      },
      "id": "QZfT5vHPqjQ8"
    },
    {
      "cell_type": "markdown",
      "source": [
        "<details>\n",
        "<summary><h4><strong>HINT 2</strong></h4></summary>\n",
        "\n",
        "The `pairplot()` function applied earlier to `data` plots the relationship between all continous variables, e.g., between `Radio` and `Social Media`.\n",
        "\n",
        "</details>"
      ],
      "metadata": {
        "id": "483b5bb6-8459-4407-abb0-fddc775c5c36"
      },
      "id": "483b5bb6-8459-4407-abb0-fddc775c5c36"
    },
    {
      "cell_type": "markdown",
      "source": [
        "<details>\n",
        "<summary><h4><strong>HINT 3</strong></h4></summary>\n",
        "\n",
        "The `statsmodels` library has a function to calculate the variance inflation factor called `variance_inflation_factor()`. \n",
        "    \n",
        "When using this function, subset the data to only include the continous independent variables, i.e., `Radio` and `Social Media`. Refer to external tutorials on how to apply the variance inflation factor function mentioned above.\n",
        " \n",
        "\n",
        "</details>"
      ],
      "metadata": {
        "id": "8958c9dd-11ac-4648-a3ee-07f9887966fe"
      },
      "id": "8958c9dd-11ac-4648-a3ee-07f9887966fe"
    },
    {
      "cell_type": "markdown",
      "source": [
        "#### **QUESTION 8: Is the no multicollinearity assumption met?**\n",
        "\n"
      ],
      "metadata": {
        "id": "742acde3-9164-4b55-b711-6339e874a37c"
      },
      "id": "742acde3-9164-4b55-b711-6339e874a37c"
    },
    {
      "cell_type": "markdown",
      "source": [
        "## Step 4. Results and Evaluation"
      ],
      "metadata": {
        "id": "84373d80-2129-4124-85fa-85871671004b"
      },
      "id": "84373d80-2129-4124-85fa-85871671004b"
    },
    {
      "cell_type": "markdown",
      "source": [
        "If the linearity assumptions are met, the model results can be appropriately interpreted.\n",
        "\n",
        "First, display the OLS Regression Results."
      ],
      "metadata": {
        "id": "30f5a3e8-a446-4a64-a0cb-4a512a367111"
      },
      "id": "30f5a3e8-a446-4a64-a0cb-4a512a367111"
    },
    {
      "cell_type": "code",
      "source": [
        "# Display the model results summary\n",
        "\n",
        "### YOUR CODE HERE ### \n",
        "\n"
      ],
      "metadata": {
        "id": "7d0bfc27-05f7-4cfa-9aa1-8e2110eabd69"
      },
      "execution_count": null,
      "outputs": [],
      "id": "7d0bfc27-05f7-4cfa-9aa1-8e2110eabd69"
    },
    {
      "cell_type": "markdown",
      "source": [
        "#### **QUESTION 9:  What is your interpretation of the model's R-squared?**\n",
        "\n"
      ],
      "metadata": {
        "id": "b29062e1-5c7f-4a78-b782-a07236bbcc28"
      },
      "id": "b29062e1-5c7f-4a78-b782-a07236bbcc28"
    },
    {
      "cell_type": "markdown",
      "source": [],
      "metadata": {
        "id": "zfGBVqxU5TTd"
      },
      "id": "zfGBVqxU5TTd"
    },
    {
      "cell_type": "markdown",
      "source": [
        "### Interpreting model coefficients"
      ],
      "metadata": {
        "id": "39504539-44c5-4d88-bfb1-7fd9a8c0c8d9"
      },
      "id": "39504539-44c5-4d88-bfb1-7fd9a8c0c8d9"
    },
    {
      "cell_type": "markdown",
      "source": [
        "With the model fit evaluated, you can look at the coefficient estimates and the uncertainty of these estimates.\n",
        "\n",
        "Again, display the OLS Regression Results."
      ],
      "metadata": {
        "id": "d1bcd73c-449d-4bd8-8f70-91e27e577c2f"
      },
      "id": "d1bcd73c-449d-4bd8-8f70-91e27e577c2f"
    },
    {
      "cell_type": "code",
      "source": [
        "# Display the model results summary\n",
        "\n",
        "### YOUR CODE HERE ### \n",
        "\n"
      ],
      "metadata": {
        "id": "083b952e-deca-4532-acdb-e2113880751e"
      },
      "execution_count": null,
      "outputs": [],
      "id": "083b952e-deca-4532-acdb-e2113880751e"
    },
    {
      "cell_type": "markdown",
      "source": [
        "#### **QUESTION 10: What are the model coefficients?**\n",
        "\n"
      ],
      "metadata": {
        "id": "bc293d6c-0e33-4613-8b4c-c6d27b48d903"
      },
      "id": "bc293d6c-0e33-4613-8b4c-c6d27b48d903"
    },
    {
      "cell_type": "markdown",
      "source": [],
      "metadata": {
        "id": "o_D7L39q5Xv4"
      },
      "id": "o_D7L39q5Xv4"
    },
    {
      "cell_type": "markdown",
      "source": [
        "#### **QUESTION 11: How would you write the relationship between `Sales` and the independent variables as a linear equation?**\n",
        "\n"
      ],
      "metadata": {
        "id": "9826fb29-2740-4f19-b4dc-326cf3de2ca8"
      },
      "id": "9826fb29-2740-4f19-b4dc-326cf3de2ca8"
    },
    {
      "cell_type": "markdown",
      "source": [],
      "metadata": {
        "id": "8_g0Yl1z5Zj5"
      },
      "id": "8_g0Yl1z5Zj5"
    },
    {
      "cell_type": "markdown",
      "source": [
        "#### **QUESTION 12: What is your intepretation of the coefficient estimates? Are the coefficients statistically significant?**\n",
        "\n"
      ],
      "metadata": {
        "jp-MarkdownHeadingCollapsed": true,
        "tags": [],
        "id": "8ca575f3-cbba-4a0a-99d0-b8bf82ea49e4"
      },
      "id": "8ca575f3-cbba-4a0a-99d0-b8bf82ea49e4"
    },
    {
      "cell_type": "markdown",
      "source": [],
      "metadata": {
        "id": "u8ARb9Dh5asn"
      },
      "id": "u8ARb9Dh5asn"
    },
    {
      "cell_type": "markdown",
      "source": [
        "#### **QUESTION 13: Why is it important to interpret the beta coefficients?**\n",
        "\n"
      ],
      "metadata": {
        "id": "4affd7d9-656b-4c8a-adaa-69e4e26d13bd"
      },
      "id": "4affd7d9-656b-4c8a-adaa-69e4e26d13bd"
    },
    {
      "cell_type": "markdown",
      "source": [],
      "metadata": {
        "id": "24w7tW-c5kDu"
      },
      "id": "24w7tW-c5kDu"
    },
    {
      "cell_type": "markdown",
      "source": [
        "#### **QUESTION 14: What are you interested in exploring based on your model?**\n",
        "\n"
      ],
      "metadata": {
        "tags": [],
        "id": "9aa744ec-f277-4110-b237-6d278f773e15"
      },
      "id": "9aa744ec-f277-4110-b237-6d278f773e15"
    },
    {
      "cell_type": "markdown",
      "source": [],
      "metadata": {
        "id": "unDgab5O5kc1"
      },
      "id": "unDgab5O5kc1"
    },
    {
      "cell_type": "markdown",
      "source": [
        "#### **QUESTION 15: Do you think your model could be improved? Why or why not? How?**\n",
        "\n",
        "\n"
      ],
      "metadata": {
        "tags": [],
        "id": "e6066524-9394-44d0-8da1-6b72f0dc5f10"
      },
      "id": "e6066524-9394-44d0-8da1-6b72f0dc5f10"
    },
    {
      "cell_type": "markdown",
      "source": [],
      "metadata": {
        "id": "kHOKq-eg5k27"
      },
      "id": "kHOKq-eg5k27"
    },
    {
      "cell_type": "markdown",
      "source": [
        "## Conclusion"
      ],
      "metadata": {
        "id": "c626bd63-c4d3-4925-86e3-f03113021740"
      },
      "id": "c626bd63-c4d3-4925-86e3-f03113021740"
    },
    {
      "cell_type": "markdown",
      "source": [
        "**What are the key takeaways from this lab?**\n",
        "\n",
        "\n",
        "**What results can be presented from this lab?**\n",
        "\n",
        "\n",
        "**How would you frame your findings to external stakeholders?**\n",
        "\n"
      ],
      "metadata": {
        "id": "f3d533b2-4491-449d-be3d-7dd5144fa710"
      },
      "id": "f3d533b2-4491-449d-be3d-7dd5144fa710"
    },
    {
      "cell_type": "markdown",
      "source": [
        "#### **References**\n",
        "\n",
        "Saragih, H.S. *Dummy Marketing and Sales Data*. https://www.kaggle.com/datasets/harrimansaragih/dummy-advertising-and-sales-data."
      ],
      "metadata": {
        "id": "88b01fcc-e016-4cd5-aedc-a71e51276fe2"
      },
      "id": "88b01fcc-e016-4cd5-aedc-a71e51276fe2"
    }
  ]
}